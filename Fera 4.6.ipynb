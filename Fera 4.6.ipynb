{
 "cells": [
  {
   "cell_type": "markdown",
   "metadata": {},
   "source": [
    "# **<span style=\"font-family: 'Palatino Linotype', serif;\">🧠🖼️🧪E se meus dados forem imagens? </span>**\n",
    "----\n",
    "*<span style=\"font-family: 'Angilla Tattoo'\"> \"Nos confins do universo digital, onde dados se tornam imagens e imagens se tornam almas, Maga Patolina e Maga Butterfly traçam os caminhos entre o código e o caos, desvendando o poder oculto nas transformações infinitas do saber.\" 🦆🦋💻🌌 </span>*\n",
    "\n",
    "\n",
    "\n",
    "<div align=\"center\">\n",
    "    <img src = \"Patolina e Borboleta.png\" alt = \"Magas pop\" width = 350>\n",
    "</div>\n",
    "\n",
    "----\n",
    " **Objetivo:** Nesse notebook, iremos implementar uma rede neural convolucional (CNN) utilizando PyTorch e treiná-la com o banco de imagens MNIST.\n",
    "\n",
    " ----"
   ]
  },
  {
   "cell_type": "code",
   "execution_count": 2,
   "metadata": {},
   "outputs": [],
   "source": [
    "import torch\n",
    "import torchvision\n",
    "import torchvision.transforms as transforms\n",
    "from torch.utils.data import DataLoader\n",
    "\n",
    "import torch\n",
    "import torch.nn.functional as F\n",
    "import torchvision.datasets as datasets\n",
    "import torchvision.transforms as transforms\n",
    "from torch import optim\n",
    "from torch import nn\n",
    "from torch.utils.data import DataLoader\n",
    "from tqdm import tqdm\n"
   ]
  },
  {
   "cell_type": "code",
   "execution_count": 3,
   "metadata": {},
   "outputs": [],
   "source": [
    "# Essa função irá tranformar os dados em tensores e normalizá-los\n",
    "transform = transforms.Compose([\n",
    "    transforms.ToTensor(),\n",
    "    transforms.Normalize((0.1307,), (0.3081,))\n",
    "])"
   ]
  },
  {
   "cell_type": "code",
   "execution_count": 4,
   "metadata": {},
   "outputs": [],
   "source": [
    "train_dataset = torchvision.datasets.MNIST(\n",
    "    root='./data', train=True, download=True, transform=transform\n",
    ")\n",
    "\n",
    "test_dataset = torchvision.datasets.MNIST(\n",
    "    root='./data', train=False, download=True, transform=transform\n",
    ")\n"
   ]
  },
  {
   "cell_type": "code",
   "execution_count": 5,
   "metadata": {},
   "outputs": [],
   "source": [
    "class  CNN (nn.Module): \n",
    "    def  __init__ (self, num_dados_entrada, num_classes= 10 ): \n",
    "        \"\"\" \n",
    "        Define as camadas da rede neural convolucional. \n",
    "\n",
    "        Parâmetros: \n",
    "            num_dados_entrada: int \n",
    "                O número de canais na imagem de entrada. Para MNIST, é 1 (imagens em tons de cinza). \n",
    "            num_classes: int \n",
    "                O número de classes que queremos prever, no nosso caso 10 (dígitos de 0 a 9). \n",
    "        \"\"\" \n",
    "        super (CNN, self).__init__() \n",
    "        \n",
    "        #convolução de matriz quadrada\n",
    "        # padding (preenchimento): adição de pixels ao redor da borda de entrada\n",
    "        # 8 canis de saída\n",
    "        self.conv1 = nn.Conv2d(in_channels=num_dados_entrada, out_channels= 8 , kernel_size= 3 , stride = 1 , padding= 1)\n",
    "        \n",
    "        #pega a informação de maior relevância para fazer a previsão\n",
    "        self.pool = nn.MaxPool2d(kernel_size= 2 , stride = 2) \n",
    "        \n",
    "        #8 canais de entrada, 16 de saída\n",
    "        #mais convoluções para ficar melhor\n",
    "        self.conv2 = nn.Conv2d(in_channels = 8 , out_channels= 16 , kernel_size= 3 , stride= 1 , padding= 1 ) \n",
    "        \n",
    "        #camada totalmente conectada: todos os neurônios de entrada estão conectados a todos os neurônios de saída\n",
    "        #recursos de entrada e de saída\n",
    "        #faz a previsão\n",
    "        self.fc1 = nn.Linear( 16 * 7 * 7 , num_classes) \n",
    "        #quantidade de dados que entra após passar pelas 2 convoluções\n",
    "        \n",
    "    def  forward (self, x): \n",
    "        \"\"\" \n",
    "        Define a passagem para frente da rede neural. \n",
    "\n",
    "        Parâmetros: \n",
    "            x: torch.Tensor \n",
    "                O tensor de entrada. \n",
    "\n",
    "        Retorna: \n",
    "            torch.Tensor \n",
    "                O tensor de saída após passar pela rede. \n",
    "        \"\"\"\n",
    "        x = F.relu(self.conv1(x))   # Aplicar a primeira convolução e ativação ReLU\n",
    "        x = self.pool(x)            # Aplicar o agrupamento máximo\n",
    "        x = F.relu(self.conv2(x))   # Aplicar a segunda convolução e ativação ReLU\n",
    "        x = self.pool(x)            # Aplicar o agrupamento máximo\n",
    "        x = x.reshape(x.shape[ 0 ], - 1 ) # Achatar o tensor\n",
    "        x = self.fc1(x)             # Aplicar a camada totalmente conectada \n",
    "        return x"
   ]
  },
  {
   "cell_type": "code",
   "execution_count": 6,
   "metadata": {},
   "outputs": [],
   "source": [
    "device = \"cuda\" if torch.cuda.is_available() else \"cpu\""
   ]
  },
  {
   "cell_type": "code",
   "execution_count": 7,
   "metadata": {},
   "outputs": [],
   "source": [
    "#hiperparâmetros\n",
    "\n",
    "# input_size = 784  \n",
    "num_classes = 10  # digits 0-9\n",
    "taxa_de_aprendizado = 0.001\n",
    "batch_size = 64\n",
    "num_epochs = 10 \n"
   ]
  },
  {
   "cell_type": "code",
   "execution_count": 8,
   "metadata": {},
   "outputs": [],
   "source": [
    "train_dataset = datasets.MNIST(root=\"dataset/\", download=True, train=True, transform=transforms.ToTensor())\n",
    "train_loader = DataLoader(dataset=train_dataset, batch_size=batch_size, shuffle=True)\n",
    "\n",
    "test_dataset = datasets.MNIST(root=\"dataset/\", download=True, train=False, transform=transforms.ToTensor())\n",
    "test_loader = DataLoader(dataset=test_dataset, batch_size=batch_size, shuffle=True)"
   ]
  },
  {
   "cell_type": "code",
   "execution_count": 9,
   "metadata": {},
   "outputs": [],
   "source": [
    "modelo = CNN(num_dados_entrada=1, num_classes=num_classes).to(device)"
   ]
  },
  {
   "cell_type": "code",
   "execution_count": 10,
   "metadata": {},
   "outputs": [],
   "source": [
    "criterio = nn.CrossEntropyLoss()\n",
    "otimizador = optim.Adam(modelo.parameters(), lr=taxa_de_aprendizado)"
   ]
  },
  {
   "cell_type": "code",
   "execution_count": 11,
   "metadata": {},
   "outputs": [
    {
     "name": "stdout",
     "output_type": "stream",
     "text": [
      "Epoch [1/10]\n"
     ]
    },
    {
     "name": "stderr",
     "output_type": "stream",
     "text": [
      "  0%|          | 0/938 [00:00<?, ?it/s]"
     ]
    },
    {
     "name": "stderr",
     "output_type": "stream",
     "text": [
      "100%|██████████| 938/938 [02:36<00:00,  5.98it/s]\n"
     ]
    },
    {
     "name": "stdout",
     "output_type": "stream",
     "text": [
      "Epoch [2/10]\n"
     ]
    },
    {
     "name": "stderr",
     "output_type": "stream",
     "text": [
      "100%|██████████| 938/938 [01:51<00:00,  8.44it/s]\n"
     ]
    },
    {
     "name": "stdout",
     "output_type": "stream",
     "text": [
      "Epoch [3/10]\n"
     ]
    },
    {
     "name": "stderr",
     "output_type": "stream",
     "text": [
      "100%|██████████| 938/938 [02:38<00:00,  5.91it/s]\n"
     ]
    },
    {
     "name": "stdout",
     "output_type": "stream",
     "text": [
      "Epoch [4/10]\n"
     ]
    },
    {
     "name": "stderr",
     "output_type": "stream",
     "text": [
      "100%|██████████| 938/938 [02:21<00:00,  6.64it/s]\n"
     ]
    },
    {
     "name": "stdout",
     "output_type": "stream",
     "text": [
      "Epoch [5/10]\n"
     ]
    },
    {
     "name": "stderr",
     "output_type": "stream",
     "text": [
      "100%|██████████| 938/938 [02:40<00:00,  5.86it/s]\n"
     ]
    },
    {
     "name": "stdout",
     "output_type": "stream",
     "text": [
      "Epoch [6/10]\n"
     ]
    },
    {
     "name": "stderr",
     "output_type": "stream",
     "text": [
      "100%|██████████| 938/938 [02:39<00:00,  5.88it/s]\n"
     ]
    },
    {
     "name": "stdout",
     "output_type": "stream",
     "text": [
      "Epoch [7/10]\n"
     ]
    },
    {
     "name": "stderr",
     "output_type": "stream",
     "text": [
      "100%|██████████| 938/938 [02:40<00:00,  5.84it/s]\n"
     ]
    },
    {
     "name": "stdout",
     "output_type": "stream",
     "text": [
      "Epoch [8/10]\n"
     ]
    },
    {
     "name": "stderr",
     "output_type": "stream",
     "text": [
      "100%|██████████| 938/938 [02:48<00:00,  5.56it/s]\n"
     ]
    },
    {
     "name": "stdout",
     "output_type": "stream",
     "text": [
      "Epoch [9/10]\n"
     ]
    },
    {
     "name": "stderr",
     "output_type": "stream",
     "text": [
      "100%|██████████| 938/938 [03:06<00:00,  5.03it/s]\n"
     ]
    },
    {
     "name": "stdout",
     "output_type": "stream",
     "text": [
      "Epoch [10/10]\n"
     ]
    },
    {
     "name": "stderr",
     "output_type": "stream",
     "text": [
      "100%|██████████| 938/938 [2:27:18<00:00,  9.42s/it]     \n"
     ]
    }
   ],
   "source": [
    "for epoch in range(num_epochs):\n",
    "    print(f\"Epoch [{epoch + 1}/{num_epochs}]\")\n",
    "    for batch_index, (data, targets) in enumerate(tqdm(train_loader)):\n",
    "        # Move data and targets to the device (GPU/CPU)\n",
    "        data = data.to(device)\n",
    "        targets = targets.to(device)\n",
    "\n",
    "        # Forward pass: calcula a saida do modelo\n",
    "        scores = modelo(data)\n",
    "        loss = criterio(scores, targets)\n",
    "\n",
    "        # Backward pass: calcula o gradiente\n",
    "        otimizador.zero_grad()\n",
    "        loss.backward()\n",
    "\n",
    "        # atualiza os parâmetros do modelo\n",
    "        otimizador.step()"
   ]
  },
  {
   "cell_type": "code",
   "execution_count": 12,
   "metadata": {},
   "outputs": [
    {
     "data": {
      "image/png": "[encoded data removed]",
      "text/plain": [
       "<Figure size 1000x400 with 1 Axes>"
      ]
     },
     "metadata": {},
     "output_type": "display_data"
    },
    {
     "data": {
      "image/png": "[encoded data removed]",
      "text/plain": [
       "<Figure size 640x480 with 1 Axes>"
      ]
     },
     "metadata": {},
     "output_type": "display_data"
    },
    {
     "data": {
      "image/png": "[encoded data removed]",
      "text/plain": [
       "<Figure size 640x480 with 1 Axes>"
      ]
     },
     "metadata": {},
     "output_type": "display_data"
    },
    {
     "data": {
      "image/png": "[encoded data removed]",
      "text/plain": [
       "<Figure size 640x480 with 1 Axes>"
      ]
     },
     "metadata": {},
     "output_type": "display_data"
    },
    {
     "data": {
      "image/png": "[encoded data removed]",
      "text/plain": [
       "<Figure size 640x480 with 1 Axes>"
      ]
     },
     "metadata": {},
     "output_type": "display_data"
    },
    {
     "data": {
      "image/png": "[encoded data removed]",
      "text/plain": [
       "<Figure size 640x480 with 1 Axes>"
      ]
     },
     "metadata": {},
     "output_type": "display_data"
    },
    {
     "data": {
      "image/png": "[encoded data removed]",
      "text/plain": [
       "<Figure size 640x480 with 1 Axes>"
      ]
     },
     "metadata": {},
     "output_type": "display_data"
    },
    {
     "data": {
      "image/png": "[encoded data removed]",
      "text/plain": [
       "<Figure size 640x480 with 1 Axes>"
      ]
     },
     "metadata": {},
     "output_type": "display_data"
    },
    {
     "data": {
      "image/png": "[encoded data removed]",
      "text/plain": [
       "<Figure size 640x480 with 1 Axes>"
      ]
     },
     "metadata": {},
     "output_type": "display_data"
    },
    {
     "data": {
      "image/png": "[encoded data removed]",
      "text/plain": [
       "<Figure size 640x480 with 1 Axes>"
      ]
     },
     "metadata": {},
     "output_type": "display_data"
    },
    {
     "data": {
      "image/png": "[encoded data removed]",
      "text/plain": [
       "<Figure size 640x480 with 1 Axes>"
      ]
     },
     "metadata": {},
     "output_type": "display_data"
    },
    {
     "data": {
      "image/png": "[encoded data removed]",
      "text/plain": [
       "<Figure size 640x480 with 1 Axes>"
      ]
     },
     "metadata": {},
     "output_type": "display_data"
    }
   ],
   "source": [
    "import matplotlib.pyplot as plt\n",
    "modelo.eval()  # Coloca o modelo em modo de avaliaçãowith torch.no_grad():     \n",
    "exemplos = next(iter(test_loader))    \n",
    "imagens, etiquetas = exemplos[0].to(device), exemplos[1].to(device)              \n",
    "saidas = modelo(imagens)   \n",
    "_, predicoes = torch.max(saidas, 1)    \n",
    "fig = plt.figure(figsize=(10, 4))     \n",
    "for i in range(12): \n",
    "    plt.subplot(2, 6, i + 1)                           \n",
    "    plt.imshow(imagens[i].cpu().numpy().squeeze(), cmap='gray') \n",
    "    plt.title(f'Previsto: {predicoes[i]}, Real: {etiquetas[i]}') \n",
    "    plt.xticks([]) \n",
    "    plt.yticks([]) \n",
    "    plt.tight_layout()\n",
    "    plt.show()"
   ]
  },
  {
   "cell_type": "code",
   "execution_count": 15,
   "metadata": {},
   "outputs": [
    {
     "name": "stdout",
     "output_type": "stream",
     "text": [
      "Verificando a precisão nos dados de treinamento\n",
      "Obteve 59426 / 60000 com precisão 99.04333333333334 %\n",
      "Verificando a precisão nos dados de teste\n",
      "Obteve 9858 / 10000 com precisão 98.58 %\n"
     ]
    }
   ],
   "source": [
    "def  check_accuracy ( loader, modelo ): \n",
    "    \"\"\" \n",
    "    Verifica a precisão do modelo no carregador de conjunto de dados fornecido. \n",
    "\n",
    "    Parâmetros: \n",
    "        loader: DataLoader \n",
    "            O DataLoader para o conjunto de dados para verificar a precisão. \n",
    "        modelo: nn.Module \n",
    "            O modelo de rede neural. \n",
    "    \"\"\" \n",
    "    if loader.dataset.train: \n",
    "        print ( \"Verificando a precisão nos dados de treinamento\" ) \n",
    "    else : \n",
    "        print ( \"Verificando a precisão nos dados de teste\" ) \n",
    "\n",
    "    num_correct = 0\n",
    "    num_samples = 0\n",
    "    modelo. eval ()   # Define o modelo para o modo de avaliação \n",
    "\n",
    "    with torch.no_grad():   # Desabilita o cálculo de gradiente \n",
    "        for x, y in loader: \n",
    "            x = x.to(device) \n",
    "            y = y.to(device) \n",
    "\n",
    "            # Passagem para frente: calcula a saída do modelo\n",
    "            scores = modelo(x) \n",
    "            _, predictions = scores. max ( 1 )   # Obtém o índice da probabilidade máxima de logaritmo\n",
    "            num_correct +=(predictions == y). sum ()   # Contar previsões corretas\n",
    "            num_samples += predictions.size( 0 )   # Contar amostras totais \n",
    "\n",
    "        # Calcular precisão\n",
    "        accuracy = float (num_correct) / float (num_samples) * 100 \n",
    "        print ( f\"Obteve {num_correct} / {num_samples} com precisão {accuracy} %\" ) \n",
    "    \n",
    "    modelo.train()   # Retornar o modelo ao modo de treinamento \n",
    "\n",
    "# Verificação final de precisão nos conjuntos de treinamento e teste\n",
    "check_accuracy(train_loader, modelo) \n",
    "check_accuracy(test_loader, modelo)"
   ]
  }
 ],
 "metadata": {
  "kernelspec": {
   "display_name": "Python 3",
   "language": "python",
   "name": "python3"
  },
  "language_info": {
   "codemirror_mode": {
    "name": "ipython",
    "version": 3
   },
   "file_extension": ".py",
   "mimetype": "text/x-python",
   "name": "python",
   "nbconvert_exporter": "python",
   "pygments_lexer": "ipython3",
   "version": "3.11.6"
  }
 },
 "nbformat": 4,
 "nbformat_minor": 2
}
