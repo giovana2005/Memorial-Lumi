{
 "cells": [
  {
   "cell_type": "markdown",
   "metadata": {},
   "source": [
    "# **<span style=\"font-family: 'Palatino Linotype', serif;\">🧠🖼️🧪E se meus dados forem imagens? </span>**\n",
    "----\n",
    "*<span style=\"font-family: 'Angilla Tattoo'\"> \"Nos confins do universo digital, onde dados se tornam imagens e imagens se tornam almas, Maga Patolina e Maga Butterfly traçam os caminhos entre o código e o caos, desvendando o poder oculto nas transformações infinitas do saber.\" 🦆🦋💻🌌 </span>*\n",
    "\n",
    "\n",
    "\n",
    "<div align=\"center\">\n",
    "    <img src = \"Patolina e Borboleta.png\" alt = \"Magas pop\" width = 350>\n",
    "</div>\n",
    "\n",
    "----\n",
    " **Objetivo:** Nesse notebook, iremos implementar uma rede neural convolucional (CNN) utilizando PyTorch e treiná-la com o banco de imagens MNIST.\n",
    "\n",
    " ----"
   ]
  },
  {
   "cell_type": "markdown",
   "metadata": {},
   "source": [
    "### ❓ O que é a CNN?\n",
    "\n",
    "A CNN é uma rede neural utilizada para analisar imagens, através do processamento de imagens para identificar objetos, é um algoritmo de aprendizado profundo que recebe imagens e atribui importância (pesos e viés) para seus pixels e diferenciar um do outro. \n",
    "\n",
    "\n",
    "<div align=\"center\">\n",
    "    <img src = \"Resumo CNN.png\" alt = \"CNN\" width = 450>\n",
    "</div>\n",
    "\n",
    "Alguns conceitos importantes para entender a rede:\n",
    " \n",
    "1 - Campos receptivos locais: pequena janela de pixels de entrada (cada informação dessa terá pesos e um viés atribuído), que desliza por toda a imagem de entrada (como um kernel) e a cada deslocamento, os dados dos pixels serão direcionados à um neurônio diferente. A quantidade de pixels que ele anda por vez pode ser definida como um dos dados de entrada da CNN (é preciso realizar testes para saber a melhor quantidade de pixels paro o campo receptivo local).\n",
    " \n",
    "2 - Pesos compartilhados: para todos os neurônios da camada oculta, serão utilizados os mesmos valores de pesos e viés (diferente do que ocorre na MLP), isso define um kernel ou filtro. Para realizar o reconhecimento de uma imagem, serão utilizados diversos mapas de recursos, tornando o processo de seleção de parâmetros muito menor e facilitando o processo de  reconhecimento de imagens.\n",
    " \n",
    "3 - Pooling: são as camadas de agrupamento. Recebe as saídas do processo de convolução e realiza um agrupamento, isso deve ser aplicado em todos os mapas de recurso da função. Com isso, não é necessário saber a posição exata de um recurso em uma imagem, e sim sua posição em relação aos demais recursos.\n",
    " \n",
    "   Durante o funcionamento da rede começamos com uma matriz de entrada, em seguida, uma camada convolucional com diferentes mapas de recursos usa os campos receptivos locais, pesos e viéses fixos. O resultado disso será uma camada de neurônios ocultos que serão agrupados.\n",
    "   A camada convolutiva recebe: os dados de entrada, o filtro e um mapa de características. Sendo que, o filtro é uma matriz 3x3 que se move por uma imagem e realiza a multiplicação dos pixels de entrada e armazena seus valores em uma matriz com a saída dos resultados. Esse resultado é chamado de mapa de características, pois o filtro pode ser usado para determinar bordas, realçar detalhes, diminuir ruído, ou seja, delimita os componentes da imagem. Para transformar a imagem em uma série de valores númericos que podem ser processados pelo computador, um valor de transformação linear retificada dará a lineralidade a esse mapa de características.\n",
    "   Com a imagem sendo uma série de valores, agora teremos uma camada de agregação, a qual é composta por um filtro que agrega os valores de maior importância do mapa de características, isso é feito visando diminuir a complexidade dos dados e tornar menos custoso computacionalmente. Diferentes filtros podem ser aplicados e gerar diferentes mapas de características, até obter uma boa classificação da imagem. Por fim, para classificar os dados de entrada, será utilizada a função de ativação SoftMax que com uma camada totalmente ligada realiza a classificação de características extraídas de camadas anteriores.\n",
    "\n"
   ]
  },
  {
   "cell_type": "code",
   "execution_count": 52,
   "metadata": {},
   "outputs": [],
   "source": [
    "import torch\n",
    "import torchvision\n",
    "import torchvision.transforms as transforms\n",
    "from torch.utils.data import DataLoader\n",
    "\n",
    "import torch\n",
    "import torch.nn.functional as F\n",
    "import torchvision.datasets as datasets\n",
    "import torchvision.transforms as transforms\n",
    "from torch import optim\n",
    "from torch import nn\n",
    "from torch.utils.data import DataLoader\n",
    "from tqdm import tqdm\n"
   ]
  },
  {
   "cell_type": "code",
   "execution_count": 53,
   "metadata": {},
   "outputs": [],
   "source": [
    "# Essa função irá tranformar os dados em tensores e normalizá-los\n",
    "transform = transforms.Compose([\n",
    "    transforms.ToTensor(),\n",
    "    transforms.Normalize((0.1307,), (0.3081,))\n",
    "])"
   ]
  },
  {
   "cell_type": "code",
   "execution_count": 54,
   "metadata": {},
   "outputs": [],
   "source": [
    "train_dataset = torchvision.datasets.FashionMNIST(\n",
    "    root='./data', train=True, download=True, transform=transform\n",
    ")\n",
    "\n",
    "test_dataset = torchvision.datasets.FashionMNIST(\n",
    "    root='./data', train=False, download=True, transform=transform\n",
    ")\n"
   ]
  },
  {
   "cell_type": "code",
   "execution_count": 55,
   "metadata": {},
   "outputs": [],
   "source": [
    "class  CNN (nn.Module): \n",
    "    def  __init__ (self, num_dados_entrada, num_classes= 10 ): \n",
    "        \"\"\" \n",
    "        Define as camadas da rede neural convolucional. \n",
    "\n",
    "        Parâmetros: \n",
    "            num_dados_entrada: int \n",
    "                O número de canais na imagem de entrada. Para MNIST, é 1 (imagens em tons de cinza). \n",
    "            num_classes: int \n",
    "                O número de classes que queremos prever, no nosso caso 10 (dígitos de 0 a 9). \n",
    "        \"\"\" \n",
    "        super (CNN, self).__init__() \n",
    "        \n",
    "        #convolução de matriz quadrada\n",
    "        # padding (preenchimento): adição de pixels ao redor da borda de entrada\n",
    "        # 8 canis de saída\n",
    "        self.conv1 = nn.Conv2d(in_channels=num_dados_entrada, out_channels= 8 , kernel_size= 3 , stride = 1 , padding= 1)\n",
    "        \n",
    "        #pega a informação de maior relevância para fazer a previsão\n",
    "        self.pool = nn.MaxPool2d(kernel_size= 2 , stride = 2) \n",
    "        \n",
    "        #8 canais de entrada, 16 de saída\n",
    "        #mais convoluções para ficar melhor\n",
    "        self.conv2 = nn.Conv2d(in_channels = 8 , out_channels= 16 , kernel_size= 3 , stride= 1 , padding= 1 ) \n",
    "        \n",
    "        #camada totalmente conectada: todos os neurônios de entrada estão conectados a todos os neurônios de saída\n",
    "        #recursos de entrada e de saída\n",
    "        #faz a previsão\n",
    "        self.fc1 = nn.Linear( 16 * 7 * 7 , num_classes) \n",
    "        #quantidade de dados que entra após passar pelas 2 convoluções\n",
    "        \n",
    "    def  forward (self, x): \n",
    "        \"\"\" \n",
    "        Define a passagem para frente da rede neural. \n",
    "\n",
    "        Parâmetros: \n",
    "            x: torch.Tensor \n",
    "                O tensor de entrada. \n",
    "\n",
    "        Retorna: \n",
    "            torch.Tensor \n",
    "                O tensor de saída após passar pela rede. \n",
    "        \"\"\"\n",
    "        x = F.relu(self.conv1(x))   # Aplicar a primeira convolução e ativação ReLU\n",
    "        x = self.pool(x)            # Aplicar o agrupamento máximo\n",
    "        x = F.relu(self.conv2(x))   # Aplicar a segunda convolução e ativação ReLU\n",
    "        x = self.pool(x)            # Aplicar o agrupamento máximo\n",
    "        x = x.reshape(x.shape[ 0 ], - 1 ) # Achatar o tensor\n",
    "        x = self.fc1(x)             # Aplicar a camada totalmente conectada \n",
    "        return x"
   ]
  },
  {
   "cell_type": "code",
   "execution_count": 56,
   "metadata": {},
   "outputs": [],
   "source": [
    "device = \"cuda\" if torch.cuda.is_available() else \"cpu\""
   ]
  },
  {
   "cell_type": "code",
   "execution_count": 57,
   "metadata": {},
   "outputs": [],
   "source": [
    "#hiperparâmetros\n",
    "\n",
    "# input_size = 784  \n",
    "num_classes = 10  # digits 0-9\n",
    "taxa_de_aprendizado = 0.001\n",
    "batch_size = 64\n",
    "num_epochs = 10 \n"
   ]
  },
  {
   "cell_type": "code",
   "execution_count": 58,
   "metadata": {},
   "outputs": [],
   "source": [
    "train_dataset = datasets.FashionMNIST(root=\"dataset/\", download=True, train=True, transform=transforms.ToTensor())\n",
    "train_loader = DataLoader(dataset=train_dataset, batch_size=batch_size, shuffle=True)\n",
    "\n",
    "test_dataset = datasets.FashionMNIST(root=\"dataset/\", download=True, train=False, transform=transforms.ToTensor())\n",
    "test_loader = DataLoader(dataset=test_dataset, batch_size=batch_size, shuffle=True)"
   ]
  },
  {
   "cell_type": "code",
   "execution_count": 59,
   "metadata": {},
   "outputs": [],
   "source": [
    "modelo = CNN(num_dados_entrada=1, num_classes=num_classes).to(device)"
   ]
  },
  {
   "cell_type": "code",
   "execution_count": 60,
   "metadata": {},
   "outputs": [],
   "source": [
    "criterio = nn.CrossEntropyLoss()\n",
    "otimizador = optim.Adam(modelo.parameters(), lr=taxa_de_aprendizado)"
   ]
  },
  {
   "cell_type": "code",
   "execution_count": 61,
   "metadata": {},
   "outputs": [
    {
     "name": "stdout",
     "output_type": "stream",
     "text": [
      "Epoch [1/10]\n"
     ]
    },
    {
     "name": "stderr",
     "output_type": "stream",
     "text": [
      "100%|██████████| 938/938 [00:17<00:00, 52.84it/s]\n"
     ]
    },
    {
     "name": "stdout",
     "output_type": "stream",
     "text": [
      "Epoch [2/10]\n"
     ]
    },
    {
     "name": "stderr",
     "output_type": "stream",
     "text": [
      "100%|██████████| 938/938 [00:14<00:00, 65.73it/s]\n"
     ]
    },
    {
     "name": "stdout",
     "output_type": "stream",
     "text": [
      "Epoch [3/10]\n"
     ]
    },
    {
     "name": "stderr",
     "output_type": "stream",
     "text": [
      "100%|██████████| 938/938 [00:15<00:00, 61.37it/s]\n"
     ]
    },
    {
     "name": "stdout",
     "output_type": "stream",
     "text": [
      "Epoch [4/10]\n"
     ]
    },
    {
     "name": "stderr",
     "output_type": "stream",
     "text": [
      "100%|██████████| 938/938 [00:22<00:00, 40.94it/s]\n"
     ]
    },
    {
     "name": "stdout",
     "output_type": "stream",
     "text": [
      "Epoch [5/10]\n"
     ]
    },
    {
     "name": "stderr",
     "output_type": "stream",
     "text": [
      "100%|██████████| 938/938 [00:18<00:00, 50.49it/s]\n"
     ]
    },
    {
     "name": "stdout",
     "output_type": "stream",
     "text": [
      "Epoch [6/10]\n"
     ]
    },
    {
     "name": "stderr",
     "output_type": "stream",
     "text": [
      "100%|██████████| 938/938 [00:18<00:00, 51.82it/s]\n"
     ]
    },
    {
     "name": "stdout",
     "output_type": "stream",
     "text": [
      "Epoch [7/10]\n"
     ]
    },
    {
     "name": "stderr",
     "output_type": "stream",
     "text": [
      "100%|██████████| 938/938 [00:18<00:00, 51.26it/s]\n"
     ]
    },
    {
     "name": "stdout",
     "output_type": "stream",
     "text": [
      "Epoch [8/10]\n"
     ]
    },
    {
     "name": "stderr",
     "output_type": "stream",
     "text": [
      "100%|██████████| 938/938 [00:43<00:00, 21.72it/s]\n"
     ]
    },
    {
     "name": "stdout",
     "output_type": "stream",
     "text": [
      "Epoch [9/10]\n"
     ]
    },
    {
     "name": "stderr",
     "output_type": "stream",
     "text": [
      "100%|██████████| 938/938 [00:19<00:00, 47.38it/s]\n"
     ]
    },
    {
     "name": "stdout",
     "output_type": "stream",
     "text": [
      "Epoch [10/10]\n"
     ]
    },
    {
     "name": "stderr",
     "output_type": "stream",
     "text": [
      "100%|██████████| 938/938 [00:28<00:00, 32.61it/s]\n"
     ]
    }
   ],
   "source": [
    "for epoch in range(num_epochs):\n",
    "    print(f\"Epoch [{epoch + 1}/{num_epochs}]\")\n",
    "    for batch_index, (data, targets) in enumerate(tqdm(train_loader)):\n",
    "        # Move data and targets to the device (GPU/CPU)\n",
    "        data = data.to(device)\n",
    "        targets = targets.to(device)\n",
    "\n",
    "        # Forward pass: calcula a saida do modelo\n",
    "        scores = modelo(data)\n",
    "        loss = criterio(scores, targets)\n",
    "\n",
    "        # Backward pass: calcula o gradiente\n",
    "        otimizador.zero_grad()\n",
    "        loss.backward()\n",
    "\n",
    "        # atualiza os parâmetros do modelo\n",
    "        otimizador.step()"
   ]
  },
  {
   "cell_type": "code",
   "execution_count": 62,
   "metadata": {},
   "outputs": [
    {
     "data": {
      "image/png": "[encoded data removed]",
      "text/plain": [
       "<Figure size 1000x400 with 1 Axes>"
      ]
     },
     "metadata": {},
     "output_type": "display_data"
    },
    {
     "data": {
      "image/png": "[encoded data removed]",
      "text/plain": [
       "<Figure size 640x480 with 1 Axes>"
      ]
     },
     "metadata": {},
     "output_type": "display_data"
    },
    {
     "data": {
      "image/png": "[encoded data removed]",
      "text/plain": [
       "<Figure size 640x480 with 1 Axes>"
      ]
     },
     "metadata": {},
     "output_type": "display_data"
    },
    {
     "data": {
      "image/png": "[encoded data removed]",
      "text/plain": [
       "<Figure size 640x480 with 1 Axes>"
      ]
     },
     "metadata": {},
     "output_type": "display_data"
    },
    {
     "data": {
      "image/png": "[encoded data removed]",
      "text/plain": [
       "<Figure size 640x480 with 1 Axes>"
      ]
     },
     "metadata": {},
     "output_type": "display_data"
    },
    {
     "data": {
      "image/png": "[encoded data removed]",
      "text/plain": [
       "<Figure size 640x480 with 1 Axes>"
      ]
     },
     "metadata": {},
     "output_type": "display_data"
    },
    {
     "data": {
      "image/png": "[encoded data removed]",
      "text/plain": [
       "<Figure size 640x480 with 1 Axes>"
      ]
     },
     "metadata": {},
     "output_type": "display_data"
    },
    {
     "data": {
      "image/png": "[encoded data removed]",
      "text/plain": [
       "<Figure size 640x480 with 1 Axes>"
      ]
     },
     "metadata": {},
     "output_type": "display_data"
    },
    {
     "data": {
      "image/png": "[encoded data removed]",
      "text/plain": [
       "<Figure size 640x480 with 1 Axes>"
      ]
     },
     "metadata": {},
     "output_type": "display_data"
    },
    {
     "data": {
      "image/png": "[encoded data removed]",
      "text/plain": [
       "<Figure size 640x480 with 1 Axes>"
      ]
     },
     "metadata": {},
     "output_type": "display_data"
    },
    {
     "data": {
      "image/png": "[encoded data removed]",
      "text/plain": [
       "<Figure size 640x480 with 1 Axes>"
      ]
     },
     "metadata": {},
     "output_type": "display_data"
    },
    {
     "data": {
      "image/png": "[encoded data removed]",
      "text/plain": [
       "<Figure size 640x480 with 1 Axes>"
      ]
     },
     "metadata": {},
     "output_type": "display_data"
    }
   ],
   "source": [
    "import matplotlib.pyplot as plt\n",
    "modelo.eval()  # Coloca o modelo em modo de avaliaçãowith torch.no_grad():     \n",
    "exemplos = next(iter(test_loader))    \n",
    "imagens, etiquetas = exemplos[0].to(device), exemplos[1].to(device)              \n",
    "saidas = modelo(imagens)   \n",
    "_, predicoes = torch.max(saidas, 1)    \n",
    "fig = plt.figure(figsize=(10, 4))     \n",
    "for i in range(12): \n",
    "    plt.subplot(2, 6, i + 1)                           \n",
    "    plt.imshow(imagens[i].cpu().numpy().squeeze(), cmap='gray') \n",
    "    plt.title(f'Previsto: {predicoes[i]}, Real: {etiquetas[i]}') \n",
    "    plt.xticks([]) \n",
    "    plt.yticks([]) \n",
    "    plt.tight_layout()\n",
    "    plt.show()"
   ]
  },
  {
   "cell_type": "code",
   "execution_count": 63,
   "metadata": {},
   "outputs": [
    {
     "name": "stdout",
     "output_type": "stream",
     "text": [
      "Verificando a precisão nos dados de treinamento\n",
      "Obteve 54523 / 60000 com precisão 90.87166666666666 %\n",
      "Verificando a precisão nos dados de teste\n",
      "Obteve 8894 / 10000 com precisão 88.94 %\n"
     ]
    }
   ],
   "source": [
    "def  check_accuracy ( loader, modelo ): \n",
    "    \"\"\" \n",
    "    Verifica a precisão do modelo no carregador de conjunto de dados fornecido. \n",
    "\n",
    "    Parâmetros: \n",
    "        loader: DataLoader \n",
    "            O DataLoader para o conjunto de dados para verificar a precisão. \n",
    "        modelo: nn.Module \n",
    "            O modelo de rede neural. \n",
    "    \"\"\" \n",
    "    if loader.dataset.train: \n",
    "        print ( \"Verificando a precisão nos dados de treinamento\" ) \n",
    "    else : \n",
    "        print ( \"Verificando a precisão nos dados de teste\" ) \n",
    "\n",
    "    num_correct = 0\n",
    "    num_samples = 0\n",
    "    modelo. eval ()   # Define o modelo para o modo de avaliação \n",
    "\n",
    "    with torch.no_grad():   # Desabilita o cálculo de gradiente \n",
    "        for x, y in loader: \n",
    "            x = x.to(device) \n",
    "            y = y.to(device) \n",
    "\n",
    "            # Passagem para frente: calcula a saída do modelo\n",
    "            scores = modelo(x) \n",
    "            _, predictions = scores. max ( 1 )   # Obtém o índice da probabilidade máxima de logaritmo\n",
    "            num_correct +=(predictions == y). sum ()   # Contar previsões corretas\n",
    "            num_samples += predictions.size( 0 )   # Contar amostras totais \n",
    "\n",
    "        # Calcular precisão\n",
    "        accuracy = float (num_correct) / float (num_samples) * 100 \n",
    "        print ( f\"Obteve {num_correct} / {num_samples} com precisão {accuracy} %\" ) \n",
    "    \n",
    "    modelo.train()   # Retornar o modelo ao modo de treinamento \n",
    "\n",
    "# Verificação final de precisão nos conjuntos de treinamento e teste\n",
    "check_accuracy(train_loader, modelo) \n",
    "check_accuracy(test_loader, modelo)"
   ]
  },
  {
   "cell_type": "markdown",
   "metadata": {},
   "source": [
    "-----\n",
    "\n",
    "### 📊 Conclusão:\n",
    "\n",
    "Nesse notebook, exploramos uma rede neural do tipo CNN , a qual é uma útil para pevisão e classificação de imagens. Isso é importante pois consegue processar dados com estrutura de grade, ou seja, com pixels, como imagens. Por fim, também tivemos a oportunidade de aprender sobre aplicações para essa, tais como: sistemas de recomendação, reconhecimento facial, detecção de objetos entre demais utilidades.\n",
    "\n",
    "4.6 - Contribuição de cada membro: pesquisas para o entendimendo da rede neural CNN e a aplicação do código foram feitas em conjunto. Cabe ressaltar também que a aluna Giovana já havia apresentado um Lumi Talk sobre CNN, então também contribuiu com estudos prévios sobre o tema.\n",
    "\n",
    "----\n",
    "### 📚 Referências:\n",
    "\n",
    "1. DSA, Equipe. Capítulo 40 - Introdução às Redes Neurais Convolucionais». Deep Learning Book, 8 de dezembro de 2022, <https://www.deeplearningbook.com.br/introducao-as-redes-neurais-convolucionais/>.\n",
    "Alves, Gisely. \n",
    "\n",
    "2. Entendendo Redes Convolucionais (CNNs). Neuronio BR, 12 de dezembro de 2018, <https://medium.com/neuronio-br/entendendo-redes-convolucionais-cnns-d10359f21184>.\n",
    "\n",
    "3. Introduction to Convolution Neural Network. GeeksforGeeks, 21 de agosto de 2017, <https://www.geeksforgeeks.org/introduction-convolution-neural-network/>.\n",
    "\n",
    "4. Introdução aos Autoencoders. Deep Learning Book. Disponível em: <https://www.deeplearningbook.com.br/introducao-aos-autoencoders/>. Acesso em: 27 abr. 2025.\n",
    "\n",
    "5. KANARIES. Python - nn-linear. Disponível em: <https://docs.kanaries.net/pt/topics/Python/nn-linear>. Acesso em: 27 abr. 2025.\n",
    "\n",
    "6. OPENAI. ChatGPT. 2025. Disponível em: <https://chatgpt.com/share/680e91ad-4c34-8005-906c-2a282c25852b>. Acesso em: 27 abr. 2025."
   ]
  }
 ],
 "metadata": {
  "kernelspec": {
   "display_name": "Python 3",
   "language": "python",
   "name": "python3"
  },
  "language_info": {
   "codemirror_mode": {
    "name": "ipython",
    "version": 3
   },
   "file_extension": ".py",
   "mimetype": "text/x-python",
   "name": "python",
   "nbconvert_exporter": "python",
   "pygments_lexer": "ipython3",
   "version": "3.11.6"
  }
 },
 "nbformat": 4,
 "nbformat_minor": 2
}
