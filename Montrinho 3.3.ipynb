{
 "cells": [
  {
   "cell_type": "markdown",
   "metadata": {},
   "source": [
    "# **<span style=\"font-family: 'Palatino Linotype', serif;\">🐍💰\"Classes em Python não pagam impostos sobre heranças\" </span>**\n",
    "----\n",
    "*<span style=\"font-family: 'Angilla Tattoo'\"> \"\"A Maga Patolina herdou o grande tomo do conhecimento dos dados e agora deve protegê-lo no Reino dos Patos!\" 🦆📜✨ </span>*\n",
    "\n",
    "<div align=\"center\">\n",
    "    <img src = \"Maga-patolina-protegendo-os-dados.png\" alt = \"Maga e os dados\" width = 300>\n",
    "</div>\n",
    "\n",
    "----\n",
    " **Objetivo:** Modelar um conceito científico utilizando herança de classes. Iremos formar uma classe que recebe o material, energia em eV do band gap e a densidade de fotocorrente de semicondutores. Em seguida, iremos criar uma herança que irá mostrar as alterações dos parâmetros para materiais dopados em relação aos puros.\n",
    "\n",
    "---\n"
   ]
  },
  {
   "cell_type": "markdown",
   "metadata": {},
   "source": [
    "### ⚡️🔩 Class Semicondutores:"
   ]
  },
  {
   "cell_type": "code",
   "execution_count": 12,
   "metadata": {},
   "outputs": [],
   "source": [
    "class Semicondutores:\n",
    "    \"\"\"Classe que representa as propriedades de um material semicondutor\"\"\"\n",
    "    \n",
    "    def __init__(self, nome, dens_foto, energia):\n",
    "        self.nome = nome\n",
    "        self.dens_foto = dens_foto\n",
    "        self.energia = energia\n",
    "\n",
    "    def __repr__(self):\n",
    "        return f\"O semicondutor {self.nome} possui densidade de fotocorrente {self.dens_foto}mA/cm2 e energia de {self.energia}eV.\""
   ]
  },
  {
   "cell_type": "code",
   "execution_count": 18,
   "metadata": {},
   "outputs": [
    {
     "name": "stdout",
     "output_type": "stream",
     "text": [
      "O semicondutor SrTiO3 possui densidade de fotocorrente 0.04mA/cm2 e energia de 3.2eV.\n",
      "O semicondutor Fe2O3 possui densidade de fotocorrente 1.63mA/cm2 e energia de 2.2eV.\n",
      "O semicondutor CuO possui densidade de fotocorrente 3.15mA/cm2 e energia de 1.5eV.\n"
     ]
    }
   ],
   "source": [
    "titanato_estroncio = Semicondutores(\"SrTiO3\", 0.04 , 3.2)\n",
    "print(titanato_estroncio)\n",
    "\n",
    "hematita = Semicondutores(\"Fe2O3\", 1.63, 2.2)\n",
    "print(hematita)\n",
    "\n",
    "oxido_cobre = Semicondutores(\"CuO\", 3.15, 1.5)\n",
    "print(oxido_cobre)"
   ]
  },
  {
   "cell_type": "markdown",
   "metadata": {},
   "source": [
    "-----\n"
   ]
  },
  {
   "cell_type": "markdown",
   "metadata": {},
   "source": [
    "### 🧪💡Class Semicondutor_dopado:\n"
   ]
  },
  {
   "cell_type": "code",
   "execution_count": 31,
   "metadata": {},
   "outputs": [],
   "source": [
    "class Semicondutores_dopados(Semicondutores):\n",
    "    \"\"\"Classe que representa as propriedades de um material semicondutor dopado\"\"\"\n",
    "    \n",
    "    def __init__(self, nome, dopante, dens_foto, energia):\n",
    "        super().__init__(nome, dens_foto, energia)\n",
    "\n",
    "        self.dopante = dopante\n",
    "    \n",
    "    def calcula_diferença(self, Semicondutores):\n",
    "\n",
    "        dif_dens_foto = self.dens_foto - Semicondutores.dens_foto\n",
    "\n",
    "        dif_energia = self.energia - Semicondutores.energia\n",
    "\n",
    "        return f\"A diferença de fotocorrente é {dif_dens_foto} e a de energia do band gap é {dif_energia}\"\n",
    "\n",
    "    def __repr__(self):\n",
    "        return f\"O semicondutor {self.nome}, dopado com {self.dopante},possui densidade de fotocorrente {self.dens_foto}mA/cm2 e energia de {self.energia}eV.\""
   ]
  },
  {
   "cell_type": "code",
   "execution_count": 32,
   "metadata": {},
   "outputs": [
    {
     "name": "stdout",
     "output_type": "stream",
     "text": [
      "O semicondutor SrTiO3, dopado com nióbio,possui densidade de fotocorrente 0.12mA/cm2 e energia de 3.78eV.\n",
      "O semicondutor CuO, dopado com níquel,possui densidade de fotocorrente 4.3mA/cm2 e energia de 1.52eV.\n",
      "O semicondutor Fe2O3, dopado com zircônio,possui densidade de fotocorrente 2.37mA/cm2 e energia de 2.1eV.\n"
     ]
    }
   ],
   "source": [
    "titanato_estroncio_nb = Semicondutores_dopados(\"SrTiO3\", \"nióbio\", 0.12 , 3.78)\n",
    "print(titanato_estroncio_nb)\n",
    "\n",
    "oxido_cobre_ni = Semicondutores_dopados(\"CuO\",\"níquel\", 4.3, 1.52)\n",
    "print(oxido_cobre_ni)\n",
    "\n",
    "hematita_zi = Semicondutores_dopados(\"Fe2O3\", \"zircônio\", 2.37, 2.1)\n",
    "print(hematita_zi)"
   ]
  },
  {
   "cell_type": "code",
   "execution_count": 34,
   "metadata": {},
   "outputs": [
    {
     "name": "stdout",
     "output_type": "stream",
     "text": [
      "A diferença de fotocorrente é 0.07999999999999999 e a de energia do band gap é 0.5799999999999996\n",
      "A diferença de fotocorrente é 1.15 e a de energia do band gap é 0.020000000000000018\n",
      "A diferença de fotocorrente é 0.7400000000000002 e a de energia do band gap é -0.10000000000000009\n"
     ]
    }
   ],
   "source": [
    "diferenca_STO = Semicondutores_dopados.calcula_diferença(titanato_estroncio_nb, titanato_estroncio) \n",
    "print(diferenca_STO)\n",
    "\n",
    "diferenca_CuO = Semicondutores_dopados.calcula_diferença(oxido_cobre_ni, oxido_cobre)\n",
    "print(diferenca_CuO)\n",
    "\n",
    "diferenca_FeO = Semicondutores_dopados.calcula_diferença(hematita_zi, hematita)\n",
    "print(diferenca_FeO)"
   ]
  },
  {
   "cell_type": "markdown",
   "metadata": {},
   "source": [
    "----\n"
   ]
  },
  {
   "cell_type": "markdown",
   "metadata": {},
   "source": [
    "### 📚 Referências:\n",
    "\n",
    "OPENAI. ChatGPT (modelo GPT-4). Disponível em: <https://chatgpt.com/share/67dca7a7-33ac-8005-9f2a-7a0c627e9dfb>. Acesso em: 20 de mar. 2025.\n",
    "\n",
    "PINHEIRO, Antonio N. et al. Revisiting SrTiO₃ as a photoanode for water splitting: development of thin films with enhanced charge separation under standard solar irradiation. RSC Advances, v. 4, p. 2029-2036, 2014. DOI: 10.1039/c3ra45066j.\n",
    "\n",
    "WALTER, Michael G. et al. Solar Water Splitting Cells. Chemical Reviews, v. 110, n. 11, p. 6446–6473, 2010. DOI: 10.1021/cr1002326.\n",
    "\n",
    "ZANDI, Omid; HAMANN, Thomas W. The potential versus current state of water splitting with hematite. Physical Chemistry Chemical Physics, v. 17, p. 22485–22503, 2015. DOI: 10.1039/c5cp04267d."
   ]
  }
 ],
 "metadata": {
  "kernelspec": {
   "display_name": "Python 3",
   "language": "python",
   "name": "python3"
  },
  "language_info": {
   "codemirror_mode": {
    "name": "ipython",
    "version": 3
   },
   "file_extension": ".py",
   "mimetype": "text/x-python",
   "name": "python",
   "nbconvert_exporter": "python",
   "pygments_lexer": "ipython3",
   "version": "3.11.6"
  }
 },
 "nbformat": 4,
 "nbformat_minor": 2
}
