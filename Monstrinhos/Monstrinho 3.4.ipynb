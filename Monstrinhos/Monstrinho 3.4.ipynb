{
 "cells": [
  {
   "cell_type": "markdown",
   "metadata": {},
   "source": [
    "# **<span style=\"font-family: 'Palatino Linotype', serif;\">🔍🛠️__dunder__ </span>**\n",
    "----\n",
    "*<span style=\"font-family: 'Angilla Tattoo'\"> \"Nos grimórios antigos, há feitiços selados entre duplos traços arcanos, acessíveis apenas aos que dominam a arte dos dunder encantamentos.\" ✨📜🔮 </span>*\n",
    "\n",
    "<div align=\"center\">\n",
    "    <img src = \"Maga-patolina-dunder.png\" alt = \"Maga dunder\" width = 300>\n",
    "</div>\n",
    "\n",
    "----\n",
    " **Objetivo:** Buscar métodos dunder não apresentados na disciplina e criar uma classe que contenha pelo menos 3 destes. Nos códigos, os métodos dunder serão acessados sem serem chamados explicitamente.\n",
    "\n",
    "---"
   ]
  },
  {
   "cell_type": "markdown",
   "metadata": {},
   "source": [
    "Os dunder são chamadas de \"funções mágicas\", pois possuem funções pré-definidas que são úteis durante a criação de uma classe. Para essa atividade, escolhi os dunders len, contains e getitem. Vamos entender a função de cada um:\n",
    "     \n",
    "     1 - len: Utilizando o dunder len, é possível obter a quantidade de elementos de uma lista, dicionário, tupla, entre outros.\n",
    "\n",
    "     2 - contains: O dunder contains nos permite identificar se um determinado valor existe dentro de uma lista, dicionário ou tupla. Caso esse valor exista, a função irá nos retonar True e caso não exista irá retornas False.\n",
    "\n",
    "     3 - getitem: Já o dunder getitem é capaz de identificar qual o elemento no índice X de uma lista ou tupla, assim como retornar o valor associado a uma chave dentro de um dicionário.\n",
    "\n",
    "Nesse sentido, iremos explorar a classe Solução eletrolítica, que recebe um dicionário contendo informações de interesse como fórmula, composição atômica e íons de uma dada solução.\n",
    "\n",
    "----"
   ]
  },
  {
   "cell_type": "code",
   "execution_count": 13,
   "metadata": {},
   "outputs": [],
   "source": [
    "class Solucao_eletrolitica():\n",
    "    \"\"\"Classe que apresenta informações sobre soluções eletrolíticas\"\"\"\n",
    "\n",
    "    def __init__(self, dicionario):\n",
    "        self.dicionario = dicionario\n",
    "\n",
    "    def __len__(self):\n",
    "        resultado = len(self.dicionario)\n",
    "        return resultado\n",
    "    \n",
    "    def __contains__(self, valor):\n",
    "        print(f'{self.diconario} contém {valor} =', dicionario.__contains__(valor))\n",
    "\n",
    "    def __getitem__(self, key):\n",
    "        if key in self.dicionario:\n",
    "            return self.dicionario[key]\n",
    "        else:\n",
    "            raise KeyError(f\"Key '{key}' não encontrada.\")"
   ]
  },
  {
   "cell_type": "code",
   "execution_count": 14,
   "metadata": {},
   "outputs": [],
   "source": [
    "cloreto_sodio = { \n",
    "    \"Na\": 1,\n",
    "    \"Cl\": 1,\n",
    "    \"Fórmula\": (\"NaCl\"),\n",
    "    \"Íons\": (\"Na +\", \"Cl -\"),\n",
    "}\n",
    "\n",
    "acido_cloridrico = { \n",
    "    \"H\": 1,\n",
    "    \"Cl\": 1,\n",
    "    \"Fórmula\": (\"HCl\"),\n",
    "    \"Íons\": (\"H +\", \"Cl -\")\n",
    "}\n",
    "\n",
    "sulfato_cobre = { \n",
    "    \"Cu\": 1,\n",
    "    \"S\": 1,\n",
    "    \"O\": 4,\n",
    "    \"Fórmula\": (\"CuSO4\"),\n",
    "    \"Íons\": (\"Cu2 +\", \"SO4 2-\")\n",
    "}"
   ]
  },
  {
   "cell_type": "code",
   "execution_count": 15,
   "metadata": {},
   "outputs": [
    {
     "name": "stdout",
     "output_type": "stream",
     "text": [
      "4\n",
      "True\n",
      "False\n",
      "('Na +', 'Cl -')\n"
     ]
    }
   ],
   "source": [
    "Solucao_eletrolitica(cloreto_sodio)\n",
    "print(cloreto_sodio.__len__())\n",
    "print(cloreto_sodio.__contains__(\"Íons\"))\n",
    "print(cloreto_sodio.__contains__(\"F\"))\n",
    "print(cloreto_sodio.__getitem__(\"Íons\"))\n"
   ]
  },
  {
   "cell_type": "code",
   "execution_count": 16,
   "metadata": {},
   "outputs": [
    {
     "name": "stdout",
     "output_type": "stream",
     "text": [
      "4\n",
      "True\n",
      "True\n",
      "1\n",
      "NaCl\n"
     ]
    }
   ],
   "source": [
    "Solucao_eletrolitica(acido_cloridrico)\n",
    "print(cloreto_sodio.__len__())\n",
    "print(cloreto_sodio.__contains__(\"Cl\"))\n",
    "print(cloreto_sodio.__contains__(\"Fórmula\"))\n",
    "print(cloreto_sodio.__getitem__(\"Cl\"))\n",
    "print(cloreto_sodio.__getitem__(\"Fórmula\"))"
   ]
  },
  {
   "cell_type": "code",
   "execution_count": 17,
   "metadata": {},
   "outputs": [
    {
     "name": "stdout",
     "output_type": "stream",
     "text": [
      "5\n",
      "True\n",
      "False\n",
      "4\n"
     ]
    },
    {
     "ename": "KeyError",
     "evalue": "'Daniel Cassar'",
     "output_type": "error",
     "traceback": [
      "\u001b[1;31m---------------------------------------------------------------------------\u001b[0m",
      "\u001b[1;31mKeyError\u001b[0m                                  Traceback (most recent call last)",
      "\u001b[1;32mc:\\Users\\giovana24008\\OneDrive - ILUM ESCOLA DE CIÊNCIA\\Documentos\\vs-code - estudos\\Redes Neurais\\Monstrinhos\\Monstrinho 3.4.ipynb Célula 7\u001b[0m line \u001b[0;36m6\n\u001b[0;32m      <a href='vscode-notebook-cell:/c%3A/Users/giovana24008/OneDrive%20-%20ILUM%20ESCOLA%20DE%20CI%C3%8ANCIA/Documentos/vs-code%20-%20estudos/Redes%20Neurais/Monstrinhos/Monstrinho%203.4.ipynb#W6sZmlsZQ%3D%3D?line=3'>4</a>\u001b[0m \u001b[39mprint\u001b[39m(sulfato_cobre\u001b[39m.\u001b[39m\u001b[39m__contains__\u001b[39m(\u001b[39m\"\u001b[39m\u001b[39mCl\u001b[39m\u001b[39m\"\u001b[39m))\n\u001b[0;32m      <a href='vscode-notebook-cell:/c%3A/Users/giovana24008/OneDrive%20-%20ILUM%20ESCOLA%20DE%20CI%C3%8ANCIA/Documentos/vs-code%20-%20estudos/Redes%20Neurais/Monstrinhos/Monstrinho%203.4.ipynb#W6sZmlsZQ%3D%3D?line=4'>5</a>\u001b[0m \u001b[39mprint\u001b[39m(sulfato_cobre\u001b[39m.\u001b[39m\u001b[39m__getitem__\u001b[39m(\u001b[39m\"\u001b[39m\u001b[39mO\u001b[39m\u001b[39m\"\u001b[39m))\n\u001b[1;32m----> <a href='vscode-notebook-cell:/c%3A/Users/giovana24008/OneDrive%20-%20ILUM%20ESCOLA%20DE%20CI%C3%8ANCIA/Documentos/vs-code%20-%20estudos/Redes%20Neurais/Monstrinhos/Monstrinho%203.4.ipynb#W6sZmlsZQ%3D%3D?line=5'>6</a>\u001b[0m \u001b[39mprint\u001b[39m(sulfato_cobre\u001b[39m.\u001b[39;49m\u001b[39m__getitem__\u001b[39;49m(\u001b[39m\"\u001b[39;49m\u001b[39mDaniel Cassar\u001b[39;49m\u001b[39m\"\u001b[39;49m))\n",
      "\u001b[1;31mKeyError\u001b[0m: 'Daniel Cassar'"
     ]
    }
   ],
   "source": [
    "Solucao_eletrolitica(sulfato_cobre)\n",
    "print(sulfato_cobre.__len__())\n",
    "print(sulfato_cobre.__contains__(\"O\"))\n",
    "print(sulfato_cobre.__contains__(\"Cl\"))\n",
    "print(sulfato_cobre.__getitem__(\"O\"))\n",
    "print(sulfato_cobre.__getitem__(\"Daniel Cassar\"))"
   ]
  },
  {
   "cell_type": "markdown",
   "metadata": {},
   "source": [
    "-----\n",
    "\n",
    "### 📊 Conclusão:\n",
    "\n",
    "A partir deste trabalho, pude conhecer e explorar mais sobre os métodos dunder e sua utilidade na criação de classes em Python. Isso ocorre pois o dunder são métodos comumente utilizados em diversos códigos, tendo em vista que representam comando comuns a diversas classes. Por apresentarem funções pré-definidas, o processo de realizar certas operações no código se torna mais otimizado.\n",
    "\n",
    "----\n",
    "### 📚 Referências:\n",
    "\n",
    "OPENAI. ChatGPT. Disponível em: <https://chatgpt.com/share/67e34ad3-dddc-8005-912c-65f198b19cce>. Acesso em: 18 mar. 2025.\n",
    "\n",
    "PYTHON SOFTWARE FOUNDATION. Nomes de métodos especiais. Disponível em: <https://docs.python.org/3/reference/datamodel.html#special-method-names>. Acesso em: 25 mar. 2025.\n",
    "\n",
    "AWARI. Métodos mágicos em Python: desvendando os segredos da programação. Disponível em: <https://awari.com.br/metodos-magicos-em-python-desvendando-os-segredos-da-programacao/>. Acesso em: 25 mar. 2025.\n",
    "\n",
    "DIGITALOCEAN. Python String Contains. Disponível em: <https://www.digitalocean.com/community/tutorials/python-string-contains>. Acesso em: 25 mar. 2025.\n",
    "\n",
    "GEEKSFORGEEKS. Método __getitem__() em Python. Disponível em: <https://www.geeksforgeeks.org/__getitem__-in-python/>. Acesso em: 25 mar. 2025."
   ]
  }
 ],
 "metadata": {
  "kernelspec": {
   "display_name": "Python 3",
   "language": "python",
   "name": "python3"
  },
  "language_info": {
   "codemirror_mode": {
    "name": "ipython",
    "version": 3
   },
   "file_extension": ".py",
   "mimetype": "text/x-python",
   "name": "python",
   "nbconvert_exporter": "python",
   "pygments_lexer": "ipython3",
   "version": "3.11.6"
  }
 },
 "nbformat": 4,
 "nbformat_minor": 2
}
