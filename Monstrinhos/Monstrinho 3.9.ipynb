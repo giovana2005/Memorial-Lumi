{
 "cells": [
  {
   "cell_type": "markdown",
   "metadata": {},
   "source": [
    "# **<span style=\"font-family: 'Palatino Linotype', serif;\">🔮🧠 Alterando os parâmetros de busca </span>**\n",
    "----\n",
    "*<span style=\"font-family: 'Angilla Tattoo'\"> \"Alterando os parâmetros de busca com um estalar de penas e algoritmos, Maga Patolina atravessou as linhas do código-fonte do universo, reprogramando o destino com a lógica dos patos e a fúria da magia antiga.\" 🔥🪶🌌💾 </span>*\n",
    "\n",
    "<div align=\"center\">\n",
    "    <img src = \"Busca.png\" alt = \"Busca\" width = 350>\n",
    "</div>\n",
    "\n",
    "----\n",
    " **Objetivo:** Um problema de otimização é aquele onde visamos encontrar a melhor solução possível, sendo preciso determinar os valores máximos e mínimos de uma função. A seguir, vamos resolver um problema de otimização, proposto na referência 1, com diferentes valores de parâmetros:\n",
    "\n",
    " **🚙Problema**: Durante várias semanas, o departamento de trânsito de uma certa cidade vem registrando a velocidade dos veículos que passam por um certo cruzamento. Os resultados mostram que entre 13 e 18 horas, a velocidade média neste cruzamento é dada aproximadamente por \n",
    " $ v(t) = t^3 – 10.5 t^2 +30 t + 20 km/h $ , onde t é o número de horas após o meio-dia. Qual o instante, entre 13 e 18 horas, em que o trânsito é mais rápido? \n",
    " \n",
    " Utiizaremo algoritmos genéticos para encontrar a solução desse problema utilizando 5 testes com parâmetros de busca distintos.\n",
    " \n",
    "----"
   ]
  },
  {
   "cell_type": "code",
   "execution_count": 221,
   "metadata": {},
   "outputs": [],
   "source": [
    "# importar bibliotecas\n",
    "import random\n",
    "import copy"
   ]
  },
  {
   "cell_type": "code",
   "execution_count": 222,
   "metadata": {},
   "outputs": [],
   "source": [
    "# definir função velocidade\n",
    "def velocidade(t):\n",
    "    return (t**3 - 10.5 *t**2 + 30*t + 20)\n"
   ]
  },
  {
   "cell_type": "code",
   "execution_count": 223,
   "metadata": {},
   "outputs": [],
   "source": [
    "#Funções que serão utilizadas \n",
    "\n",
    "def fitness(valor):\n",
    "    return velocidade(valor) \n",
    "\n",
    "#Seleção\n",
    "def funcao_selecao(populacao, fitness, tamanho_torneio):\n",
    "    \n",
    "    selecionados = []\n",
    "\n",
    "    for _ in range(len(populacao)):\n",
    "        sorteados = random.sample(populacao, tamanho_torneio) # retorna uma lista com elementos da população\n",
    "\n",
    "        fitness_sorteados = []\n",
    "        for individuo in sorteados:\n",
    "            indice_individuo = populacao.index(individuo)\n",
    "            fitness_sorteados.append(fitness(individuo))\n",
    "\n",
    "        max_fitness = max(fitness_sorteados)\n",
    "        indice_max_fitness = fitness_sorteados.index(max_fitness)\n",
    "        individuo_selecionado = sorteados[indice_max_fitness]\n",
    "\n",
    "        selecionados.append(individuo_selecionado)\n",
    "\n",
    "    return selecionados\n",
    "\n",
    "#Cruzamento\n",
    "\n",
    "def funcao_cruzamento(pai, mae, chance_de_cruzamento):\n",
    "    \n",
    "    if random.random() < chance_de_cruzamento:\n",
    "        filho1 = pai + mae / 2\n",
    "        filho2 = mae*1/3 + pai*2/3\n",
    "        return filho1, filho2\n",
    "    else:\n",
    "        return pai, mae\n",
    "    \n",
    "#Mutação\n",
    "\n",
    "import random\n",
    "\n",
    "def mutacao_perturbacao(populacao, taxa_mutacao, limite_min=1, limite_max=6, intensidade=2):\n",
    "    nova_populacao = []\n",
    "\n",
    "    for individuo in populacao:\n",
    "        if random.random() < taxa_mutacao:\n",
    "            delta = random.randint(-intensidade, intensidade)\n",
    "            mutado = max(limite_min, min(limite_max, individuo + delta))\n",
    "            nova_populacao.append(mutado)\n",
    "        else:\n",
    "            nova_populacao.append(individuo)\n",
    "\n",
    "    return nova_populacao\n",
    "\n"
   ]
  },
  {
   "cell_type": "markdown",
   "metadata": {},
   "source": [
    "### **TESTE 1**"
   ]
  },
  {
   "cell_type": "code",
   "execution_count": 224,
   "metadata": {},
   "outputs": [],
   "source": [
    "# definir os parêmetro do algoritmo genético\n",
    "TAMANHO_POPULACAO = 15\n",
    "NUM_GERACOES = [list(range(100))]\n",
    "CHANCE_DE_CRUZAMENTO = 0.5\n",
    "CHANCE_DE_MUTACAO = 0.05"
   ]
  },
  {
   "cell_type": "code",
   "execution_count": 225,
   "metadata": {},
   "outputs": [
    {
     "name": "stdout",
     "output_type": "stream",
     "text": [
      "[5, 5, 2, 6, 1, 1, 2, 5, 3, 4, 1, 4, 2, 5, 4]\n"
     ]
    }
   ],
   "source": [
    "# definindo a população\n",
    "t_range = (1 , 6) \n",
    "populacao = [(random.randint(t_range[ 0 ], t_range[ 1 ])) for _ in  range (TAMANHO_POPULACAO)] \n",
    "print(populacao)"
   ]
  },
  {
   "cell_type": "code",
   "execution_count": 226,
   "metadata": {},
   "outputs": [],
   "source": [
    "valor_medio_fit = [] \n",
    "valor_max_fit = [] \n",
    "melhor_individuo = None\n",
    "melhor_fitness = float ( '-inf' ) "
   ]
  },
  {
   "cell_type": "code",
   "execution_count": 227,
   "metadata": {},
   "outputs": [
    {
     "name": "stdout",
     "output_type": "stream",
     "text": [
      "A população é [5, 5, 2, 6, 1, 1, 2, 5, 3, 4, 1, 4, 2, 5, 4]\n",
      "A seleção foi [2, 2, 3, 2, 2, 3, 2, 2, 6, 2, 2, 2, 2, 2, 2]\n",
      "A proxima geração, após cruzamento, é [2, 2, 4.0, 2.6666666666666665, 2, 3, 3.0, 2.0, 7.0, 4.666666666666667, 2, 2, 2, 2]\n",
      "Os indivíduos mutados são [2, 2, 4.0, 2.6666666666666665, 2, 3, 3.0, 4.0, 7.0, 4.666666666666667, 2, 2, 2, 2]\n",
      "Melhor indivíduo: 2\n",
      "Melhor fitness: 46.0\n",
      "Valor da função no melhor ponto: 46.0\n",
      "Velocidade máxima conhecida: 14 h - 46 km/h\n"
     ]
    }
   ],
   "source": [
    "print(f\"A população é\", populacao)\n",
    "# Seleção\n",
    "selecao = funcao_selecao(populacao, fitness, 5)\n",
    "print(f\"A seleção foi\", selecao)\n",
    "\n",
    "# Cruzamento\n",
    "proxima_geracao = []\n",
    "for pai, mae in zip(selecao[::2], selecao[1::2]):\n",
    "    individuo1, individuo2 = funcao_cruzamento(pai, mae, CHANCE_DE_CRUZAMENTO)\n",
    "    proxima_geracao.append(individuo1)\n",
    "    proxima_geracao.append(individuo2)\n",
    "\n",
    "print(\"A proxima geração, após cruzamento, é\", proxima_geracao)\n",
    "\n",
    "# proxima_geracao = []\n",
    "\n",
    "proxima_geracao = mutacao_perturbacao(proxima_geracao, CHANCE_DE_MUTACAO)\n",
    "print(f\"Os indivíduos mutados são\", proxima_geracao)\n",
    "\n",
    "\n",
    "for geracao in NUM_GERACOES:\n",
    "    valores_fitness = [fitness(valor) for valor in populacao ]\n",
    "    medio_fit = sum(valores_fitness)/ TAMANHO_POPULACAO\n",
    "    max_fit = max(valores_fitness)\n",
    "\n",
    "    valor_medio_fit.append(medio_fit)\n",
    "    valor_max_fit.append(max_fit)\n",
    "\n",
    "    if max_fit > melhor_fitness:\n",
    "        melhor_individuo = populacao[valores_fitness.index(max_fit)]\n",
    "        melhor_fitness = max_fit\n",
    "\n",
    "\n",
    "#Encerramento\n",
    "populacao = proxima_geracao\n",
    "\n",
    "print ( \"Melhor indivíduo:\" , melhor_individuo) \n",
    "print ( \"Melhor fitness:\" , melhor_fitness) \n",
    "print ( \"Valor da função no melhor ponto:\" , velocidade(melhor_individuo)) \n",
    "velocidade_max = \"14 h - 46 km/h\" \n",
    "print ( \"Velocidade máxima conhecida:\" , velocidade_max)\n"
   ]
  },
  {
   "cell_type": "markdown",
   "metadata": {},
   "source": [
    "### **TESTE 2**"
   ]
  },
  {
   "cell_type": "code",
   "execution_count": 228,
   "metadata": {},
   "outputs": [],
   "source": [
    "# definir os parêmetro do algoritmo genético\n",
    "TAMANHO_POPULACAO = 30\n",
    "NUM_GERACOES = [list(range(50))]\n",
    "CHANCE_DE_CRUZAMENTO = 0.3\n",
    "CHANCE_DE_MUTACAO = 0.1"
   ]
  },
  {
   "cell_type": "code",
   "execution_count": 229,
   "metadata": {},
   "outputs": [
    {
     "name": "stdout",
     "output_type": "stream",
     "text": [
      "[4, 6, 6, 4, 4, 5, 6, 4, 5, 1, 6, 3, 2, 3, 2, 1, 6, 1, 5, 2, 1, 5, 4, 4, 6, 5, 1, 5, 1, 2]\n"
     ]
    }
   ],
   "source": [
    "# definindo a população\n",
    "t_range = (1 , 6) \n",
    "populacao = [(random.randint(t_range[ 0 ], t_range[ 1 ])) for _ in  range (TAMANHO_POPULACAO)] \n",
    "print(populacao)"
   ]
  },
  {
   "cell_type": "code",
   "execution_count": 230,
   "metadata": {},
   "outputs": [],
   "source": [
    "valor_medio_fit = [] \n",
    "valor_max_fit = [] \n",
    "melhor_individuo = None\n",
    "melhor_fitness = float ( '-inf' ) "
   ]
  },
  {
   "cell_type": "code",
   "execution_count": 231,
   "metadata": {},
   "outputs": [
    {
     "name": "stdout",
     "output_type": "stream",
     "text": [
      "A população é [4, 6, 6, 4, 4, 5, 6, 4, 5, 1, 6, 3, 2, 3, 2, 1, 6, 1, 5, 2, 1, 5, 4, 4, 6, 5, 1, 5, 1, 2]\n",
      "A seleção foi [1, 3, 3, 1, 2, 2, 2, 1, 2, 2, 1, 2, 1, 2, 1, 3, 2, 2, 1, 1, 2, 2, 3, 2, 3, 6, 2, 1, 2, 2]\n",
      "A proxima geração, após cruzamento, é [2.5, 1.6666666666666665, 3, 1, 2, 2, 2, 1, 2, 2, 1, 2, 2.0, 1.3333333333333333, 1, 3, 2, 2, 1.5, 1.0, 2, 2, 3, 2, 3, 6, 2, 1, 3.0, 2.0]\n",
      "Os indivíduos mutados são [2.5, 1.6666666666666665, 3, 1, 1, 2, 2, 1, 2, 2, 1, 2, 2.0, 1.3333333333333333, 1, 3, 2, 2, 1.5, 1.0, 2, 2, 3, 1, 3, 6, 2, 1, 3.0, 2.0]\n",
      "Melhor indivíduo: 2\n",
      "Melhor fitness: 46.0\n",
      "Valor da função no melhor ponto: 46.0\n",
      "Velocidade máxima conhecida: 14 h - 46 km/h\n"
     ]
    }
   ],
   "source": [
    "print(f\"A população é\", populacao)\n",
    "# Seleção\n",
    "selecao = funcao_selecao(populacao, fitness, 5)\n",
    "print(f\"A seleção foi\", selecao)\n",
    "\n",
    "# Cruzamento\n",
    "proxima_geracao = []\n",
    "for pai, mae in zip(selecao[::2], selecao[1::2]):\n",
    "    individuo1, individuo2 = funcao_cruzamento(pai, mae, CHANCE_DE_CRUZAMENTO)\n",
    "    proxima_geracao.append(individuo1)\n",
    "    proxima_geracao.append(individuo2)\n",
    "\n",
    "print(\"A proxima geração, após cruzamento, é\", proxima_geracao)\n",
    "\n",
    "# proxima_geracao = []\n",
    "\n",
    "proxima_geracao = mutacao_perturbacao(proxima_geracao, CHANCE_DE_MUTACAO)\n",
    "print(f\"Os indivíduos mutados são\", proxima_geracao)\n",
    "\n",
    "\n",
    "for geracao in NUM_GERACOES:\n",
    "    valores_fitness = [fitness(valor) for valor in populacao ]\n",
    "    medio_fit = sum(valores_fitness)/ TAMANHO_POPULACAO\n",
    "    max_fit = max(valores_fitness)\n",
    "\n",
    "    valor_medio_fit.append(medio_fit)\n",
    "    valor_max_fit.append(max_fit)\n",
    "\n",
    "    if max_fit > melhor_fitness:\n",
    "        melhor_individuo = populacao[valores_fitness.index(max_fit)]\n",
    "        melhor_fitness = max_fit\n",
    "\n",
    "\n",
    "#Encerramento\n",
    "populacao = proxima_geracao\n",
    "\n",
    "print ( \"Melhor indivíduo:\" , melhor_individuo) \n",
    "print ( \"Melhor fitness:\" , melhor_fitness) \n",
    "print ( \"Valor da função no melhor ponto:\" , velocidade(melhor_individuo)) \n",
    "velocidade_max = \"14 h - 46 km/h\" \n",
    "print ( \"Velocidade máxima conhecida:\" , velocidade_max)\n",
    "\n"
   ]
  },
  {
   "cell_type": "markdown",
   "metadata": {},
   "source": [
    "### **TESTE 3**"
   ]
  },
  {
   "cell_type": "code",
   "execution_count": 232,
   "metadata": {},
   "outputs": [],
   "source": [
    "# definir os parêmetro do algoritmo genético\n",
    "TAMANHO_POPULACAO = 25\n",
    "NUM_GERACOES = [list(range(100))]\n",
    "CHANCE_DE_CRUZAMENTO = 0.1\n",
    "CHANCE_DE_MUTACAO = 0.2"
   ]
  },
  {
   "cell_type": "code",
   "execution_count": 233,
   "metadata": {},
   "outputs": [
    {
     "name": "stdout",
     "output_type": "stream",
     "text": [
      "[4, 4, 2, 6, 5, 3, 2, 4, 4, 1, 2, 5, 1, 5, 2, 4, 2, 2, 4, 3, 4, 1, 1, 1, 2]\n"
     ]
    }
   ],
   "source": [
    "# definindo a população\n",
    "t_range = (1 , 6) \n",
    "populacao = [(random.randint(t_range[ 0 ], t_range[ 1 ])) for _ in  range (TAMANHO_POPULACAO)] \n",
    "print(populacao)"
   ]
  },
  {
   "cell_type": "code",
   "execution_count": 234,
   "metadata": {},
   "outputs": [],
   "source": [
    "valor_medio_fit = [] \n",
    "valor_max_fit = [] \n",
    "melhor_individuo = None\n",
    "melhor_fitness = float ( '-inf' ) "
   ]
  },
  {
   "cell_type": "code",
   "execution_count": 235,
   "metadata": {},
   "outputs": [
    {
     "name": "stdout",
     "output_type": "stream",
     "text": [
      "A população é [4, 4, 2, 6, 5, 3, 2, 4, 4, 1, 2, 5, 1, 5, 2, 4, 2, 2, 4, 3, 4, 1, 1, 1, 2]\n",
      "A seleção foi [2, 2, 2, 2, 3, 2, 2, 2, 2, 2, 2, 2, 2, 2, 1, 2, 2, 2, 2, 2, 2, 2, 2, 2, 2]\n",
      "A proxima geração, após cruzamento, é [2, 2, 2, 2, 3, 2, 2, 2, 2, 2, 2, 2, 2, 2, 1, 2, 2, 2, 2, 2, 2, 2, 2, 2]\n",
      "Os indivíduos mutados são [2, 2, 3, 2, 3, 2, 1, 2, 2, 2, 2, 2, 2, 2, 1, 2, 2, 2, 2, 2, 2, 2, 2, 2]\n",
      "Melhor indivíduo: 2\n",
      "Melhor fitness: 46.0\n",
      "Valor da função no melhor ponto: 46.0\n",
      "Velocidade máxima conhecida: 14 h - 46 km/h\n"
     ]
    }
   ],
   "source": [
    "print(f\"A população é\", populacao)\n",
    "# Seleção\n",
    "selecao = funcao_selecao(populacao, fitness, 5)\n",
    "print(f\"A seleção foi\", selecao)\n",
    "\n",
    "# Cruzamento\n",
    "proxima_geracao = []\n",
    "for pai, mae in zip(selecao[::2], selecao[1::2]):\n",
    "    individuo1, individuo2 = funcao_cruzamento(pai, mae, CHANCE_DE_CRUZAMENTO)\n",
    "    proxima_geracao.append(individuo1)\n",
    "    proxima_geracao.append(individuo2)\n",
    "\n",
    "print(\"A proxima geração, após cruzamento, é\", proxima_geracao)\n",
    "\n",
    "# proxima_geracao = []\n",
    "\n",
    "proxima_geracao = mutacao_perturbacao(proxima_geracao, CHANCE_DE_MUTACAO)\n",
    "print(f\"Os indivíduos mutados são\", proxima_geracao)\n",
    "\n",
    "\n",
    "for geracao in NUM_GERACOES:\n",
    "    valores_fitness = [fitness(valor) for valor in populacao ]\n",
    "    medio_fit = sum(valores_fitness)/ TAMANHO_POPULACAO\n",
    "    max_fit = max(valores_fitness)\n",
    "\n",
    "    valor_medio_fit.append(medio_fit)\n",
    "    valor_max_fit.append(max_fit)\n",
    "\n",
    "    if max_fit > melhor_fitness:\n",
    "        melhor_individuo = populacao[valores_fitness.index(max_fit)]\n",
    "        melhor_fitness = max_fit\n",
    "\n",
    "\n",
    "#Encerramento\n",
    "populacao = proxima_geracao\n",
    "\n",
    "print ( \"Melhor indivíduo:\" , melhor_individuo) \n",
    "print ( \"Melhor fitness:\" , melhor_fitness) \n",
    "print ( \"Valor da função no melhor ponto:\" , velocidade(melhor_individuo)) \n",
    "velocidade_max = \"14 h - 46 km/h\" \n",
    "print ( \"Velocidade máxima conhecida:\" , velocidade_max)\n",
    "\n"
   ]
  },
  {
   "cell_type": "markdown",
   "metadata": {},
   "source": [
    "### **TESTE 4**"
   ]
  },
  {
   "cell_type": "code",
   "execution_count": 236,
   "metadata": {},
   "outputs": [],
   "source": [
    "# definir os parêmetro do algoritmo genético\n",
    "TAMANHO_POPULACAO = 80\n",
    "NUM_GERACOES = [list(range(70))]\n",
    "CHANCE_DE_CRUZAMENTO = 0.3\n",
    "CHANCE_DE_MUTACAO = 0.5"
   ]
  },
  {
   "cell_type": "code",
   "execution_count": 237,
   "metadata": {},
   "outputs": [
    {
     "name": "stdout",
     "output_type": "stream",
     "text": [
      "[2, 2, 4, 1, 2, 6, 5, 3, 4, 1, 3, 1, 2, 1, 4, 4, 4, 6, 2, 4, 4, 3, 5, 5, 5, 3, 2, 5, 2, 4, 3, 4, 1, 6, 2, 6, 2, 3, 3, 2, 6, 6, 5, 3, 4, 5, 3, 5, 4, 1, 3, 1, 2, 2, 6, 1, 4, 6, 5, 2, 4, 6, 1, 1, 2, 6, 3, 3, 4, 1, 2, 4, 6, 1, 3, 1, 3, 3, 5, 6]\n"
     ]
    }
   ],
   "source": [
    "# definindo a população\n",
    "t_range = (1 , 6) \n",
    "populacao = [(random.randint(t_range[ 0 ], t_range[ 1 ])) for _ in  range (TAMANHO_POPULACAO)] \n",
    "print(populacao)"
   ]
  },
  {
   "cell_type": "code",
   "execution_count": 238,
   "metadata": {},
   "outputs": [],
   "source": [
    "valor_medio_fit = [] \n",
    "valor_max_fit = [] \n",
    "melhor_individuo = None\n",
    "melhor_fitness = float ( '-inf' ) "
   ]
  },
  {
   "cell_type": "code",
   "execution_count": 239,
   "metadata": {},
   "outputs": [
    {
     "name": "stdout",
     "output_type": "stream",
     "text": [
      "A população é [2, 2, 4, 1, 2, 6, 5, 3, 4, 1, 3, 1, 2, 1, 4, 4, 4, 6, 2, 4, 4, 3, 5, 5, 5, 3, 2, 5, 2, 4, 3, 4, 1, 6, 2, 6, 2, 3, 3, 2, 6, 6, 5, 3, 4, 5, 3, 5, 4, 1, 3, 1, 2, 2, 6, 1, 4, 6, 5, 2, 4, 6, 1, 1, 2, 6, 3, 3, 4, 1, 2, 4, 6, 1, 3, 1, 3, 3, 5, 6]\n",
      "A seleção foi [2, 2, 2, 3, 3, 2, 3, 2, 2, 2, 2, 2, 2, 2, 2, 2, 1, 6, 3, 2, 3, 3, 2, 3, 2, 2, 2, 2, 2, 2, 2, 2, 3, 2, 6, 1, 2, 1, 2, 1, 3, 3, 1, 3, 2, 2, 3, 2, 3, 6, 2, 2, 2, 2, 3, 1, 6, 2, 1, 2, 2, 2, 3, 3, 2, 3, 2, 2, 2, 2, 2, 3, 3, 3, 1, 2, 2, 2, 3, 3]\n",
      "A proxima geração, após cruzamento, é [3.0, 2.0, 3.5, 2.333333333333333, 3, 2, 4.0, 2.6666666666666665, 3.0, 2.0, 3.0, 2.0, 3.0, 2.0, 2, 2, 1, 6, 3, 2, 4.5, 3.0, 2, 3, 2, 2, 3.0, 2.0, 3.0, 2.0, 2, 2, 3, 2, 6, 1, 2, 1, 2, 1, 4.5, 3.0, 1, 3, 3.0, 2.0, 4.0, 2.6666666666666665, 6.0, 4.0, 2, 2, 2, 2, 3, 1, 6, 2, 2.0, 1.3333333333333333, 2, 2, 3, 3, 2, 3, 2, 2, 2, 2, 2, 3, 3, 3, 2.0, 1.3333333333333333, 2, 2, 3, 3]\n",
      "Os indivíduos mutados são [3.0, 1, 5.5, 4.333333333333333, 3, 2, 4.0, 1.6666666666666665, 3.0, 1, 3.0, 2.0, 3.0, 4.0, 4, 2, 3, 6, 3, 2, 2.5, 3.0, 3, 3, 1, 2, 3.0, 2.0, 3.0, 2.0, 3, 2, 3, 2, 6, 2, 2, 2, 2, 1, 4.5, 1, 1, 4, 3.0, 2.0, 4.0, 2.6666666666666665, 6, 4.0, 2, 2, 2, 2, 3, 1, 4, 2, 2.0, 1.3333333333333333, 1, 3, 3, 3, 1, 3, 2, 1, 1, 2, 2, 5, 3, 3, 2.0, 1.3333333333333333, 2, 3, 3, 4]\n",
      "Melhor indivíduo: 2\n",
      "Melhor fitness: 46.0\n",
      "Valor da função no melhor ponto: 46.0\n",
      "Velocidade máxima conhecida: 14 h - 46 km/h\n"
     ]
    }
   ],
   "source": [
    "print(f\"A população é\", populacao)\n",
    "# Seleção\n",
    "selecao = funcao_selecao(populacao, fitness, 5)\n",
    "print(f\"A seleção foi\", selecao)\n",
    "\n",
    "# Cruzamento\n",
    "proxima_geracao = []\n",
    "for pai, mae in zip(selecao[::2], selecao[1::2]):\n",
    "    individuo1, individuo2 = funcao_cruzamento(pai, mae, CHANCE_DE_CRUZAMENTO)\n",
    "    proxima_geracao.append(individuo1)\n",
    "    proxima_geracao.append(individuo2)\n",
    "\n",
    "print(\"A proxima geração, após cruzamento, é\", proxima_geracao)\n",
    "\n",
    "# proxima_geracao = []\n",
    "\n",
    "proxima_geracao = mutacao_perturbacao(proxima_geracao, CHANCE_DE_MUTACAO)\n",
    "print(f\"Os indivíduos mutados são\", proxima_geracao)\n",
    "\n",
    "\n",
    "for geracao in NUM_GERACOES:\n",
    "    valores_fitness = [fitness(valor) for valor in populacao ]\n",
    "    medio_fit = sum(valores_fitness)/ TAMANHO_POPULACAO\n",
    "    max_fit = max(valores_fitness)\n",
    "\n",
    "    valor_medio_fit.append(medio_fit)\n",
    "    valor_max_fit.append(max_fit)\n",
    "\n",
    "    if max_fit > melhor_fitness:\n",
    "        melhor_individuo = populacao[valores_fitness.index(max_fit)]\n",
    "        melhor_fitness = max_fit\n",
    "\n",
    "\n",
    "#Encerramento\n",
    "populacao = proxima_geracao\n",
    "\n",
    "print ( \"Melhor indivíduo:\" , melhor_individuo) \n",
    "print ( \"Melhor fitness:\" , melhor_fitness) \n",
    "print ( \"Valor da função no melhor ponto:\" , velocidade(melhor_individuo)) \n",
    "velocidade_max = \"14 h - 46 km/h\" \n",
    "print ( \"Velocidade máxima conhecida:\" , velocidade_max)\n",
    "\n"
   ]
  },
  {
   "cell_type": "markdown",
   "metadata": {},
   "source": [
    "### **TESTE 5**"
   ]
  },
  {
   "cell_type": "code",
   "execution_count": 240,
   "metadata": {},
   "outputs": [],
   "source": [
    "# definir os parêmetro do algoritmo genético\n",
    "TAMANHO_POPULACAO = 45\n",
    "NUM_GERACOES = [list(range(25))]\n",
    "CHANCE_DE_CRUZAMENTO = 0.6\n",
    "CHANCE_DE_MUTACAO = 0.2"
   ]
  },
  {
   "cell_type": "code",
   "execution_count": 241,
   "metadata": {},
   "outputs": [
    {
     "name": "stdout",
     "output_type": "stream",
     "text": [
      "[6, 2, 4, 1, 2, 4, 3, 2, 4, 6, 4, 5, 1, 2, 5, 3, 6, 2, 6, 6, 5, 6, 6, 3, 3, 2, 5, 6, 4, 2, 2, 1, 2, 2, 2, 3, 5, 6, 2, 3, 5, 1, 6, 1, 2]\n"
     ]
    }
   ],
   "source": [
    "# definindo a população\n",
    "t_range = (1 , 6) \n",
    "populacao = [(random.randint(t_range[ 0 ], t_range[ 1 ])) for _ in  range (TAMANHO_POPULACAO)] \n",
    "print(populacao)"
   ]
  },
  {
   "cell_type": "code",
   "execution_count": 242,
   "metadata": {},
   "outputs": [],
   "source": [
    "valor_medio_fit = [] \n",
    "valor_max_fit = [] \n",
    "melhor_individuo = None\n",
    "melhor_fitness = float ( '-inf' ) "
   ]
  },
  {
   "cell_type": "code",
   "execution_count": 243,
   "metadata": {},
   "outputs": [
    {
     "name": "stdout",
     "output_type": "stream",
     "text": [
      "A população é [6, 2, 4, 1, 2, 4, 3, 2, 4, 6, 4, 5, 1, 2, 5, 3, 6, 2, 6, 6, 5, 6, 6, 3, 3, 2, 5, 6, 4, 2, 2, 1, 2, 2, 2, 3, 5, 6, 2, 3, 5, 1, 6, 1, 2]\n",
      "A seleção foi [2, 2, 2, 2, 2, 2, 2, 2, 2, 2, 2, 2, 2, 2, 2, 2, 2, 2, 2, 2, 2, 2, 3, 2, 2, 2, 2, 2, 2, 2, 2, 2, 2, 2, 3, 2, 2, 2, 3, 3, 3, 1, 2, 2, 2]\n",
      "A proxima geração, após cruzamento, é [3.0, 2.0, 2, 2, 3.0, 2.0, 3.0, 2.0, 3.0, 2.0, 3.0, 2.0, 3.0, 2.0, 3.0, 2.0, 3.0, 2.0, 2, 2, 3.0, 2.0, 4.0, 2.6666666666666665, 2, 2, 3.0, 2.0, 2, 2, 2, 2, 2, 2, 4.0, 2.6666666666666665, 3.0, 2.0, 3, 3, 3.5, 2.3333333333333335, 2, 2]\n",
      "Os indivíduos mutados são [3.0, 2.0, 2, 2, 3.0, 4.0, 1, 2.0, 2.0, 2.0, 3.0, 2.0, 3.0, 2.0, 3.0, 2.0, 3.0, 4.0, 2, 2, 1, 2.0, 4.0, 2.6666666666666665, 4, 2, 3.0, 3.0, 1, 2, 2, 2, 2, 2, 4.0, 2.6666666666666665, 3.0, 4.0, 4, 3, 3.5, 2.3333333333333335, 2, 4]\n",
      "Melhor indivíduo: 2\n",
      "Melhor fitness: 46.0\n",
      "Valor da função no melhor ponto: 46.0\n",
      "Velocidade máxima conhecida: 14 h - 46 km/h\n"
     ]
    }
   ],
   "source": [
    "print(f\"A população é\", populacao)\n",
    "# Seleção\n",
    "selecao = funcao_selecao(populacao, fitness, 5)\n",
    "print(f\"A seleção foi\", selecao)\n",
    "\n",
    "# Cruzamento\n",
    "proxima_geracao = []\n",
    "for pai, mae in zip(selecao[::2], selecao[1::2]):\n",
    "    individuo1, individuo2 = funcao_cruzamento(pai, mae, CHANCE_DE_CRUZAMENTO)\n",
    "    proxima_geracao.append(individuo1)\n",
    "    proxima_geracao.append(individuo2)\n",
    "\n",
    "print(\"A proxima geração, após cruzamento, é\", proxima_geracao)\n",
    "\n",
    "# proxima_geracao = []\n",
    "\n",
    "proxima_geracao = mutacao_perturbacao(proxima_geracao, CHANCE_DE_MUTACAO)\n",
    "print(f\"Os indivíduos mutados são\", proxima_geracao)\n",
    "\n",
    "\n",
    "for geracao in NUM_GERACOES:\n",
    "    valores_fitness = [fitness(valor) for valor in populacao ]\n",
    "    medio_fit = sum(valores_fitness)/ TAMANHO_POPULACAO\n",
    "    max_fit = max(valores_fitness)\n",
    "\n",
    "    valor_medio_fit.append(medio_fit)\n",
    "    valor_max_fit.append(max_fit)\n",
    "\n",
    "    if max_fit > melhor_fitness:\n",
    "        melhor_individuo = populacao[valores_fitness.index(max_fit)]\n",
    "        melhor_fitness = max_fit\n",
    "\n",
    "\n",
    "#Encerramento\n",
    "populacao = proxima_geracao\n",
    "\n",
    "print ( \"Melhor indivíduo:\" , melhor_individuo) \n",
    "print ( \"Melhor fitness:\" , melhor_fitness) \n",
    "print ( \"Valor da função no melhor ponto:\" , velocidade(melhor_individuo)) \n",
    "velocidade_max = \"14 h - 46 km/h\" \n",
    "print ( \"Velocidade máxima conhecida:\" , velocidade_max)\n",
    "\n"
   ]
  },
  {
   "cell_type": "markdown",
   "metadata": {},
   "source": [
    "### 💡 **Analisando os resultados** \n",
    "\n",
    "É possível perceber que, utilizando diversos parâmetros de busca distintos, os algoritmos genéticos sempre convergiram para a resposta correta ao problema. Assim, podemos compreender como os algoritmos genéticos são ferramentas interessantes para solucionar problemas de otimização.\n",
    "\n",
    "----\n",
    "### 📚 Referências:\n",
    "\n",
    "BALBO, Arnaldo. Problemas de otimização. UNESP – Faculdade de Ciências, Departamento de Computação, [s.d.]. Disponível em: <https://wwwp.fc.unesp.br/~arbalbo/arquivos/problemasdeotimizacao.pdf>. Acesso em: 13 maio 2025.\n",
    "\n",
    "WIKIPÉDIA. Problema de otimização. Disponível em: <https://pt.wikipedia.org/wiki/Problema_de_otimiza%C3%A7%C3%A3o>. Acesso em: 13 maio 2025.\n",
    "\n",
    "PACHECO, André. O problema de otimização. Disponível em: <https://computacaointeligente.com.br/conceitos/o-problema-de-otimizacao/>. Acesso em: 13 maio 2025.\n",
    "\n",
    "OPENAI. ChatGPT (versão GPT-4) [programa de computador]. Disponível em: <https://chatgpt.com/share/6823f2a5-42b0-8005-9ef8-52546ca989b5>. Acesso em: 13 maio 2025."
   ]
  }
 ],
 "metadata": {
  "kernelspec": {
   "display_name": "Python 3",
   "language": "python",
   "name": "python3"
  },
  "language_info": {
   "codemirror_mode": {
    "name": "ipython",
    "version": 3
   },
   "file_extension": ".py",
   "mimetype": "text/x-python",
   "name": "python",
   "nbconvert_exporter": "python",
   "pygments_lexer": "ipython3",
   "version": "3.11.6"
  }
 },
 "nbformat": 4,
 "nbformat_minor": 2
}
