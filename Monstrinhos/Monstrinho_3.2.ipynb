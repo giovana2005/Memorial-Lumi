{
 "cells": [
  {
   "cell_type": "markdown",
   "metadata": {},
   "source": [
    "# **<span style=\"font-family: 'Palatino Linotype', serif;\">🧪⚗️ \"Átomos não são bolinhas e ligações químicas não são pauzinhos\" - Prof Julio</span>**\n",
    "\n",
    "----\n",
    "\n",
    "*<span style=\"font-family: 'Angilla Tattoo'\"> 🔮✨ \"Pelos coeficientes estequiométricos e pela força dos radicais livres, que a entropia devore sua estrutura molecular! Eu invoco a Reação de Combustão para reduzir você a CO₂ e H₂O!\" 🔥 </span>*\n",
    "\n",
    "<div align=\"center\">\n",
    "    <img src = \"Luta maga.png\" alt = \"Maga Patolina\" width = 300>\n",
    "</div>"
   ]
  },
  {
   "cell_type": "markdown",
   "metadata": {},
   "source": [
    "----"
   ]
  },
  {
   "cell_type": "markdown",
   "metadata": {},
   "source": [
    "**Objetivo**: Criar classes que representem elementos químicos e compostos moleculares. Os atributos da classe Elementos devem representar informações relevantes sobre esse átomo. Já a classe Moléculas irá receber um dicionário, onde as chaves representam os elementos que compõe a molécula e os valores a quantidade do respectivo elemento. A classe irá devolver o peso atômico e fórmula molecular do composto."
   ]
  },
  {
   "cell_type": "markdown",
   "metadata": {},
   "source": [
    "----\n"
   ]
  },
  {
   "cell_type": "markdown",
   "metadata": {},
   "source": [
    "### 🧪 Class Elementos:"
   ]
  },
  {
   "cell_type": "code",
   "execution_count": 1,
   "metadata": {},
   "outputs": [],
   "source": [
    "class Elementos:\n",
    "    \"\"\"Classe para representar elementos químicos\"\"\"\n",
    "\n",
    "    def __init__(self, simbolo, n_atomico, peso_atomico, tipo, estado_fisico):\n",
    "\n",
    "        self.simbolo = simbolo\n",
    "        self.n_atomico = n_atomico\n",
    "        self.peso_atomico = peso_atomico\n",
    "        self.tipo = tipo\n",
    "        self.estado_fisico = estado_fisico\n",
    "\n",
    "    def __repr__(self):\n",
    "        return f\"O elemento químico {self.simbolo} é um {self.tipo}, se encontra em estado {self.estado_fisico}, possui número atômico {self.n_atomico} e peso atômico {self.peso_atomico}\""
   ]
  },
  {
   "cell_type": "code",
   "execution_count": 2,
   "metadata": {},
   "outputs": [
    {
     "name": "stdout",
     "output_type": "stream",
     "text": [
      "O elemento químico H é um não metal, se encontra em estado gasoso, possui número atômico 1 e peso atômico 1.008\n",
      "\n",
      "O elemento químico C é um não metal, se encontra em estado gasoso, possui número atômico 6 e peso atômico 12.011\n",
      "\n",
      "O elemento químico Na é um metal alcalino, se encontra em estado sólido, possui número atômico 11 e peso atômico 22.99\n",
      "\n",
      "O elemento químico Fe é um metal de transição, se encontra em estado sólido, possui número atômico 26 e peso atômico 55.845\n"
     ]
    },
    {
     "data": {
      "text/plain": [
       "O elemento químico O é um não metal, se encontra em estado gasoso, possui número atômico 8 e peso atômico 15.999"
      ]
     },
     "execution_count": 2,
     "metadata": {},
     "output_type": "execute_result"
    }
   ],
   "source": [
    "hidrogenio = Elementos(\"H\", 1, 1.008, \"não metal\", \"gasoso\")\n",
    "carbono = Elementos(\"C\", 6, 12.011, \"não metal\", \"gasoso\")\n",
    "sodio = Elementos(\"Na\", 11, 22.990, \"metal alcalino\", \"sólido\")\n",
    "ferro = Elementos(\"Fe\", 26, 55.845, \"metal de transição\", \"sólido\")\n",
    "oxigenio = Elementos(\"O\", 8, 15.999, \"não metal\", \"gasoso\")\n",
    "\n",
    "print(hidrogenio)\n",
    "print()\n",
    "print(carbono)\n",
    "print()\n",
    "print(sodio)\n",
    "print()\n",
    "print(ferro)\n",
    "oxigenio"
   ]
  },
  {
   "cell_type": "markdown",
   "metadata": {},
   "source": [
    "----\n"
   ]
  },
  {
   "cell_type": "markdown",
   "metadata": {},
   "source": [
    "### 🔮 Class Molécula:"
   ]
  },
  {
   "cell_type": "code",
   "execution_count": 3,
   "metadata": {},
   "outputs": [],
   "source": [
    "agua = { \n",
    "    hidrogenio: 2,\n",
    "    oxigenio: 1,\n",
    "}\n",
    "\n",
    "glicose = { carbono: 6, hidrogenio: 12, oxigenio: 6}\n"
   ]
  },
  {
   "cell_type": "code",
   "execution_count": 4,
   "metadata": {},
   "outputs": [],
   "source": [
    "class Molecula:\n",
    "     \n",
    "     def __init__(self, dicionario):\n",
    "         self.dicionario = dicionario\n",
    "\n",
    "     def peso(self):\n",
    "        \n",
    "        peso_molecular = 0\n",
    "\n",
    "        for chave, valor in self.dicionario.items():\n",
    "             \n",
    "             peso_molecular += (chave.peso_atomico * valor)\n",
    "\n",
    "        return peso_molecular\n",
    "             \n",
    "     def formula(self):\n",
    "         formula = []\n",
    "\n",
    "         for chave, valor in self.dicionario.items():\n",
    "            \n",
    "            string = str(valor)\n",
    "            formula.append(chave.simbolo)\n",
    "            formula.append(string)\n",
    "            delimiter = \" \" \n",
    "            join_str = delimiter.join(formula)\n",
    "            print(join_str)\n",
    "\n",
    "         return join_str\n",
    "\n"
   ]
  },
  {
   "cell_type": "code",
   "execution_count": 5,
   "metadata": {},
   "outputs": [
    {
     "data": {
      "text/plain": [
       "18.015"
      ]
     },
     "execution_count": 5,
     "metadata": {},
     "output_type": "execute_result"
    }
   ],
   "source": [
    "h2o = Molecula(agua)\n",
    "h2o.peso()"
   ]
  },
  {
   "cell_type": "code",
   "execution_count": 6,
   "metadata": {},
   "outputs": [
    {
     "name": "stdout",
     "output_type": "stream",
     "text": [
      "H 2\n",
      "H 2 O 1\n"
     ]
    },
    {
     "data": {
      "text/plain": [
       "'H 2 O 1'"
      ]
     },
     "execution_count": 6,
     "metadata": {},
     "output_type": "execute_result"
    }
   ],
   "source": [
    "h2o.formula()"
   ]
  },
  {
   "cell_type": "code",
   "execution_count": 7,
   "metadata": {},
   "outputs": [
    {
     "data": {
      "text/plain": [
       "180.156"
      ]
     },
     "execution_count": 7,
     "metadata": {},
     "output_type": "execute_result"
    }
   ],
   "source": [
    "c6h12o6 = Molecula(glicose)\n",
    "c6h12o6.peso()"
   ]
  },
  {
   "cell_type": "code",
   "execution_count": 8,
   "metadata": {},
   "outputs": [
    {
     "name": "stdout",
     "output_type": "stream",
     "text": [
      "C 6\n",
      "C 6 H 12\n",
      "C 6 H 12 O 6\n"
     ]
    },
    {
     "data": {
      "text/plain": [
       "'C 6 H 12 O 6'"
      ]
     },
     "execution_count": 8,
     "metadata": {},
     "output_type": "execute_result"
    }
   ],
   "source": [
    "c6h12o6.formula()"
   ]
  },
  {
   "cell_type": "markdown",
   "metadata": {},
   "source": [
    "----\n"
   ]
  },
  {
   "cell_type": "markdown",
   "metadata": {},
   "source": [
    "### 📊 Conclusão:\n",
    "A partir deste trabalho, foi possível treinar a construção de classes, assim como a utilização de características de uma dada classe dentro de outra classe. Isto é útil na resolução de diversos problemas científicos e otimiza certas operações, tendo em vista que podemos usar paâmetros já definidos na classe anterior para resolver problemas da classe atual. \n",
    "\n",
    "----"
   ]
  },
  {
   "cell_type": "markdown",
   "metadata": {},
   "source": [
    "### 📚 Referências:\n",
    "\n",
    "OPENAI. ChatGPT. Disponível em: <https://chatgpt.com/share/67d97991-960c-8005-9206-0f00be94a0d2>. Acesso em: 18 mar. 2025.\n",
    "\n",
    "DATACAMP. How to convert a list to a string in Python. Disponível em: <https://www.datacamp.com/pt/tutorial/how-to-convert-a-list-to-a-string-in-python>. Acesso em: 18 mar. 2025.\n",
    "\n",
    "AWARI. Lista para string: convertendo listas em strings com Python. Disponível em: <https://awari.com.br/lista-para-string-convertendo-listas-em-strings-com-python/>. Acesso em: 18 mar. 2025."
   ]
  }
 ],
 "metadata": {
  "kernelspec": {
   "display_name": "Python 3",
   "language": "python",
   "name": "python3"
  },
  "language_info": {
   "codemirror_mode": {
    "name": "ipython",
    "version": 3
   },
   "file_extension": ".py",
   "mimetype": "text/x-python",
   "name": "python",
   "nbconvert_exporter": "python",
   "pygments_lexer": "ipython3",
   "version": "3.11.6"
  }
 },
 "nbformat": 4,
 "nbformat_minor": 2
}
