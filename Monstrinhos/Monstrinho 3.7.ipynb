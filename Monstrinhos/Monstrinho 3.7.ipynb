{
 "cells": [
  {
   "cell_type": "markdown",
   "metadata": {},
   "source": [
    "# **<span style=\"font-family: 'Palatino Linotype', serif;\">🐢🐇 Comparando as performances</span>**\n",
    "----\n",
    "*<span style=\"font-family: 'Angilla Tattoo'\"> \"Testaram minha performance em 12 realidades. Em todas, fui banida por ser apelona.\"⚡🎮🚷 </span>*\n",
    "\n",
    "*<span style=\"font-family: 'Angilla Tattoo'\"> - Maga Patolina </span>*\n",
    "\n",
    "<div align=\"center\">\n",
    "    <img src = \"Maga dimensoes.png\" alt = \"Maga nas realidades\" width = 300>\n",
    "</div>\n",
    "\n",
    "----\n",
    " **Objetivo:** Nesse notebook, irei comparar o tempo de resolução de três algoritmos de otimização (busca aletória, busca em grade e algoritmo genético) no problema das caixas binárias. Para isso, irei selecionar 10 valores distintos de caixas e rodar a mesma busca repetidas vezes para encontrar as médias de  tempo. \n",
    " \n",
    "---"
   ]
  },
  {
   "cell_type": "code",
   "execution_count": 2,
   "metadata": {},
   "outputs": [],
   "source": [
    "from funcoes_2 import funcao_objetivo_pop_cb as funcao_objetivo\n",
    "from funcoes_2 import populacao_cb as cria_populacao\n",
    "from funcoes_2 import selecao_roleta_max as funcao_selecao\n",
    "from funcoes_2 import cruzamento_ponto_simples as funcao_cruzamento\n",
    "from funcoes_2 import mutacao_simples_cb as funcao_mutacao\n",
    "from funcoes_1 import funcao_objetivo_cb as funcao_objetivo_ba\n",
    "from funcoes_1 import gene_cb as gene\n",
    "from funcoes_1 import cria_candidato_cb as cria_candidato \n",
    "from pprint import pprint\n",
    "import random\n",
    "import time\n",
    "import itertools\n",
    "import statistics"
   ]
  },
  {
   "cell_type": "markdown",
   "metadata": {},
   "source": [
    "----"
   ]
  },
  {
   "cell_type": "markdown",
   "metadata": {},
   "source": [
    "### 🕵️‍♀️ **Busca aleatória**"
   ]
  },
  {
   "cell_type": "code",
   "execution_count": 3,
   "metadata": {},
   "outputs": [
    {
     "name": "stdout",
     "output_type": "stream",
     "text": [
      "[2, 3, 4, 5, 6, 7, 8, 9, 10, 11]\n"
     ]
    }
   ],
   "source": [
    "lista_valores_candidatos = list(range(2,12))\n",
    "print(lista_valores_candidatos)"
   ]
  },
  {
   "cell_type": "code",
   "execution_count": 4,
   "metadata": {},
   "outputs": [],
   "source": [
    "sorteios = 50"
   ]
  },
  {
   "cell_type": "code",
   "execution_count": 10,
   "metadata": {},
   "outputs": [
    {
     "name": "stdout",
     "output_type": "stream",
     "text": [
      "O tempo médio parao algoritmo de busca aletória foi 0.0031563758850097655\n"
     ]
    }
   ],
   "source": [
    "NUM_REPETICOES = range(20)\n",
    "tempos = []\n",
    "\n",
    "for num in NUM_REPETICOES:\n",
    "    tempo_inicial = time.time()\n",
    "\n",
    "    for tamanho in lista_valores_candidatos:\n",
    "        for i in range(sorteios):\n",
    "            candidato = cria_candidato(tamanho)  \n",
    "            fun_obj = funcao_objetivo_ba(candidato)\n",
    "            # print(f\"Tamanho {tamanho}, Sorteio {i}: {fun_obj}\")\n",
    "\n",
    "    tempo_final = time.time()\n",
    "\n",
    "    tempo_execucao = tempo_final - tempo_inicial\n",
    "    tempos.append(tempo_execucao)\n",
    "\n",
    "media_tempos = statistics.mean(tempos)\n",
    "\n",
    "print(\"O tempo médio parao algoritmo de busca aletória foi\", media_tempos)"
   ]
  },
  {
   "cell_type": "markdown",
   "metadata": {},
   "source": [
    "Para os menores de valores de n dos candidatos, foi possível encontrar a resposta correta do problema. Quanto mais os valores aumentam, mais difícil é para o problema convergir e mais distantes do maior resultado possível se tornam os resultados obtidos.\n",
    "\n",
    "----"
   ]
  },
  {
   "cell_type": "markdown",
   "metadata": {},
   "source": [
    "### 🔲 **Busca em grade**"
   ]
  },
  {
   "cell_type": "markdown",
   "metadata": {},
   "source": []
  },
  {
   "cell_type": "code",
   "execution_count": 11,
   "metadata": {},
   "outputs": [
    {
     "name": "stdout",
     "output_type": "stream",
     "text": [
      "O tempo médio parao algoritmo de busca aletória foi 0.00141448974609375\n"
     ]
    }
   ],
   "source": [
    "NUM_REPETICOES = range(20)\n",
    "tempos = []\n",
    "\n",
    "for num in NUM_REPETICOES:\n",
    "    tempo_inicial = time.time()\n",
    "\n",
    "    for tamanho in lista_valores_candidatos:\n",
    "        todas_combinacoes = list(itertools.product([0, 1], repeat=tamanho))\n",
    "\n",
    "    for candidato in todas_combinacoes:\n",
    "        candidato = list(candidato)\n",
    "        func_obj_bg = funcao_objetivo_ba(candidato)\n",
    "        # print(f\"Tamanho {tamanho}, {func_obj_bg}\")\n",
    "\n",
    "    tempo_final = time.time()\n",
    "    tempo_execucao = tempo_final - tempo_inicial\n",
    "    tempos.append(tempo_execucao)\n",
    "\n",
    "media_tempos = statistics.mean(tempos)\n",
    "\n",
    "print(\"O tempo médio parao algoritmo de busca aletória foi\", media_tempos)"
   ]
  },
  {
   "cell_type": "markdown",
   "metadata": {},
   "source": [
    "Nesse caso, como testamos todas as combinações possíveis, garantimos que iremos encontrar o melhor resultado possível para qualquer número de n. \n",
    "\n",
    "----"
   ]
  },
  {
   "cell_type": "markdown",
   "metadata": {},
   "source": [
    "### 🧬 **Algoritmo genético**"
   ]
  },
  {
   "cell_type": "code",
   "execution_count": 7,
   "metadata": {},
   "outputs": [],
   "source": [
    "TAMANHO_POPULACAO = 10\n",
    "NUM_GERACOES = 50\n",
    "CHANCE_DE_CRUZAMENTO = 0.5\n",
    "CHANCE_DE_MUTACAO = 0.05"
   ]
  },
  {
   "cell_type": "code",
   "execution_count": 8,
   "metadata": {},
   "outputs": [
    {
     "name": "stdout",
     "output_type": "stream",
     "text": [
      "\n",
      "Tamanho: 2\n",
      "[[0, 1], [1, 1], [1, 0], [0, 1], [0, 0], [1, 1], [0, 1], [0, 1], [1, 0], [1, 1]]\n",
      "\n",
      "Tamanho: 3\n",
      "[[1, 0, 1],\n",
      " [0, 1, 1],\n",
      " [1, 0, 0],\n",
      " [0, 1, 0],\n",
      " [1, 0, 1],\n",
      " [1, 0, 0],\n",
      " [0, 0, 0],\n",
      " [0, 0, 1],\n",
      " [1, 0, 1],\n",
      " [1, 1, 0]]\n",
      "\n",
      "Tamanho: 4\n",
      "[[1, 1, 0, 1],\n",
      " [0, 1, 1, 0],\n",
      " [1, 1, 0, 1],\n",
      " [0, 0, 1, 1],\n",
      " [1, 1, 1, 0],\n",
      " [1, 0, 1, 1],\n",
      " [1, 0, 1, 1],\n",
      " [1, 1, 1, 0],\n",
      " [0, 1, 0, 1],\n",
      " [0, 1, 1, 0]]\n",
      "\n",
      "Tamanho: 5\n",
      "[[1, 1, 1, 1, 1],\n",
      " [1, 0, 0, 0, 1],\n",
      " [0, 1, 0, 0, 0],\n",
      " [0, 0, 1, 0, 0],\n",
      " [0, 0, 0, 0, 0],\n",
      " [0, 1, 0, 0, 0],\n",
      " [1, 0, 0, 1, 0],\n",
      " [1, 0, 1, 0, 0],\n",
      " [0, 0, 0, 1, 1],\n",
      " [1, 0, 1, 0, 1]]\n",
      "\n",
      "Tamanho: 6\n",
      "[[0, 0, 0, 1, 0, 1],\n",
      " [1, 0, 1, 0, 0, 0],\n",
      " [0, 0, 0, 0, 1, 1],\n",
      " [1, 0, 1, 0, 1, 1],\n",
      " [1, 1, 1, 1, 0, 0],\n",
      " [1, 1, 1, 0, 1, 0],\n",
      " [1, 1, 1, 1, 1, 1],\n",
      " [1, 0, 0, 1, 0, 1],\n",
      " [0, 0, 1, 0, 0, 1],\n",
      " [0, 0, 0, 1, 0, 0]]\n",
      "\n",
      "Tamanho: 7\n",
      "[[0, 1, 1, 1, 0, 0, 1],\n",
      " [0, 0, 0, 0, 0, 0, 1],\n",
      " [1, 0, 0, 1, 1, 1, 1],\n",
      " [0, 0, 1, 1, 0, 1, 0],\n",
      " [0, 0, 0, 0, 0, 1, 0],\n",
      " [0, 1, 1, 0, 0, 0, 0],\n",
      " [1, 1, 0, 0, 1, 1, 0],\n",
      " [1, 1, 0, 1, 1, 0, 1],\n",
      " [1, 0, 0, 0, 0, 0, 1],\n",
      " [0, 0, 0, 0, 1, 1, 1]]\n",
      "\n",
      "Tamanho: 8\n",
      "[[1, 1, 1, 1, 1, 1, 0, 0],\n",
      " [0, 0, 1, 1, 1, 0, 0, 1],\n",
      " [1, 0, 0, 0, 0, 1, 1, 1],\n",
      " [1, 0, 1, 0, 0, 1, 0, 0],\n",
      " [0, 1, 0, 1, 1, 1, 0, 1],\n",
      " [1, 0, 0, 1, 1, 1, 0, 0],\n",
      " [1, 1, 1, 0, 1, 0, 0, 0],\n",
      " [1, 0, 1, 1, 1, 1, 1, 1],\n",
      " [1, 1, 0, 0, 0, 0, 1, 0],\n",
      " [1, 1, 0, 0, 0, 1, 0, 0]]\n",
      "\n",
      "Tamanho: 9\n",
      "[[0, 1, 0, 0, 1, 1, 1, 1, 1],\n",
      " [0, 1, 1, 0, 1, 0, 1, 0, 1],\n",
      " [0, 1, 0, 0, 0, 1, 1, 1, 1],\n",
      " [1, 1, 0, 0, 0, 0, 1, 0, 0],\n",
      " [1, 1, 1, 1, 1, 1, 1, 1, 0],\n",
      " [0, 0, 1, 1, 0, 0, 1, 1, 1],\n",
      " [1, 0, 1, 1, 0, 1, 0, 1, 0],\n",
      " [0, 1, 1, 0, 1, 1, 0, 0, 1],\n",
      " [1, 0, 1, 0, 1, 1, 0, 0, 0],\n",
      " [0, 1, 0, 0, 1, 0, 1, 1, 0]]\n",
      "\n",
      "Tamanho: 10\n",
      "[[0, 0, 1, 1, 1, 1, 1, 0, 1, 1],\n",
      " [0, 1, 1, 1, 0, 0, 1, 1, 0, 1],\n",
      " [0, 1, 1, 0, 1, 0, 1, 1, 0, 1],\n",
      " [1, 1, 0, 1, 1, 0, 1, 1, 0, 1],\n",
      " [0, 0, 0, 0, 1, 0, 1, 1, 0, 1],\n",
      " [1, 1, 0, 1, 1, 0, 1, 0, 0, 1],\n",
      " [1, 0, 1, 0, 1, 0, 0, 1, 1, 0],\n",
      " [1, 0, 0, 1, 0, 1, 0, 1, 0, 0],\n",
      " [0, 0, 0, 1, 0, 0, 0, 1, 0, 0],\n",
      " [1, 1, 0, 1, 1, 0, 0, 1, 1, 0]]\n",
      "\n",
      "Tamanho: 11\n",
      "[[1, 1, 0, 1, 0, 1, 0, 1, 0, 1, 0],\n",
      " [0, 1, 0, 0, 0, 0, 1, 1, 1, 1, 1],\n",
      " [1, 1, 1, 1, 0, 1, 1, 1, 0, 0, 1],\n",
      " [1, 1, 1, 1, 1, 0, 0, 0, 0, 0, 0],\n",
      " [0, 0, 1, 1, 1, 1, 0, 0, 1, 0, 1],\n",
      " [1, 0, 0, 0, 1, 0, 0, 0, 1, 0, 1],\n",
      " [0, 1, 1, 0, 1, 0, 0, 1, 1, 1, 0],\n",
      " [1, 1, 1, 1, 0, 0, 0, 0, 0, 0, 1],\n",
      " [1, 1, 0, 0, 1, 0, 1, 0, 0, 0, 0],\n",
      " [1, 0, 1, 1, 0, 0, 0, 0, 0, 1, 1]]\n"
     ]
    }
   ],
   "source": [
    "for tamanho in lista_valores_candidatos:\n",
    "    populacao = cria_populacao(TAMANHO_POPULACAO, tamanho)\n",
    "    print(f\"\\nTamanho: {tamanho}\")\n",
    "    pprint(populacao)"
   ]
  },
  {
   "cell_type": "code",
   "execution_count": 12,
   "metadata": {},
   "outputs": [
    {
     "name": "stdout",
     "output_type": "stream",
     "text": [
      "O tempo médio parao algoritmo de busca aletória foi 0.0951123833656311\n"
     ]
    }
   ],
   "source": [
    "todas_populacoes = {}\n",
    "lista_valores_candidatos = list(range(2, 12)) \n",
    "NUM_REPETICOES = range(20)\n",
    "tempos = []\n",
    "\n",
    "for tamanho in lista_valores_candidatos:\n",
    "    todas_populacoes[tamanho] = cria_populacao(TAMANHO_POPULACAO, tamanho)\n",
    "\n",
    "tempo_inicial = time.time() \n",
    "\n",
    "NUM_REPETICOES = range(20)\n",
    "tempos = []\n",
    "\n",
    "for num in NUM_REPETICOES:\n",
    "\n",
    "    for tamanho, populacao_inicial in todas_populacoes.items():\n",
    "        # print(f\"\\nRodando algoritmo genético para população com {tamanho} genes\")\n",
    "        populacao = populacao_inicial.copy()\n",
    "        hall_da_fama = []\n",
    "\n",
    "        for n in range(NUM_GERACOES):\n",
    "            \n",
    "            # Seleção\n",
    "            fitness = funcao_objetivo(populacao)        \n",
    "            selecionados = funcao_selecao(populacao, fitness)\n",
    "            \n",
    "            # Cruzamento\n",
    "            proxima_geracao = []\n",
    "            for pai, mae in zip(selecionados[::2], selecionados[1::2]):\n",
    "                individuo1, individuo2 = funcao_cruzamento(pai, mae, CHANCE_DE_CRUZAMENTO)\n",
    "                proxima_geracao.append(individuo1)\n",
    "                proxima_geracao.append(individuo2)\n",
    "            \n",
    "            # Mutação\n",
    "            funcao_mutacao(proxima_geracao, CHANCE_DE_MUTACAO)\n",
    "            \n",
    "            # Atualização do hall da fama\n",
    "            fitness = funcao_objetivo(proxima_geracao)\n",
    "            maior_fitness = max(fitness)\n",
    "            indice = fitness.index(maior_fitness)\n",
    "            hall_da_fama.append(proxima_geracao[indice])    \n",
    "            \n",
    "            # Encerramento\n",
    "            populacao = proxima_geracao\n",
    "\n",
    "        # print(f\"Melhor indivíduo para tamanho {tamanho}: {hall_da_fama[-1]}\")\n",
    "\n",
    "    tempo_final = time.time()\n",
    "    tempo_execucao = tempo_final - tempo_inicial\n",
    "\n",
    "    tempos.append(tempo_execucao)\n",
    "\n",
    "media_tempos = statistics.mean(tempos)\n",
    "\n",
    "print(\"O tempo médio parao algoritmo de busca aletória foi\", media_tempos)"
   ]
  },
  {
   "cell_type": "markdown",
   "metadata": {},
   "source": [
    "----\n",
    "\n",
    "### 💡 **Analisando os resultados** \n",
    "\n",
    "Podemos observar que o algoritmo de busca aleatória é o que funciona em menor tempo, porém, dificilmente converge para valores maiores de n. O algoritmo em busca grade garante que o melhor resulatado possível será encontrado, porém leva um tempo maior para fazer isso, que aumenta exponencialmente com a quantidade de dados, e é mais custoso computacionalmente. Já os algoritmos genéticos, nesse caso, foi o mais longo, porém, o tempo para encontrar a resposta cresce mais lentamente conforme os dados aumentam, e em geral é posspivel convergir para valores maiores de n. Assim, podemos concluir que os algortimos genéticos são uma boa estratégia de otimização. \n",
    "\n",
    "----\n",
    "### 📚 Referências:\n",
    "\n",
    "OPENAI. ChatGPT (versão GPT-4) [programa de computador]. Disponível em: <https://chatgpt.com/share/6807a849-a330-8005-a38e-db909257b2e9>. Acesso em: 18 abr. 2025."
   ]
  }
 ],
 "metadata": {
  "kernelspec": {
   "display_name": "Python 3",
   "language": "python",
   "name": "python3"
  },
  "language_info": {
   "codemirror_mode": {
    "name": "ipython",
    "version": 3
   },
   "file_extension": ".py",
   "mimetype": "text/x-python",
   "name": "python",
   "nbconvert_exporter": "python",
   "pygments_lexer": "ipython3",
   "version": "3.11.6"
  }
 },
 "nbformat": 4,
 "nbformat_minor": 2
}
