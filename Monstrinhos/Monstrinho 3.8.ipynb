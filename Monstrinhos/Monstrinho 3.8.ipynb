{
 "cells": [
  {
   "cell_type": "markdown",
   "metadata": {},
   "source": [
    "# **<span style=\"font-family: 'Palatino Linotype', serif;\">🧙‍♀️✨ Função Himemblau </span>**\n",
    "----\n",
    "*<span style=\"font-family: 'Angilla Tattoo'\"> \"Quando as estrelas esquecem seus nomes e o tempo recua em silêncio, a Maga Patolina ergue o cajado de himemblau — e com um sussurro, reescreve os limites do impossível.\" 🪄🌟⏳ </span>*\n",
    "\n",
    "<div align=\"center\">\n",
    "    <img src = \"Maga constelação.png\" alt = \"Maga constelação\" width = 300>\n",
    "</div>\n",
    "\n",
    "----\n",
    " **Objetivo:** Usar um algoritmo genético para encontrar as coordenadas x e y dos mínimos globais da função de Himemblau a seguir: \n",
    " \n",
    " $ f(x,y) = (x^2 + y -11)^2 + (x +y^2 - 7)^2 $\n",
    "\n",
    " A função Himemblau é uma função multimodal utilizada para testar o desempenho de algoritmos de otimização. Seus valores de mínimos conhecidos são:\n",
    "\n",
    " $ f(x,y) = (3.0, 2.0) = 0 $\n",
    "\n",
    " $ f(x,y) = (-2.805118, 3.131312) = 0 $\n",
    "\n",
    " $ f(x,y) = (-3.77931, -3.283186) = 0 $\n",
    " \n",
    " $ f(x,y) = (3.584428, -1.848126) = 0 $\n",
    " \n",
    " <div align=\"center\">\n",
    "    <img src = \"Himmelblau_function.svg.png\" alt = \"funcao\" width = 300>\n",
    "</div>\n",
    "\n",
    "---"
   ]
  },
  {
   "cell_type": "code",
   "execution_count": 1,
   "metadata": {},
   "outputs": [],
   "source": [
    "# importar bibliotecas\n",
    "import random\n",
    "import copy"
   ]
  },
  {
   "cell_type": "code",
   "execution_count": 2,
   "metadata": {},
   "outputs": [],
   "source": [
    "# definir função himemblau\n",
    "def himemblau(x,y):\n",
    "    return (x**2 + y -11)**2 + (x+ y**2 - 7)**2\n"
   ]
  },
  {
   "cell_type": "code",
   "execution_count": 3,
   "metadata": {},
   "outputs": [],
   "source": [
    "def fitness(valor):\n",
    "    return - himemblau(valor[0], valor[1])\n",
    "\n",
    "def funcao_selecao(populacao, fitness, tamanho_torneio):\n",
    "    \n",
    "    selecionados = []\n",
    "\n",
    "    for _ in range(len(populacao)):\n",
    "        sorteados = random.sample(populacao, tamanho_torneio) # retorna uma lista com elementos da população\n",
    "\n",
    "        fitness_sorteados = []\n",
    "        for individuo in sorteados:\n",
    "            indice_individuo = populacao.index(individuo)\n",
    "            fitness_sorteados.append(fitness(individuo))\n",
    "\n",
    "        min_fitness = min(fitness_sorteados)\n",
    "        indice_min_fitness = fitness_sorteados.index(min_fitness)\n",
    "        individuo_selecionado = sorteados[indice_min_fitness]\n",
    "\n",
    "        selecionados.append(individuo_selecionado)\n",
    "\n",
    "    return selecionados\n",
    "\n",
    "def funcao_cruzamento(pai, mae, chance_de_cruzamento):\n",
    "    \n",
    "    if random.random() < chance_de_cruzamento and len(pai) >= 2:\n",
    "        filho1 = [pai[0], mae[1]] \n",
    "        filho2 = [mae[0], pai[1]]\n",
    "        return filho1, filho2\n",
    "    else:\n",
    "        return pai, mae\n",
    "    \n",
    "def funcao_mutacao(\n",
    "    populacao, chance_de_mutacao, chance_mutacao_gene, valor_max\n",
    "):\n",
    "    nova_populacao = copy.deepcopy(populacao) \n",
    "    for individuo in populacao:\n",
    "        if random.random() < chance_de_mutacao:\n",
    "            for gene in range(len(individuo)):\n",
    "                if random.random() < chance_mutacao_gene:\n",
    "                    valores_possiveis = list(range(valor_max + 1))\n",
    "                    valor_gene = individuo[gene]\n",
    "                    valores_possiveis.remove(valor_gene)\n",
    "                    individuo[gene] = random.choice(valores_possiveis)\n",
    "    return nova_populacao\n"
   ]
  },
  {
   "cell_type": "code",
   "execution_count": 4,
   "metadata": {},
   "outputs": [],
   "source": [
    "# definir os parêmetro do algoritmo genético\n",
    "TAMANHO_POPULACAO = 15\n",
    "NUM_GERACOES = [list(range(100))]\n",
    "CHANCE_DE_CRUZAMENTO = 0.5\n",
    "CHANCE_DE_MUTACAO = 0.05\n",
    "CHANCE_DE_MUTACAO_GENE = 0.05"
   ]
  },
  {
   "cell_type": "code",
   "execution_count": 5,
   "metadata": {},
   "outputs": [],
   "source": [
    "# intervalo de x e y\n",
    "x_range = (- 5 , 5 ) \n",
    "y_range = (- 5 , 5 ) "
   ]
  },
  {
   "cell_type": "code",
   "execution_count": 6,
   "metadata": {},
   "outputs": [
    {
     "name": "stdout",
     "output_type": "stream",
     "text": [
      "[(4.383644688798331, -2.7626417192242867), (1.1125905681630153, 2.282199654546635), (-4.743682087305896, -3.8159513467754893), (-1.8062645851745094, 0.08965440476139008), (-4.759536550800033, -4.159216708931809), (-2.223280418983349, 2.335527843519997), (3.1854824260378596, -2.2000233300411587), (-0.31863329440459864, -0.21791792100722418), (-2.976844712178716, 4.8326354703727805), (2.174658913516353, 3.1778105736884115), (3.460411559049117, 1.8394076002179895), (-0.7335090853047275, -4.76458733470647), (2.9258577528893497, 4.1290892092091305), (-4.8116437125135025, 4.168407859042889), (-4.257927159118758, -0.19558552014832742)]\n"
     ]
    }
   ],
   "source": [
    "# definindo a população\n",
    "populacao = [(random.uniform(x_range[ 0 ], x_range[ 1 ]), random.uniform(y_range[ 0 ], y_range[ 1 ])) for _ in  range (TAMANHO_POPULACAO)] \n",
    "print(populacao)\n",
    "hall_da_fama = []"
   ]
  },
  {
   "cell_type": "code",
   "execution_count": 7,
   "metadata": {},
   "outputs": [],
   "source": [
    "valor_medio_fit = [] \n",
    "valor_max_fit = [] \n",
    "melhor_individuo = None\n",
    "melhor_fitness = float ( '-inf' ) "
   ]
  },
  {
   "cell_type": "code",
   "execution_count": 8,
   "metadata": {},
   "outputs": [
    {
     "name": "stdout",
     "output_type": "stream",
     "text": [
      "A seleção foi [(-4.8116437125135025, 4.168407859042889), (-0.31863329440459864, -0.21791792100722418), (-2.976844712178716, 4.8326354703727805), (-0.7335090853047275, -4.76458733470647), (-4.743682087305896, -3.8159513467754893), (-0.31863329440459864, -0.21791792100722418), (-4.8116437125135025, 4.168407859042889), (-4.257927159118758, -0.19558552014832742), (-0.7335090853047275, -4.76458733470647), (-2.976844712178716, 4.8326354703727805), (-4.8116437125135025, 4.168407859042889), (-4.8116437125135025, 4.168407859042889), (2.9258577528893497, 4.1290892092091305), (-4.8116437125135025, 4.168407859042889), (-0.7335090853047275, -4.76458733470647)]\n",
      "A proxima geração, após cruzamento, é [(-4.8116437125135025, 4.168407859042889), (-0.31863329440459864, -0.21791792100722418), [-2.976844712178716, -4.76458733470647], [-0.7335090853047275, 4.8326354703727805], [-4.743682087305896, -0.21791792100722418], [-0.31863329440459864, -3.8159513467754893], (-4.8116437125135025, 4.168407859042889), (-4.257927159118758, -0.19558552014832742), [-0.7335090853047275, 4.8326354703727805], [-2.976844712178716, -4.76458733470647], [-4.8116437125135025, 4.168407859042889], [-4.8116437125135025, 4.168407859042889], (2.9258577528893497, 4.1290892092091305), (-4.8116437125135025, 4.168407859042889)]\n",
      "Os indivíduos mutados são [(-4.8116437125135025, 4.168407859042889), (-0.31863329440459864, -0.21791792100722418), [-2.976844712178716, -4.76458733470647], [-0.7335090853047275, 4.8326354703727805], [-4.743682087305896, -0.21791792100722418], [-0.31863329440459864, -3.8159513467754893], (-4.8116437125135025, 4.168407859042889), (-4.257927159118758, -0.19558552014832742), [-0.7335090853047275, 4.8326354703727805], [-2.976844712178716, -4.76458733470647], [-4.8116437125135025, 4.168407859042889], [-4.8116437125135025, 4.168407859042889], (2.9258577528893497, 4.1290892092091305), (-4.8116437125135025, 4.168407859042889)]\n",
      "Melhor indivíduo: (3.460411559049117, 1.8394076002179895)\n",
      "Melhor fitness: -7.9421727101433275\n",
      "Valor da função no melhor ponto: 7.9421727101433275\n",
      "Mínimos conhecidos: [(3.0, 2.0), (-2.805118, 3.131312), (-3.77931, -3.283186), (3.584428, -1.848126)]\n"
     ]
    }
   ],
   "source": [
    "# Seleção\n",
    "selecao = funcao_selecao(populacao, fitness, 5)\n",
    "print(f\"A seleção foi\", selecao)\n",
    "\n",
    "# Cruzamento\n",
    "proxima_geracao = []\n",
    "for pai, mae in zip(selecao[::2], selecao[1::2]):\n",
    "    individuo1, individuo2 = funcao_cruzamento(pai, mae, CHANCE_DE_CRUZAMENTO)\n",
    "    proxima_geracao.append(individuo1)\n",
    "    proxima_geracao.append(individuo2)\n",
    "\n",
    "print(\"A proxima geração, após cruzamento, é\", proxima_geracao)\n",
    "\n",
    "# proxima_geracao = []\n",
    "\n",
    "proxima_geracao = funcao_mutacao(proxima_geracao, CHANCE_DE_MUTACAO, CHANCE_DE_MUTACAO_GENE, 5)\n",
    "print(f\"Os indivíduos mutados são\", proxima_geracao)\n",
    "\n",
    "\n",
    "for geracao in NUM_GERACOES:\n",
    "    valores_fitness = [fitness(valor) for valor in populacao ]\n",
    "    medio_fit = sum(valores_fitness)/ TAMANHO_POPULACAO\n",
    "    max_fit = max(valores_fitness)\n",
    "\n",
    "    valor_medio_fit.append(medio_fit)\n",
    "    valor_max_fit.append(max_fit)\n",
    "\n",
    "    if max_fit > melhor_fitness:\n",
    "        melhor_individuo = populacao[valores_fitness.index(max_fit)]\n",
    "        melhor_fitness = max_fit\n",
    "\n",
    "\n",
    "#Encerramento\n",
    "populacao = proxima_geracao\n",
    "\n",
    "\n",
    "print ( \"Melhor indivíduo:\" , melhor_individuo) \n",
    "print ( \"Melhor fitness:\" , melhor_fitness) \n",
    "print ( \"Valor da função no melhor ponto:\" , himemblau(melhor_individuo[ 0 ], melhor_individuo[ 1 ])) \n",
    "minimos = [( 3.0 , 2.0 ), (- 2.805118 , 3.131312 ), (- 3.779310 , - 3.283186 ), ( 3.584428 , - 1.848126 )] \n",
    "print ( \"Mínimos conhecidos:\" ,minimos)\n"
   ]
  },
  {
   "cell_type": "markdown",
   "metadata": {},
   "source": [
    "### 💡 **Analisando os resultados** \n",
    "\n",
    "Sabemos que um dos possíveis valores de mínimo da função Himemblau, os valores encontrados pelo algoritmo genético foram próximos do valor mínimo da função real! Assim, é possível perceber que os algoritmos genéticos são úteis para resolução de problemas matemáticos e encontrar valores máximos e mínimos de funções. \n",
    "\n",
    "----\n",
    "### 📚 Referências:\n",
    "\n",
    "OPENAI. ChatGPT (versão GPT-4) [programa de computador]. Disponível em: <https://chatgpt.com/share/681a09d8-ab94-8005-81a7-f1e159ab2e5b>. Acesso em: 6 maio 2025.\n",
    "\n",
    "WIKIPEDIA. Himmelblau's function. Disponível em: <https://en.wikipedia.org/wiki/Himmelblau%27s_function>. Acesso em: 6 maio 2025.\n",
    "\n",
    "LELIS, Afonso. Algorítmos genéticos. Medium, 2020. Disponível em: <https://medium.com/@afonsolelis/algor%C3%ADtimos-gen%C3%A9ticos-61805b619668.> Acesso em: 6 maio 2025."
   ]
  }
 ],
 "metadata": {
  "kernelspec": {
   "display_name": "Python 3",
   "language": "python",
   "name": "python3"
  },
  "language_info": {
   "codemirror_mode": {
    "name": "ipython",
    "version": 3
   },
   "file_extension": ".py",
   "mimetype": "text/x-python",
   "name": "python",
   "nbconvert_exporter": "python",
   "pygments_lexer": "ipython3",
   "version": "3.11.6"
  }
 },
 "nbformat": 4,
 "nbformat_minor": 2
}
