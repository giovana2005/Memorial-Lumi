{
 "cells": [
  {
   "cell_type": "markdown",
   "metadata": {},
   "source": [
    "# **<span style=\"font-family: 'Palatino Linotype', serif;\">🧙‍♀️✨ Função Himemblau </span>**\n",
    "----\n",
    "*<span style=\"font-family: 'Angilla Tattoo'\"> \"Quando as estrelas esquecem seus nomes e o tempo recua em silêncio, a Maga Patolina ergue o cajado de himemblau — e com um sussurro, reescreve os limites do impossível.\" 🪄🌟⏳ </span>*\n",
    "\n",
    "<div align=\"center\">\n",
    "    <img src = \"Maga constelação.png\" alt = \"Maga constelação\" width = 300>\n",
    "</div>\n",
    "\n",
    "----\n",
    " **Objetivo:** Usar um algoritmo genético para encontrar as coordenadas x e y dos mínimos globais da função de Himemblau a seguir: \n",
    " \n",
    " $ f(x,y) = (x^2 + y -11)^2 + (x +y^2 - 7)^2 $\n",
    "\n",
    " A função Himemblau é uma função multimodal utilizada para testar o desempenho de algoritmos de otimização. Seus valores de mínimos conhecidos são:\n",
    "\n",
    " $ f(x,y) = (3.0, 2.0) = 0 $\n",
    "\n",
    " $ f(x,y) = (-2.805118, 3.131312) = 0 $\n",
    "\n",
    " $ f(x,y) = (-3.77931, -3.283186) = 0 $\n",
    " \n",
    " $ f(x,y) = (3.584428, -1.848126) = 0 $\n",
    " \n",
    " <div align=\"center\">\n",
    "    <img src = \"Himmelblau_function.svg.png\" alt = \"funcao\" width = 300>\n",
    "</div>\n",
    "\n",
    "---"
   ]
  },
  {
   "cell_type": "code",
   "execution_count": 295,
   "metadata": {},
   "outputs": [],
   "source": [
    "# importar bibliotecas\n",
    "import random\n",
    "import copy"
   ]
  },
  {
   "cell_type": "code",
   "execution_count": 296,
   "metadata": {},
   "outputs": [],
   "source": [
    "# definir função himemblau\n",
    "def himemblau(x,y):\n",
    "    return (x**2 + y -11)**2 + (x+ y**2 - 7)**2\n"
   ]
  },
  {
   "cell_type": "code",
   "execution_count": 297,
   "metadata": {},
   "outputs": [],
   "source": [
    "# definir os parêmetro do algoritmo genético\n",
    "TAMANHO_POPULACAO = 15\n",
    "NUM_GERACOES = [list(range(100))]\n",
    "CHANCE_DE_CRUZAMENTO = 0.5\n",
    "CHANCE_DE_MUTACAO = 0.05\n",
    "CHANCE_DE_MUTACAO_GENE = 0.05"
   ]
  },
  {
   "cell_type": "code",
   "execution_count": 298,
   "metadata": {},
   "outputs": [],
   "source": [
    "# intervalo de x e y\n",
    "x_range = (- 5 , 5 ) \n",
    "y_range = (- 5 , 5 ) "
   ]
  },
  {
   "cell_type": "code",
   "execution_count": 299,
   "metadata": {},
   "outputs": [
    {
     "name": "stdout",
     "output_type": "stream",
     "text": [
      "[(3.8382165713956713, 4.628678231388193), (-0.30443988908651853, -1.422823838848497), (3.2241647656720733, 2.2312006646427633), (1.874536069341537, 4.034238127467075), (-3.5492335904641417, 0.6478899361984913), (-0.693212932286488, 3.332936279384466), (-4.257009682334855, -4.21992795582023), (-2.9971896341280124, 1.7287212922931783), (1.260143040185926, 0.2690472910708417), (4.27422615174908, -1.7199187045828257), (3.719951774286642, -3.2171631466534145), (-1.7788908985494478, -0.15526473660431073), (-2.5362042034717733, 4.276196201038701), (-0.32419214295297927, -4.145411147212625), (-1.5125542296519234, 3.3123579105951357)]\n"
     ]
    }
   ],
   "source": [
    "# definindo a população\n",
    "populacao = [(random.uniform(x_range[ 0 ], x_range[ 1 ]), random.uniform(y_range[ 0 ], y_range[ 1 ])) for _ in  range (TAMANHO_POPULACAO)] \n",
    "print(populacao)\n",
    "hall_da_fama = []"
   ]
  },
  {
   "cell_type": "code",
   "execution_count": 300,
   "metadata": {},
   "outputs": [],
   "source": [
    "valor_medio_fit = [] \n",
    "valor_max_fit = [] \n",
    "melhor_individuo = None\n",
    "melhor_fitness = float ( '-inf' ) "
   ]
  },
  {
   "cell_type": "code",
   "execution_count": 301,
   "metadata": {},
   "outputs": [
    {
     "name": "stdout",
     "output_type": "stream",
     "text": [
      "Melhor indivíduo: (3.2241647656720733, 2.2312006646427633)\n",
      "Melhor fitness: -4.091120822604611\n",
      "Valor da função no melhor ponto: 4.091120822604611\n",
      "Mínimos conhecidos: [(3.0, 2.0), (-2.805118, 3.131312), (-3.77931, -3.283186), (3.584428, -1.848126)]\n"
     ]
    }
   ],
   "source": [
    "# definindo a função objetivo para criar o fitness\n",
    "def fitness(valor):\n",
    "    return - himemblau(valor[0], valor[1]) # aqui nós vamos pegar os valores de x e y definidos na população\n",
    "\n",
    "#Seleção\n",
    "def funcao_selecao(populacao, fitness, tamanho_torneio):\n",
    "    \n",
    "    selecionados = []\n",
    "\n",
    "    for _ in range(len(populacao)):\n",
    "        sorteados = random.sample(populacao, tamanho_torneio) # retorna uma lista com elementos da população\n",
    "\n",
    "        fitness_sorteados = []\n",
    "        for individuo in sorteados:\n",
    "            indice_individuo = populacao.index(individuo)\n",
    "            fitness_sorteados.append(fitness(individuo))\n",
    "\n",
    "        min_fitness = min(fitness_sorteados)\n",
    "        indice_min_fitness = fitness_sorteados.index(min_fitness)\n",
    "        individuo_selecionado = sorteados[indice_min_fitness]\n",
    "\n",
    "        selecionados.append(individuo_selecionado)\n",
    "\n",
    "    return selecionados\n",
    "\n",
    "# aqui, o código percorre as gerações e seleciona o melhor indivíduo e seu valor de fitness\n",
    "\n",
    "for geracao in NUM_GERACOES:\n",
    "    valores_fitness = [fitness(valor) for valor in populacao ]\n",
    "    medio_fit = sum(valores_fitness)/ TAMANHO_POPULACAO\n",
    "    max_fit = max(valores_fitness)\n",
    "\n",
    "    valor_medio_fit.append(medio_fit)\n",
    "    valor_max_fit.append(max_fit)\n",
    "\n",
    "    if max_fit > melhor_fitness:\n",
    "        melhor_individuo = populacao[valores_fitness.index(max_fit)]\n",
    "        melhor_fitness = max_fit\n",
    "\n",
    "proxima_geracao = []\n",
    "\n",
    "#Cruzamento\n",
    "\n",
    "def funcao_cruzamento(pai, mae, chance_de_cruzamento):\n",
    "    \n",
    "    if random.random() < chance_de_cruzamento and len(pai) >= 2:\n",
    "        filho1 = [pai[0], mae[1]] \n",
    "        filho2 = [mae[0], pai[1]]\n",
    "        return filho1, filho2\n",
    "    else:\n",
    "        return pai, mae\n",
    "    \n",
    "for pai, mae in zip(selecionados[::2], selecionados[1::2]):\n",
    "    individuo1, individuo2 = funcao_cruzamento(pai, mae, CHANCE_DE_CRUZAMENTO)\n",
    "    proxima_geracao.append(individuo1)\n",
    "    proxima_geracao.append(individuo2)\n",
    "\n",
    "#Mutação\n",
    "    \n",
    "def funcao_mutacao(\n",
    "    populacao, chance_de_mutacao, chance_mutacao_gene, valor_max\n",
    "):\n",
    "    nova_populacao = copy.deepcopy(populacao) \n",
    "    for individuo in populacao:\n",
    "        if random.random() < chance_de_mutacao:\n",
    "            for gene in range(len(individuo)):\n",
    "                if random.random() < chance_mutacao_gene:\n",
    "                    valores_possiveis = list(range(valor_max + 1))\n",
    "                    valor_gene = individuo[gene]\n",
    "                    valores_possiveis.remove(valor_gene)\n",
    "                    individuo[gene] = random.choice(valores_possiveis)\n",
    "    return nova_populacao\n",
    "\n",
    "funcao_mutacao(populacao, CHANCE_DE_MUTACAO, CHANCE_DE_MUTACAO_GENE, 2)\n",
    "\n",
    "#Encerramento\n",
    "populacao = proxima_geracao\n",
    "\n",
    "print ( \"Melhor indivíduo:\" , melhor_individuo) \n",
    "print ( \"Melhor fitness:\" , melhor_fitness) \n",
    "print ( \"Valor da função no melhor ponto:\" , himemblau(melhor_individuo[ 0 ], melhor_individuo[ 1 ])) \n",
    "minimos = [( 3.0 , 2.0 ), (- 2.805118 , 3.131312 ), (- 3.779310 , - 3.283186 ), ( 3.584428 , - 1.848126 )] \n",
    "print ( \"Mínimos conhecidos:\" ,minimos)\n"
   ]
  },
  {
   "cell_type": "markdown",
   "metadata": {},
   "source": [
    "### 💡 **Analisando os resultados** \n",
    "\n",
    "Sabemos que um dos possíveis valores de mínimo da função Himemblau, os valores encontrados pelo algoritmo genético foram próximos do valor mínimo da função real! Assim, é possível perceber que os algoritmos genéticos são úteis para resolução de problemas matemáticos e encontrar valores máximos e mínimos de funções. \n",
    "\n",
    "----\n",
    "### 📚 Referências:\n",
    "\n",
    "OPENAI. ChatGPT (versão GPT-4) [programa de computador]. Disponível em: <https://chatgpt.com/share/681a09d8-ab94-8005-81a7-f1e159ab2e5b>. Acesso em: 6 maio 2025.\n",
    "\n",
    "WIKIPEDIA. Himmelblau's function. Disponível em: <https://en.wikipedia.org/wiki/Himmelblau%27s_function>. Acesso em: 6 maio 2025.\n",
    "\n",
    "LELIS, Afonso. Algorítmos genéticos. Medium, 2020. Disponível em: <https://medium.com/@afonsolelis/algor%C3%ADtimos-gen%C3%A9ticos-61805b619668.> Acesso em: 6 maio 2025."
   ]
  }
 ],
 "metadata": {
  "kernelspec": {
   "display_name": "Python 3",
   "language": "python",
   "name": "python3"
  },
  "language_info": {
   "codemirror_mode": {
    "name": "ipython",
    "version": 3
   },
   "file_extension": ".py",
   "mimetype": "text/x-python",
   "name": "python",
   "nbconvert_exporter": "python",
   "pygments_lexer": "ipython3",
   "version": "3.11.6"
  }
 },
 "nbformat": 4,
 "nbformat_minor": 2
}
