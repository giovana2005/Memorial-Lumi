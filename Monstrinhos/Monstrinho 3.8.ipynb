{
 "cells": [
  {
   "cell_type": "markdown",
   "metadata": {},
   "source": [
    "# **<span style=\"font-family: 'Palatino Linotype', serif;\">🧙‍♀️✨ Função Himemblau </span>**\n",
    "----\n",
    "*<span style=\"font-family: 'Angilla Tattoo'\"> \"Quando as estrelas esquecem seus nomes e o tempo recua em silêncio, a Maga Patolina ergue o cajado de himemblau — e com um sussurro, reescreve os limites do impossível.\" 🪄🌟⏳ </span>*\n",
    "\n",
    "<div align=\"center\">\n",
    "    <img src = \"Maga constelação.png\" alt = \"Maga constelação\" width = 300>\n",
    "</div>\n",
    "\n",
    "----\n",
    " **Objetivo:** Usar um algoritmo genético para encontrar as coordenadas x e y dos mínimos globais da função de Himemblau a seguir: \n",
    " \n",
    " $ f(x,y) = (x^2 + y -11)^2 + (x +y^2 - 7)^2 $\n",
    "\n",
    " A função Himemblau é uma função multimodal utilizada para testar o desempenho de algoritmos de otimização. Seus valores de mínimos conhecidos são:\n",
    "\n",
    " $ f(x,y) = (3.0, 2.0) = 0 $\n",
    "\n",
    " $ f(x,y) = (-2.805118, 3.131312) = 0 $\n",
    "\n",
    " $ f(x,y) = (-3.77931, -3.283186) = 0 $\n",
    " \n",
    " $ f(x,y) = (3.584428, -1.848126) = 0 $\n",
    " \n",
    " <div align=\"center\">\n",
    "    <img src = \"Himmelblau_function.svg.png\" alt = \"funcao\" width = 300>\n",
    "</div>\n",
    "\n",
    "---"
   ]
  },
  {
   "cell_type": "code",
   "execution_count": 230,
   "metadata": {},
   "outputs": [],
   "source": [
    "# importar bibliotecas\n",
    "import random\n",
    "import copy"
   ]
  },
  {
   "cell_type": "code",
   "execution_count": 231,
   "metadata": {},
   "outputs": [],
   "source": [
    "# definir função himemblau\n",
    "def himemblau(x,y):\n",
    "    return (x**2 + y -11)**2 + (x+ y**2 - 7)**2\n"
   ]
  },
  {
   "cell_type": "code",
   "execution_count": 232,
   "metadata": {},
   "outputs": [],
   "source": [
    "def fitness(valor):\n",
    "    return himemblau(valor[0], valor[1])\n",
    "\n",
    "def funcao_selecao(populacao, fitness, tamanho_torneio):\n",
    "    \n",
    "    selecionados = []\n",
    "\n",
    "    for _ in range(len(populacao)):\n",
    "        sorteados = random.sample(populacao, tamanho_torneio) # retorna uma lista com elementos da população\n",
    "\n",
    "        fitness_sorteados = []\n",
    "        for individuo in sorteados:\n",
    "            indice_individuo = populacao.index(individuo)\n",
    "            fitness_sorteados.append(fitness(individuo))\n",
    "\n",
    "        min_fitness = min(fitness_sorteados)\n",
    "        indice_min_fitness = fitness_sorteados.index(min_fitness)\n",
    "        individuo_selecionado = sorteados[indice_min_fitness]\n",
    "\n",
    "        selecionados.append(individuo_selecionado)\n",
    "\n",
    "    return selecionados\n",
    "\n",
    "def funcao_cruzamento(pai, mae, chance_de_cruzamento):\n",
    "    \n",
    "    if random.random() < chance_de_cruzamento and len(pai) >= 2:\n",
    "        filho1 = [pai[0], mae[1]] \n",
    "        filho2 = [mae[0], pai[1]]\n",
    "        return filho1, filho2\n",
    "    else:\n",
    "        return pai, mae\n",
    "    \n",
    "def funcao_mutacao(populacao, chance_de_mutacao, chance_mutacao_gene, desvio=0.5):\n",
    "    nova_populacao = []\n",
    "    for individuo in populacao:\n",
    "        if random.random() < chance_de_mutacao:\n",
    "            novo_individuo = list(individuo)  # converte tupla para lista\n",
    "            for i in range(len(novo_individuo)):\n",
    "                if random.random() < chance_mutacao_gene:\n",
    "                    perturbacao = random.gauss(0, desvio)\n",
    "                    novo_individuo[i] += perturbacao\n",
    "            nova_populacao.append(tuple(novo_individuo))  # converte de volta para tupla\n",
    "        else:\n",
    "            nova_populacao.append(individuo)\n",
    "    return nova_populacao\n",
    "\n"
   ]
  },
  {
   "cell_type": "code",
   "execution_count": 233,
   "metadata": {},
   "outputs": [],
   "source": [
    "# definir os parêmetro do algoritmo genético\n",
    "TAMANHO_POPULACAO = 100\n",
    "NUM_GERACOES = range(100)\n",
    "CHANCE_DE_CRUZAMENTO = 0.5\n",
    "CHANCE_DE_MUTACAO = 0.05\n",
    "CHANCE_DE_MUTACAO_GENE = 0.05"
   ]
  },
  {
   "cell_type": "code",
   "execution_count": 234,
   "metadata": {},
   "outputs": [],
   "source": [
    "# intervalo de x e y\n",
    "x_range = (- 5 , 5 ) \n",
    "y_range = (- 5 , 5 ) "
   ]
  },
  {
   "cell_type": "code",
   "execution_count": 235,
   "metadata": {},
   "outputs": [
    {
     "name": "stdout",
     "output_type": "stream",
     "text": [
      "[(-2.0486024744705023, 2.116763397787632), (4.158603038459649, 1.0466068990981316), (4.362576010834884, -1.5646456976289578), (-0.6682961579096123, -4.040576013456469), (4.494497510430875, -4.306866586447199), (2.0533774935913574, -4.9010335457144985), (-2.4705989310266094, 4.612275065831998), (-0.4835336578836422, -4.376162385916781), (-1.3151080801442006, 4.2783853670070755), (1.199642644251952, -4.498978095716042), (4.470751857351608, 4.061768945998027), (-1.673072959924827, 3.16016851385071), (-0.2662789406781645, -0.24877850657746237), (4.050456564789226, 3.8305030698679374), (3.553521908918352, -3.1015074269191523), (3.345467066868629, -1.4353448841863048), (3.027491183054959, 1.106597623244058), (-4.375067266786448, 1.6250430678069536), (4.895390986454501, 4.690944493526116), (-4.6999290124608475, -1.9206435429455548), (2.556491342995841, -1.1679286304237877), (2.0090531168958954, 2.282219415272876), (-2.9419245182294618, 3.1889640867358633), (0.07890940401327118, 1.8394801108316274), (1.3013534635396233, 1.9385780157696244), (2.4065478460869683, -1.9196572090693467), (-1.575220242033141, -1.6870926567314082), (1.3329852154091952, -0.07730661280502904), (0.7322166930951006, 3.9461139933585745), (1.81301915231857, 1.2034606760717885), (4.0921225263155705, -0.1901954390808367), (-4.897511954429323, 0.22943071417313643), (-2.2325616717006493, -2.6932156623208012), (-0.34617679853314876, 1.3129464916278222), (2.896829726793663, 0.5279836770998081), (-3.785932840352139, -0.9409085257842467), (3.7742514341320827, 1.6298370518665788), (0.2300691667936663, 1.326345223747821), (3.136996445576713, -2.7793308549615547), (2.29070007476059, -4.593203327751324), (2.4073009801211356, -3.2436971562471473), (4.911582921714841, 3.8833638956509215), (1.2593210796698653, 3.1779160610804915), (1.2923649107099813, 4.188405397536574), (-4.878630545302238, 1.0758576295777065), (-4.297458779296911, 2.3765932889327406), (3.8646449710172934, -2.4305997017812695), (-1.8606796117321354, -4.922738309061813), (2.6194378807759247, -0.590526788123662), (-0.045297456391093505, 0.23548126257099966), (-1.8910431282577433, -1.58362208614647), (0.7320406967741402, -4.503555316993763), (-4.691202271946705, -2.729002520809197), (-2.4546769059276716, 3.12792323706428), (-3.437413971752262, -2.6745955183153436), (3.0116484159782306, 0.9725034006848219), (-1.2279055989667818, -1.8324160125455147), (-4.972034000793792, 3.593433629892525), (3.416603719972226, -1.9909372906518499), (-3.4544837421559027, 3.0103411448144044), (4.2201050772447495, 4.0793260008788685), (-1.6035985368284167, -1.725394204006634), (-4.158007140616824, -1.64887299010275), (1.0833007644607644, -0.5719535985503459), (0.7708866748400434, 3.542083975610055), (-0.7734692420819842, 2.5891273084459296), (-4.372295502877368, -2.7296644967957473), (-2.249482348883771, -4.674119749756338), (-4.311984679089922, -0.8294319284058336), (3.21962193472557, 1.0028994855551279), (-1.3586174434541265, -1.0278794406397953), (-0.5356034285317541, 1.1972299547901768), (-0.9412427130104604, 4.463481937792796), (3.943850710976733, -3.1212688607957526), (-1.258417911928713, -1.031251566254705), (-3.8950339891389585, -2.3571848983976795), (-1.5381634582490156, -2.972506528746771), (-2.0879230928762316, 4.117912802934034), (2.269074288238512, 1.2545142101776765), (-1.547894152925604, -1.585905801710358), (-4.412681348614034, -4.459974998434124), (-1.5470784602701668, -2.4311340361870046), (-2.321417367018701, 2.8901392379296995), (2.1788014143398424, 3.0859755271775207), (-2.715832671036381, 0.2105738766729104), (-1.6052462015836024, 4.259983860332554), (-0.1798186993536346, -3.5370841840145317), (-1.2383214003916443, -0.6707446251342697), (-1.9921436031591755, 3.256100253489949), (0.8590341763805354, -1.8804104246483169), (3.982646963794007, 3.703654592744398), (-2.345720899897401, -3.9937008810672205), (1.7244022880431302, -3.0957446643302333), (4.645153618847841, -4.50538667906282), (0.20868217166535352, 1.890426051133777), (4.469224411102466, 1.8669912768352788), (1.3194842080216942, -0.7483829679403087), (-4.8016920233284, -1.919452749092864), (-4.767208079349921, 0.6122908987133524), (1.4929120359939905, 0.27519657683872367)]\n"
     ]
    }
   ],
   "source": [
    "# definindo a população\n",
    "populacao = [(random.uniform(x_range[ 0 ], x_range[ 1 ]), random.uniform(y_range[ 0 ], y_range[ 1 ])) for _ in  range (TAMANHO_POPULACAO)] \n",
    "print(populacao)\n",
    "hall_da_fama = []"
   ]
  },
  {
   "cell_type": "code",
   "execution_count": 236,
   "metadata": {},
   "outputs": [],
   "source": [
    "valor_medio_fit = [] \n",
    "valor_min_fit = [] \n",
    "melhor_individuo = None\n",
    "melhor_fitness = float ( 'inf' ) "
   ]
  },
  {
   "cell_type": "code",
   "execution_count": 237,
   "metadata": {},
   "outputs": [
    {
     "name": "stdout",
     "output_type": "stream",
     "text": [
      "Melhor indivíduo: (-2.9419245182294618, 3.1889640867358633)\n",
      "Melhor fitness: 0.7639270684614591\n",
      "Valor da função no melhor ponto: 0.7639270684614591\n",
      "Mínimos conhecidos: [(3.0, 2.0), (-2.805118, 3.131312), (-3.77931, -3.283186), (3.584428, -1.848126)]\n"
     ]
    }
   ],
   "source": [
    "# Seleção\n",
    "for geracao in NUM_GERACOES:\n",
    "    selecao = funcao_selecao(populacao, fitness, 5)\n",
    "    # print(f\"A seleção foi\", selecao)\n",
    "\n",
    "    # Cruzamento\n",
    "    proxima_geracao = []\n",
    "    for pai, mae in zip(selecao[::2], selecao[1::2]):\n",
    "        individuo1, individuo2 = funcao_cruzamento(pai, mae, CHANCE_DE_CRUZAMENTO)\n",
    "        proxima_geracao.append(individuo1)\n",
    "        proxima_geracao.append(individuo2)\n",
    "\n",
    "    # print(\"A proxima geração, após cruzamento, é\", proxima_geracao)\n",
    "\n",
    "    # proxima_geracao = []\n",
    "\n",
    "    proxima_geracao = funcao_mutacao(proxima_geracao, CHANCE_DE_MUTACAO, CHANCE_DE_MUTACAO_GENE)\n",
    "    # print(f\"Os indivíduos mutados são\", proxima_geracao)\n",
    "\n",
    "\n",
    "# for geracao in NUM_GERACOES:\n",
    "    valores_fitness = [fitness(valor) for valor in populacao ]\n",
    "    medio_fit = sum(valores_fitness)/ TAMANHO_POPULACAO\n",
    "    min_fit = min(valores_fitness)\n",
    "\n",
    "    valor_medio_fit.append(medio_fit)\n",
    "    valor_min_fit.append(min_fit)\n",
    "\n",
    "    if min_fit < melhor_fitness:\n",
    "        melhor_individuo = populacao[valores_fitness.index(min_fit)]\n",
    "        melhor_fitness = min_fit\n",
    "\n",
    "\n",
    "#Encerramento\n",
    "populacao = proxima_geracao\n",
    "\n",
    "\n",
    "print ( \"Melhor indivíduo:\" , melhor_individuo) \n",
    "print ( \"Melhor fitness:\" , melhor_fitness) \n",
    "print ( \"Valor da função no melhor ponto:\" , himemblau(melhor_individuo[ 0 ], melhor_individuo[ 1 ])) \n",
    "minimos = [( 3.0 , 2.0 ), (- 2.805118 , 3.131312 ), (- 3.779310 , - 3.283186 ), ( 3.584428 , - 1.848126 )] \n",
    "print ( \"Mínimos conhecidos:\" ,minimos)\n"
   ]
  },
  {
   "cell_type": "markdown",
   "metadata": {},
   "source": [
    "### 💡 **Analisando os resultados** \n",
    "\n",
    "Sabemos os possíveis valores de mínimo da função Himemblau, os valores encontrados pelo algoritmo genético foram próximos do valor mínimo da função real! Assim, é possível perceber que os algoritmos genéticos são úteis para resolução de problemas matemáticos e encontrar valores máximos e mínimos de funções, sendo importantes ferramentas de otimização.\n",
    "\n",
    "----\n",
    "### 📚 Referências:\n",
    "\n",
    "OPENAI. ChatGPT (versão GPT-4) [programa de computador]. Disponível em: <https://chatgpt.com/share/681a09d8-ab94-8005-81a7-f1e159ab2e5b>. Acesso em: 6 maio 2025.\n",
    "\n",
    "WIKIPEDIA. Himmelblau's function. Disponível em: <https://en.wikipedia.org/wiki/Himmelblau%27s_function>. Acesso em: 6 maio 2025.\n",
    "\n",
    "LELIS, Afonso. Algorítmos genéticos. Medium, 2020. Disponível em: <https://medium.com/@afonsolelis/algor%C3%ADtimos-gen%C3%A9ticos-61805b619668.> Acesso em: 6 maio 2025."
   ]
  }
 ],
 "metadata": {
  "kernelspec": {
   "display_name": "Python 3",
   "language": "python",
   "name": "python3"
  },
  "language_info": {
   "codemirror_mode": {
    "name": "ipython",
    "version": 3
   },
   "file_extension": ".py",
   "mimetype": "text/x-python",
   "name": "python",
   "nbconvert_exporter": "python",
   "pygments_lexer": "ipython3",
   "version": "3.11.6"
  }
 },
 "nbformat": 4,
 "nbformat_minor": 2
}
