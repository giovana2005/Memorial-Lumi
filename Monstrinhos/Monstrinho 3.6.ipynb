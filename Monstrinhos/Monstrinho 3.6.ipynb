{
 "cells": [
  {
   "cell_type": "markdown",
   "metadata": {},
   "source": [
    "# **<span style=\"font-family: 'Palatino Linotype', serif;\">📉🤯📚 A curva de aprendiado</span>**\n",
    "----\n",
    "*<span style=\"font-family: 'Angilla Tattoo'\"> “Nem toda magia é feita de feitiços — algumas são compiladas linha por linha, na curva de aprendizado entre penas e códigos.” 🦆✨📈</span>*\n",
    "\n",
    "<div align=\"center\">\n",
    "    <img src = \"Maga curva.png\" alt = \"Maga curva aprendizado\" width = 250>\n",
    "</div>\n",
    "\n",
    "----\n",
    " **Objetivo:** Nesse notebook, irei implementar o registro da curva de aprendizado dos dados de treino e de validação do código nas redes neurais feita em python puro em sala de aula.\n",
    " \n",
    "---"
   ]
  },
  {
   "cell_type": "code",
   "execution_count": 198,
   "metadata": {},
   "outputs": [],
   "source": [
    "from rede_neural import Valor, Neuronio, Camada, MLP\n",
    "import matplotlib.pyplot as plt\n",
    "import numpy as np "
   ]
  },
  {
   "cell_type": "markdown",
   "metadata": {},
   "source": [
    "Primeiro, definimos os valores de x e y reais, que serão os valores medidos experimentalmente. Desejamos que nossa MLP realize a predição de bons valores de y com base nos valores iniciais x. No nosso caso, os valores de x e y não equivalem a uma medida real.\n"
   ]
  },
  {
   "cell_type": "code",
   "execution_count": 199,
   "metadata": {},
   "outputs": [
    {
     "name": "stdout",
     "output_type": "stream",
     "text": [
      "[[0.66064431 0.41360065 0.66810256 0.22994342 0.80767834]\n",
      " [0.63681846 0.17219385 0.26038587 0.91531999 0.46281551]\n",
      " [0.12019095 0.88088551 0.22621895 0.81144033 0.44587892]\n",
      " [0.09945494 0.89445394 0.63963019 0.93079198 0.8535982 ]\n",
      " [0.84183989 0.55101815 0.2090729  0.87289664 0.87130821]]\n"
     ]
    }
   ],
   "source": [
    "np.random.seed(2345)  \n",
    "x = np.random.rand(5, 5)  \n",
    "print(x)\n"
   ]
  },
  {
   "cell_type": "code",
   "execution_count": 200,
   "metadata": {},
   "outputs": [
    {
     "name": "stdout",
     "output_type": "stream",
     "text": [
      "[[0.48682936 0.43688192 0.95714374 0.71006036 0.48540221]]\n"
     ]
    }
   ],
   "source": [
    "np.random.seed(5432)\n",
    "y_real = np.random.rand(1, 5)\n",
    "print(y_real)"
   ]
  },
  {
   "cell_type": "code",
   "execution_count": 201,
   "metadata": {},
   "outputs": [
    {
     "name": "stdout",
     "output_type": "stream",
     "text": [
      "[[0.48682936]\n",
      " [0.43688192]\n",
      " [0.95714374]\n",
      " [0.71006036]\n",
      " [0.48540221]]\n"
     ]
    }
   ],
   "source": [
    "y_real = y_real.T\n",
    "print(y_real)"
   ]
  },
  {
   "cell_type": "code",
   "execution_count": 202,
   "metadata": {},
   "outputs": [
    {
     "name": "stdout",
     "output_type": "stream",
     "text": [
      "x_treino:\n",
      " [[0.66064431 0.41360065 0.66810256 0.22994342 0.80767834]]\n",
      "x_teste:\n",
      " [[0.84183989 0.55101815 0.2090729  0.87289664 0.87130821]]\n",
      "x_validação:\n",
      " [[0.63681846 0.17219385 0.26038587 0.91531999 0.46281551]\n",
      " [0.12019095 0.88088551 0.22621895 0.81144033 0.44587892]\n",
      " [0.09945494 0.89445394 0.63963019 0.93079198 0.8535982 ]]\n"
     ]
    }
   ],
   "source": [
    "indices = np.arange(x.shape[0])\n",
    "np.random.shuffle(indices)\n",
    "\n",
    "TAMANHO_TREINO = 0.1\n",
    "TAMANHO_TESTE = 0.1\n",
    "\n",
    "n_total = x.shape[0]\n",
    "n_treino = max(1, int(n_total * TAMANHO_TREINO))\n",
    "n_teste = max(1, int(n_total * TAMANHO_TESTE))\n",
    "n_val = n_total - n_treino - n_teste\n",
    "\n",
    "if n_treino + n_teste + n_val > n_total:\n",
    "    n_val = n_total - n_treino - n_teste\n",
    "\n",
    "# nessa linha, o código separa os índices dos daods que serão utilizados para treino, teste e validação\n",
    "idx_treino = indices[:n_treino]\n",
    "idx_teste = indices[n_treino:n_treino + n_teste]\n",
    "idx_val = indices[n_treino + n_teste:]\n",
    "\n",
    "\n",
    "# nessa linha, ele pega os dados de cada índice\n",
    "x_treino = x[idx_treino]\n",
    "y_treino = y_real[idx_treino]\n",
    "\n",
    "x_teste = x[idx_teste]\n",
    "y_teste = y_real[idx_teste]\n",
    "\n",
    "x_val = x[idx_val]\n",
    "y_val = y_real[idx_val]\n",
    "\n",
    "print(\"x_treino:\\n\", x_treino)\n",
    "print(\"x_teste:\\n\", x_teste)\n",
    "print(\"x_validação:\\n\", x_val)"
   ]
  },
  {
   "cell_type": "markdown",
   "metadata": {},
   "source": [
    "Agora, definimos os parâmetros da nossa MLP, que são a quantidade de dados de entrada e a quantidade de neurônios por camada.\n"
   ]
  },
  {
   "cell_type": "code",
   "execution_count": 203,
   "metadata": {},
   "outputs": [],
   "source": [
    "NUM_DADOS_DE_ENTRADA = 5\n",
    "NUM_DADOS_DE_SAIDA = 1 \n",
    "CAMADAS_OCULTAS = [3, 2] \n",
    "\n",
    "arquitetura_da_rede = CAMADAS_OCULTAS + [NUM_DADOS_DE_SAIDA]\n",
    "\n",
    "minha_mlp = MLP(NUM_DADOS_DE_ENTRADA, arquitetura_da_rede)"
   ]
  },
  {
   "cell_type": "markdown",
   "metadata": {},
   "source": [
    "Agora, vamos treinar a nossa rede! Para isso, definimos quantas épocas e qual será a taxa de aprendizado da rede, ou seja, quantas vezes ela será treinada e o quanto irá aprender em cada treino. Nesse código, a MLP prevê um valor de y, calcula o RMSE em relação ao valor real definido anteriormente, zera o gradiente local da função, realiza o backpropagation e então, atualiza os parâmetros da rede visando diminuir o erro."
   ]
  },
  {
   "cell_type": "code",
   "execution_count": 204,
   "metadata": {},
   "outputs": [
    {
     "name": "stdout",
     "output_type": "stream",
     "text": [
      "A perda do treino é [0.01162219] A perda da validação é [0.43810753]\n",
      "A perda do treino é [0.01141907] A perda da validação é [0.43627791]\n",
      "A perda do treino é [0.01121906] A perda da validação é [0.43446593]\n",
      "A perda do treino é [0.01102213] A perda da validação é [0.4326715]\n",
      "A perda do treino é [0.01082824] A perda da validação é [0.43089451]\n",
      "A perda do treino é [0.01063737] A perda da validação é [0.42913485]\n",
      "A perda do treino é [0.01044947] A perda da validação é [0.42739242]\n",
      "A perda do treino é [0.01026451] A perda da validação é [0.42566711]\n",
      "A perda do treino é [0.01008246] A perda da validação é [0.42395882]\n",
      "A perda do treino é [0.00990328] A perda da validação é [0.42226743]\n",
      "A perda do treino é [0.00972695] A perda da validação é [0.42059283]\n",
      "A perda do treino é [0.00955342] A perda da validação é [0.41893492]\n",
      "A perda do treino é [0.00938266] A perda da validação é [0.41729357]\n",
      "A perda do treino é [0.00921464] A perda da validação é [0.41566867]\n",
      "A perda do treino é [0.00904932] A perda da validação é [0.41406012]\n",
      "A perda do treino é [0.00888668] A perda da validação é [0.41246778]\n",
      "A perda do treino é [0.00872667] A perda da validação é [0.41089155]\n",
      "A perda do treino é [0.00856926] A perda da validação é [0.40933131]\n",
      "A perda do treino é [0.00841442] A perda da validação é [0.40778694]\n",
      "A perda do treino é [0.00826212] A perda da validação é [0.40625832]\n",
      "A perda do treino é [0.00811233] A perda da validação é [0.40474532]\n",
      "A perda do treino é [0.007965] A perda da validação é [0.40324784]\n",
      "A perda do treino é [0.00782011] A perda da validação é [0.40176575]\n",
      "A perda do treino é [0.00767762] A perda da validação é [0.40029893]\n",
      "A perda do treino é [0.00753751] A perda da validação é [0.39884726]\n",
      "A perda do treino é [0.00739974] A perda da validação é [0.39741061]\n",
      "A perda do treino é [0.00726428] A perda da validação é [0.39598886]\n",
      "A perda do treino é [0.00713109] A perda da validação é [0.3945819]\n",
      "A perda do treino é [0.00700015] A perda da validação é [0.3931896]\n",
      "A perda do treino é [0.00687142] A perda da validação é [0.39181183]\n",
      "A perda do treino é [0.00674487] A perda da validação é [0.39044848]\n",
      "A perda do treino é [0.00662048] A perda da validação é [0.38909942]\n",
      "A perda do treino é [0.0064982] A perda da validação é [0.38776453]\n",
      "A perda do treino é [0.00637802] A perda da validação é [0.38644369]\n",
      "A perda do treino é [0.00625989] A perda da validação é [0.38513677]\n",
      "A perda do treino é [0.0061438] A perda da validação é [0.38384365]\n",
      "A perda do treino é [0.00602971] A perda da validação é [0.38256421]\n",
      "A perda do treino é [0.00591758] A perda da validação é [0.38129833]\n",
      "A perda do treino é [0.0058074] A perda da validação é [0.38004588]\n",
      "A perda do treino é [0.00569913] A perda da validação é [0.37880675]\n",
      "A perda do treino é [0.00559275] A perda da validação é [0.37758081]\n",
      "A perda do treino é [0.00548822] A perda da validação é [0.37636794]\n",
      "A perda do treino é [0.00538552] A perda da validação é [0.37516802]\n",
      "A perda do treino é [0.00528462] A perda da validação é [0.37398093]\n",
      "A perda do treino é [0.0051855] A perda da validação é [0.37280655]\n",
      "A perda do treino é [0.00508811] A perda da validação é [0.37164477]\n",
      "A perda do treino é [0.00499245] A perda da validação é [0.37049545]\n",
      "A perda do treino é [0.00489848] A perda da validação é [0.36935848]\n",
      "A perda do treino é [0.00480617] A perda da validação é [0.36823375]\n",
      "A perda do treino é [0.0047155] A perda da validação é [0.36712114]\n",
      "A perda do treino é [0.00462645] A perda da validação é [0.36602053]\n",
      "A perda do treino é [0.00453899] A perda da validação é [0.3649318]\n",
      "A perda do treino é"
     ]
    },
    {
     "name": "stdout",
     "output_type": "stream",
     "text": [
      " [0.00445308] A perda da validação é [0.36385483]\n",
      "A perda do treino é [0.00436872] A perda da validação é [0.36278952]\n",
      "A perda do treino é [0.00428587] A perda da validação é [0.36173575]\n",
      "A perda do treino é [0.00420451] A perda da validação é [0.36069339]\n",
      "A perda do treino é [0.00412461] A perda da validação é [0.35966235]\n",
      "A perda do treino é [0.00404616] A perda da validação é [0.3586425]\n",
      "A perda do treino é [0.00396912] A perda da validação é [0.35763374]\n",
      "A perda do treino é [0.00389348] A perda da validação é [0.35663595]\n",
      "A perda do treino é [0.00381921] A perda da validação é [0.35564902]\n",
      "A perda do treino é [0.00374629] A perda da validação é [0.35467284]\n",
      "A perda do treino é [0.00367469] A perda da validação é [0.3537073]\n",
      "A perda do treino é [0.0036044] A perda da validação é [0.3527523]\n",
      "A perda do treino é [0.0035354] A perda da validação é [0.35180772]\n",
      "A perda do treino é [0.00346766] A perda da validação é [0.35087345]\n",
      "A perda do treino é [0.00340115] A perda da validação é [0.3499494]\n",
      "A perda do treino é [0.00333587] A perda da validação é [0.34903546]\n",
      "A perda do treino é [0.00327179] A perda da validação é [0.34813151]\n",
      "A perda do treino é [0.00320889] A perda da validação é [0.34723747]\n",
      "A perda do treino é [0.00314715] A perda da validação é [0.34635321]\n",
      "A perda do treino é [0.00308655] A perda da validação é [0.34547865]\n",
      "A perda do treino é [0.00302706] A perda da validação é [0.34461367]\n",
      "A perda do treino é [0.00296868] A perda da validação é [0.34375818]\n",
      "A perda do treino é [0.00291138] A perda da validação é [0.34291208]\n",
      "A perda do treino é [0.00285515] A perda da validação é [0.34207527]\n",
      "A perda do treino é [0.00279996] A perda da validação é [0.34124764]\n",
      "A perda do treino é [0.0027458] A perda da validação é [0.34042911]\n",
      "A perda do treino é [0.00269265] A perda da validação é [0.33961957]\n",
      "A perda do treino é [0.00264049] A perda da validação é [0.33881893]\n",
      "A perda do treino é [0.0025893] A perda da validação é [0.33802709]\n",
      "A perda do treino é [0.00253908] A perda da validação é [0.33724397]\n",
      "A perda do treino é [0.00248979] A perda da validação é [0.33646945]\n",
      "A perda do treino é [0.00244143] A perda da validação é [0.33570346]\n",
      "A perda do treino é [0.00239398] A perda da validação é [0.3349459]\n",
      "A perda do treino é [0.00234741] A perda da validação é [0.33419668]\n",
      "A perda do treino é [0.00230173] A perda da validação é [0.33345571]\n",
      "A perda do treino é [0.00225691] A perda da validação é [0.3327229]\n",
      "A perda do treino é [0.00221293] A perda da validação é [0.33199816]\n",
      "A perda do treino é [0.00216978] A perda da validação é [0.3312814]\n",
      "A perda do treino é [0.00212745] A perda da validação é [0.33057253]\n",
      "A perda do treino é [0.00208592] A perda da validação é [0.32987148]\n",
      "A perda do treino é [0.00204518] A perda da validação é [0.32917815]\n",
      "A perda do treino é [0.00200521] A perda da validação é [0.32849246]\n",
      "A perda do treino é [0.001966] A perda da validação é [0.32781432]\n",
      "A perda do treino é [0.00192753] A perda da validação é [0.32714366]\n",
      "A perda do treino é [0.0018898] A perda da validação é [0.32648038]\n",
      "A perda do treino é [0.00185279] A perda da validação é [0.32582442]\n",
      "A perda do treino é [0.00181648] A perda da validação é [0.32517568]\n",
      "A perda do treino é [0.00178086] A perda da validação é [0.3245341]\n"
     ]
    }
   ],
   "source": [
    "NUM_EPOCAS = 100\n",
    "TAXA_DE_APRENDIZADO = 0.05\n",
    "historico_loss_treino = []\n",
    "historico_loss_val = []\n",
    "\n",
    "for epoca in range(NUM_EPOCAS):\n",
    "    # treinando\n",
    "    y_pred_treino = []\n",
    "    for exemplo in x_treino:\n",
    "        previsao = minha_mlp(exemplo)\n",
    "        y_pred_treino.append(previsao)\n",
    "\n",
    "    # loss do treino\n",
    "    erros_treino = []\n",
    "    for yt, yp in zip(y_real, y_pred_treino):\n",
    "        residuo = yp - yt\n",
    "        erro_quadratico = residuo ** 2\n",
    "        erros_treino.append(erro_quadratico)        \n",
    "    loss_treino = sum(erros_treino)\n",
    "    historico_loss_treino.append(loss_treino.data)\n",
    "\n",
    "    # zero grad\n",
    "    for p in minha_mlp.parametros():\n",
    "        p.grad = 0\n",
    "\n",
    "    # backpropagation\n",
    "    loss_treino.propagar_tudo()\n",
    "\n",
    "    # atualiza parâmetros\n",
    "    for p in minha_mlp.parametros():\n",
    "        p.data = p.data - p.grad * TAXA_DE_APRENDIZADO\n",
    "    \n",
    "    y_pred_val = []\n",
    "    # validação\n",
    "    for exemplo in x_val:\n",
    "        previsao = minha_mlp(exemplo)\n",
    "        y_pred_val.append(previsao)\n",
    "\n",
    "    # loss da validação\n",
    "    erros_val = []\n",
    "    for yv, yp in zip(y_val, y_pred_val):\n",
    "        residuo = yp - yv\n",
    "        erro_quadratico = residuo ** 2\n",
    "        erros_val.append(erro_quadratico)\n",
    "\n",
    "    loss_val = sum(erros_val)\n",
    "    historico_loss_val.append(loss_val.data)\n",
    "\n",
    "\n",
    "    # mostra resultado (opcional)\n",
    "    print(\"A perda do treino é\", loss_treino.data, \"A perda da validação é\", loss_val.data)"
   ]
  },
  {
   "cell_type": "markdown",
   "metadata": {},
   "source": [
    "Agora, partimos para o nosso desafio: calcular a curva de aprendizado dos dados de treino! No código anteriror, armazenamos na lista \"historico_loss\" os valores das perdas ao longo de cada época, vamos plotar!"
   ]
  },
  {
   "cell_type": "code",
   "execution_count": 205,
   "metadata": {},
   "outputs": [
    {
     "data": {
      "image/png": "[encoded data removed]",
      "text/plain": [
       "<Figure size 640x480 with 1 Axes>"
      ]
     },
     "metadata": {},
     "output_type": "display_data"
    }
   ],
   "source": [
    "plt.plot(historico_loss_treino, label = \"Treino\")\n",
    "plt.plot(historico_loss_val, label = \"Validação\")\n",
    "plt.xlabel('Época')\n",
    "plt.ylabel('Loss')\n",
    "plt.title('Curva de Aprendizado da MLP')\n",
    "plt.legend()\n",
    "plt.grid(True)\n",
    "plt.show()"
   ]
  },
  {
   "cell_type": "markdown",
   "metadata": {},
   "source": [
    "-----\n",
    "\n",
    "### 📊 Conclusão:\n",
    "\n",
    "Nesse notebook, exploramos o funcionamento da taxa de aprendizado para diferentes conjuntos de dado. Nesse caso, utilizamos 10% dos dados para realizar teste e 80% dos dados para as validações. Foi possível observar que os dados de validação iniciam com uma loss maior e tem uma queda significativa ao longo do treino, enquanto os dados de teste começãm com uma loss baixa e caem em taxas menores ao longo do treinamento. Isso provavelmente ocorre devido a diferença do número de dados selecionados.\n",
    "\n",
    "----\n",
    "### 📚 Referências:\n",
    "DEEP LEARNING BOOK. O efeito da taxa de aprendizagem no treinamento de redes neurais artificiais. Disponível em: <https://www.deeplearningbook.com.br/o-efeito-da-taxa-de-aprendizagem-no-treinamento-de-redes-neurais-artificiais/>. Acesso em: 18 abr. 2025.\n",
    "\n",
    "OPENAI. ChatGPT (versão GPT-4) [programa de computador]. Disponível em: <https://chat.openai.com/>. Acesso em: 18 abr. 2025."
   ]
  }
 ],
 "metadata": {
  "kernelspec": {
   "display_name": "Python 3",
   "language": "python",
   "name": "python3"
  },
  "language_info": {
   "codemirror_mode": {
    "name": "ipython",
    "version": 3
   },
   "file_extension": ".py",
   "mimetype": "text/x-python",
   "name": "python",
   "nbconvert_exporter": "python",
   "pygments_lexer": "ipython3",
   "version": "3.11.6"
  }
 },
 "nbformat": 4,
 "nbformat_minor": 2
}
