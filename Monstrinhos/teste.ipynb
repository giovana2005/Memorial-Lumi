{
 "cells": [
  {
   "cell_type": "code",
   "execution_count": 1,
   "metadata": {},
   "outputs": [],
   "source": [
    "from rede_neural import Valor, Neuronio, Camada, MLP"
   ]
  },
  {
   "cell_type": "code",
   "execution_count": 3,
   "metadata": {},
   "outputs": [
    {
     "name": "stdout",
     "output_type": "stream",
     "text": [
      "Valor(data=0.44109080426813846)\n"
     ]
    }
   ],
   "source": [
    "dados_de_entrada = [2.5, 4.25]\n",
    "num_neuronios_por_camada = [4, 3, 1]\n",
    "\n",
    "minha_mlp = MLP(len(dados_de_entrada), num_neuronios_por_camada)\n",
    "\n",
    "resultado = minha_mlp(dados_de_entrada)\n",
    "\n",
    "print(resultado)\n",
    "\n",
    "resultado.propagar_tudo()\n",
    "# grafo = plota_grafo(resultado)\n",
    "\n",
    "# para salvar o grafo\n",
    "# grafo.render(\"rede_neural\", format=\"png\")\n",
    "\n",
    "x = [\n",
    "  [2.0, 3.0, -1.0],\n",
    "  [3.0, -1.0, 0.5],\n",
    "  [0.5, 1.0, 1.0],\n",
    "  [1.0, 1.0, -1.0],\n",
    "]\n",
    "\n",
    "y_true = [1, 0, 0.2, 0.5]\n",
    "\n",
    "NUM_DADOS_DE_ENTRADA = 3  \n",
    "NUM_DADOS_DE_SAIDA = 1    \n",
    "CAMADAS_OCULTAS = [3, 2]  \n",
    "\n",
    "arquitetura_da_rede = CAMADAS_OCULTAS + [NUM_DADOS_DE_SAIDA]\n",
    "\n",
    "minha_mlp = MLP(NUM_DADOS_DE_ENTRADA, arquitetura_da_rede)"
   ]
  },
  {
   "cell_type": "code",
   "execution_count": 3,
   "metadata": {},
   "outputs": [
    {
     "name": "stdout",
     "output_type": "stream",
     "text": [
      "[1, 2, 3, 4, 5, 100]\n"
     ]
    }
   ],
   "source": [
    "minha_lista = [1, 2, 3, 4, 5]\n",
    "\n",
    "def minha_fun(lista):\n",
    "    lista.append(100)\n",
    "\n",
    "minha_fun(minha_lista)\n",
    "print(minha_lista)"
   ]
  },
  {
   "cell_type": "code",
   "execution_count": null,
   "metadata": {},
   "outputs": [],
   "source": []
  }
 ],
 "metadata": {
  "kernelspec": {
   "display_name": "Python 3",
   "language": "python",
   "name": "python3"
  },
  "language_info": {
   "codemirror_mode": {
    "name": "ipython",
    "version": 3
   },
   "file_extension": ".py",
   "mimetype": "text/x-python",
   "name": "python",
   "nbconvert_exporter": "python",
   "pygments_lexer": "ipython3",
   "version": "3.11.6"
  }
 },
 "nbformat": 4,
 "nbformat_minor": 2
}
