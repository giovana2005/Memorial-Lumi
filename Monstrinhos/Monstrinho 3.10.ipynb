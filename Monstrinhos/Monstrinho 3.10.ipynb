{
 "cells": [
  {
   "cell_type": "markdown",
   "metadata": {},
   "source": [
    "# **<span style=\"font-family: 'Palatino Linotype', serif;\">🧬⚔️ Praticamente um X-Man </span>**\n",
    "----\n",
    "*<span style=\"font-family: 'Angilla Tattoo'\"> \"Os multiversos colidiram, Maga Patolina não hesitou — ao lado dos X-Man, ela partiu em uma jornada onde feitiçaria e mutação se entrelaçam, desafiando as leis da realidade com o poder ancestral dos patos.\" 🌠🌀🔥 </span>*\n",
    "\n",
    "<div align=\"center\">\n",
    "    <img src = \"X-Man.png\" alt = \"X-Man\" width = 350>\n",
    "</div>\n",
    "\n",
    "----\n",
    " **Objetivo:** Criar um algoritmo de otimização que tenha mais de um operador de mutação. Nesse notebook, iremos resolver o problema do Caixeiro Viajante para 7 cidades. No problema do caixeiro viajente, buscamos encontrar o menor caminho possível entre um número de cidades X, passando por cada cidade somente uma vez e retornando a primeira cidade ao final do trajeto."
   ]
  },
  {
   "cell_type": "code",
   "execution_count": 179,
   "metadata": {},
   "outputs": [],
   "source": [
    "import random\n",
    "import matplotlib.pyplot as plt\n",
    "from functools import partial"
   ]
  },
  {
   "cell_type": "code",
   "execution_count": 180,
   "metadata": {},
   "outputs": [],
   "source": [
    "# Código para criar indivíduos (cidades), feito em sala de aula\n",
    "\n",
    "def cria_cidades(n, xy_minimo=0, xy_maximo=300, semente=12345):\n",
    "    \"\"\"Cria um dicionário aleatório de cidades com suas posições (x,y).\n",
    "\n",
    "    Args:\n",
    "      n: Número de cidades que serão visitadas pelo caixeiro.\n",
    "      xy_minimo: Valor mínimo possível das coordenadas x e y.\n",
    "      xy_maximo: Valor máximo possível das coordenadas x e y.\n",
    "\n",
    "    \"\"\"\n",
    "    random.seed(semente)\n",
    "    cidades = {}\n",
    "    num_digitos = len(str(abs(n)))\n",
    "\n",
    "    for i in range(n):\n",
    "        cidades[f\"Cidade {i:0>{num_digitos}}\"] = (\n",
    "            random.randint(xy_minimo, xy_maximo),\n",
    "            random.randint(xy_minimo, xy_maximo),\n",
    "        )\n",
    "\n",
    "    return cidades\n",
    "\n",
    "# Código que calcula a distância euclidiana entre pontos (feito em sala de aula)\n",
    "def dist_euclidiana(coord1, coord2):\n",
    "    \"\"\"Computa a distância Euclidiana entre dois pontos em R^2\n",
    "\n",
    "    Args:\n",
    "      coord1: lista contendo as coordenadas x e y de um ponto.\n",
    "      coord2: lista contendo as coordenadas x e y do outro ponto.\n",
    "\n",
    "    \"\"\"\n",
    "    x1 = coord1[0] #pega o índice de X de um ponto 1\n",
    "    x2 = coord2[0] #índice de X em um ponto 2\n",
    "    y1 = coord1[1] #índice de Y em um ponto 1\n",
    "    y2 = coord2[1] #índice de Y em um ponto 2\n",
    "\n",
    "    distancia = ((x1 - x2) ** 2 + (y1 - y2) ** 2) ** (1 / 2)\n",
    "\n",
    "    return distancia\n",
    "\n",
    "#Função que cria um caminnho possível para o problema, feito em sala de aula\n",
    "def cria_candidato_caixeiro(cidades):\n",
    "    \"\"\"Sorteia um caminho possível no problema do caixeiro viajante\n",
    "\n",
    "    Args:\n",
    "      cidades:\n",
    "        Dicionário contendo o nome das cidades como chaves e a coordenada no\n",
    "        plano cartesiano das cidades como valores.\n",
    "\n",
    "    \"\"\"\n",
    "    nomes_cidades = list(cidades.keys())\n",
    "    caminho = random.sample(nomes_cidades, k=len(nomes_cidades))\n",
    "    return caminho\n",
    "\n",
    "# Cria uma população, ou seja, um conjunto de X grupos de Y cidades, feito em sala de aula\n",
    "def populacao_caixeiro(tamanho_populacao, cidades):\n",
    "    \"\"\"Cria uma população no problema do caixeiro viajante\n",
    "\n",
    "    Args:\n",
    "      tamanho_populacao: tamanho da população.\n",
    "      cidades:\n",
    "        Dicionário contendo o nome das cidades como chaves e a coordenada no\n",
    "        plano cartesiano das cidades como valores.\n",
    "\n",
    "    \"\"\"\n",
    "    populacao = []\n",
    "\n",
    "    for _ in range(tamanho_populacao):\n",
    "        populacao.append(cria_candidato_caixeiro(cidades))\n",
    "\n",
    "    return populacao\n",
    "\n",
    "# Função objetivo para o problema do caixeiro, feita em sala de aula\n",
    "def funcao_objetivo_caixeiro(candidato, cidades):\n",
    "    \"\"\"Funcao objetivo de um candidato no problema do caixeiro viajante\n",
    "\n",
    "    Args:\n",
    "      candidato: uma lista contendo o caminho percorrido\n",
    "      cidades:\n",
    "        Dicionário contendo o nome das cidades como chaves e a coordenada no\n",
    "        plano cartesiano das cidades como valores.\n",
    "\n",
    "    \"\"\"\n",
    "    distancia = 0\n",
    "\n",
    "    for pos in range(len(candidato) - 1): #nesse loop, o código começa pela primeira posição do candidato e calcula a distância em relação à próxima cidade\n",
    "        coord_cidade_partida = cidades[candidato[pos]]\n",
    "        coord_cidade_chegada = cidades[candidato[pos + 1]]\n",
    "        distancia += dist_euclidiana(\n",
    "            coord_cidade_partida, coord_cidade_chegada\n",
    "        )\n",
    "\n",
    "    # distância para retornar à cidade inicial\n",
    "    coord_cidade_final = cidades[candidato[-1]]\n",
    "    coord_cidade_inicial = cidades[candidato[0]]\n",
    "    distancia += dist_euclidiana(coord_cidade_final, coord_cidade_inicial)\n",
    "\n",
    "    return distancia\n",
    "\n",
    "# Função objetivo para um população de possíveis candidatos no problema do caixeiro\n",
    "def funcao_objetivo_pop_caixeiro(populacao, cidades):\n",
    "    \n",
    "    \"\"\"Funcao objetivo de uma populacao no problema do caixeiro viajante\n",
    "\n",
    "    Args:\n",
    "      populacao: lista contendo os individuos do problema\n",
    "      cidades:\n",
    "        Dicionário contendo o nome das cidades como chaves e a coordenada no\n",
    "        plano cartesiano das cidades como valores.\n",
    "\n",
    "    \"\"\"\n",
    "    fitness = []\n",
    "\n",
    "    for individuo in populacao:\n",
    "        fitness.append(funcao_objetivo_caixeiro(individuo, cidades))\n",
    "\n",
    "    return fitness\n",
    "\n",
    "# Função seleção de torneio mínimo feita em sala\n",
    "def selecao_torneio_min(populacao, fitness, tamanho_torneio):\n",
    "    \n",
    "    \"\"\"Faz a seleção de uma população usando torneio.\n",
    "\n",
    "    Nota: da forma que está implementada, só funciona em problemas de\n",
    "    minimização.\n",
    "\n",
    "    Args:\n",
    "      populacao: lista contendo os individuos do problema\n",
    "      fitness: lista contendo os valores computados da funcao objetivo\n",
    "      tamanho_torneio: quantidade de invíduos que batalham entre si\n",
    "\n",
    "    \"\"\"\n",
    "    selecionados = []\n",
    "\n",
    "    for _ in range(len(populacao)):\n",
    "        sorteados = random.sample(populacao, tamanho_torneio)\n",
    "\n",
    "        fitness_sorteados = []\n",
    "        for individuo in sorteados:\n",
    "            indice_individuo = populacao.index(individuo)\n",
    "            fitness_sorteados.append(fitness[indice_individuo])\n",
    "\n",
    "        min_fitness = min(fitness_sorteados)\n",
    "        indice_min_fitness = fitness_sorteados.index(min_fitness)\n",
    "        individuo_selecionado = sorteados[indice_min_fitness]\n",
    "\n",
    "        selecionados.append(individuo_selecionado)\n",
    "\n",
    "    return selecionados\n",
    "\n",
    "def cruzamento_ordenado(pai, mae, chance_de_cruzamento):\n",
    "    \"\"\"Cruzamento ordenado entre dois individuos\n",
    "\n",
    "    Args:\n",
    "      pai: lista representando um individuo\n",
    "      mae: lista representando um individuo\n",
    "      chance_de_cruzamento: float entre 0 e 1 representando a chance de cruzamento\n",
    "\n",
    "    \"\"\"\n",
    "    if random.random() < chance_de_cruzamento:\n",
    "        tamanho_individuo = len(mae)\n",
    "\n",
    "        # pontos de corte\n",
    "        corte1 = random.randint(0, tamanho_individuo - 2)\n",
    "        corte2 = random.randint(corte1 + 1, tamanho_individuo)\n",
    "\n",
    "        # filho1\n",
    "        filho1 = [None] * tamanho_individuo\n",
    "        filho1[corte1:corte2] = mae[corte1:corte2]\n",
    "        pai_ = pai[corte2:] + pai[:corte2]\n",
    "        posicao = corte2 % tamanho_individuo\n",
    "        for valor in pai_:\n",
    "            if valor not in filho1:\n",
    "                filho1[posicao] = valor\n",
    "                posicao += 1\n",
    "                posicao %= tamanho_individuo\n",
    "\n",
    "        # filho2\n",
    "        filho2 = [None] * tamanho_individuo\n",
    "        filho2[corte1:corte2] = pai[corte1:corte2]\n",
    "        mae_ = mae[corte2:] + mae[:corte2]\n",
    "        posicao = corte2 % tamanho_individuo\n",
    "        for valor in mae_:\n",
    "            if valor not in filho2:\n",
    "                filho2[posicao] = valor\n",
    "                posicao += 1\n",
    "                posicao %= tamanho_individuo\n",
    "\n",
    "        return filho1, filho2\n",
    "    else:\n",
    "        return pai, mae\n",
    "    \n",
    "def mutacao_troca(populacao, chance_de_mutacao):\n",
    "    \"\"\"Aplica mutacao de troca em um indivíduo\n",
    "\n",
    "    Args:\n",
    "      populacao: lista contendo os indivíduos do problema\n",
    "      chance_de_mutacao: float entre 0 e 1 representando a chance de mutação\n",
    "\n",
    "    \"\"\"\n",
    "    for individuo in populacao:\n",
    "        if random.random() < chance_de_mutacao:\n",
    "            gene1 = random.randint(0, len(individuo) - 1)\n",
    "            gene2 = random.randint(0, len(individuo) - 1)\n",
    "\n",
    "            while gene1 == gene2:\n",
    "                gene1 = random.randint(0, len(individuo) - 1)\n",
    "                gene2 = random.randint(0, len(individuo) - 1)\n",
    "\n",
    "            individuo[gene1], individuo[gene2] = (\n",
    "                individuo[gene2],\n",
    "                individuo[gene1],\n",
    "            )\n",
    "\n",
    "def mutacao_permutacao(populacao, chance_de_mutacao):\n",
    "    \"\"\"Aplica mutacao de permutacao em um indivíduo\n",
    "\n",
    "    Args:\n",
    "      populacao: lista contendo os indivíduos do problema\n",
    "      chance_de_mutacao: float entre 0 e 1 representando a chance de mutação\n",
    "\n",
    "    \"\"\"\n",
    "    for individuo in populacao:\n",
    "        if random.random() < chance_de_mutacao:\n",
    "            gene = random.shuffle(individuo)"
   ]
  },
  {
   "cell_type": "code",
   "execution_count": 181,
   "metadata": {},
   "outputs": [
    {
     "name": "stdout",
     "output_type": "stream",
     "text": [
      "{'Cidade 0': (213, 5), 'Cidade 1': (152, 188), 'Cidade 2': (99, 138), 'Cidade 3': (289, 223), 'Cidade 4': (82, 191), 'Cidade 5': (63, 221), 'Cidade 6': (133, 287)}\n"
     ]
    }
   ],
   "source": [
    "# Criando indivíduos\n",
    "CIDADES = cria_cidades(7)\n",
    "print(CIDADES)"
   ]
  },
  {
   "cell_type": "code",
   "execution_count": 182,
   "metadata": {},
   "outputs": [
    {
     "data": {
      "text/plain": [
       "Text(0, 0.5, 'Coordenada Y')"
      ]
     },
     "execution_count": 182,
     "metadata": {},
     "output_type": "execute_result"
    },
    {
     "data": {
      "image/png": "[encoded data removed]",
      "text/plain": [
       "<Figure size 640x480 with 1 Axes>"
      ]
     },
     "metadata": {},
     "output_type": "display_data"
    }
   ],
   "source": [
    "#Plotando as cidades e um possível trajeto entre elas\n",
    "x = [CIDADES[cidade][0] for cidade in CIDADES]\n",
    "y = [CIDADES[cidade][1] for cidade in CIDADES]\n",
    "plt.plot(x,y)\n",
    "plt.grid()\n",
    "plt.title(\"Trajeto entre cidades\")\n",
    "plt.xlabel(\"Coordenada X\")\n",
    "plt.ylabel(\"Coordenada Y\")"
   ]
  },
  {
   "cell_type": "code",
   "execution_count": 183,
   "metadata": {},
   "outputs": [
    {
     "data": {
      "text/plain": [
       "['Cidade 5',\n",
       " 'Cidade 1',\n",
       " 'Cidade 4',\n",
       " 'Cidade 6',\n",
       " 'Cidade 3',\n",
       " 'Cidade 0',\n",
       " 'Cidade 2']"
      ]
     },
     "execution_count": 183,
     "metadata": {},
     "output_type": "execute_result"
    }
   ],
   "source": [
    "cria_candidato_caixeiro(CIDADES)"
   ]
  },
  {
   "cell_type": "code",
   "execution_count": 184,
   "metadata": {},
   "outputs": [],
   "source": [
    "# Definindo parâmetros que serão utilizados no algoritmo genético\n",
    "TAMANHO_POPULACAO = 100\n",
    "NUM_GERACOES = 500\n",
    "CHANCE_DE_CRUZAMENTO = 0.5\n",
    "CHANCE_DE_MUTACAO = 0.05\n",
    "TAMANHO_TORNEIO = 3"
   ]
  },
  {
   "cell_type": "code",
   "execution_count": 185,
   "metadata": {},
   "outputs": [
    {
     "name": "stdout",
     "output_type": "stream",
     "text": [
      "[['Cidade 4', 'Cidade 6', 'Cidade 1', 'Cidade 5', 'Cidade 0', 'Cidade 2', 'Cidade 3'], ['Cidade 6', 'Cidade 2', 'Cidade 5', 'Cidade 0', 'Cidade 1', 'Cidade 4', 'Cidade 3'], ['Cidade 4', 'Cidade 5', 'Cidade 3', 'Cidade 0', 'Cidade 6', 'Cidade 2', 'Cidade 1'], ['Cidade 2', 'Cidade 0', 'Cidade 3', 'Cidade 5', 'Cidade 6', 'Cidade 4', 'Cidade 1'], ['Cidade 1', 'Cidade 4', 'Cidade 5', 'Cidade 2', 'Cidade 0', 'Cidade 3', 'Cidade 6'], ['Cidade 6', 'Cidade 3', 'Cidade 1', 'Cidade 4', 'Cidade 5', 'Cidade 2', 'Cidade 0'], ['Cidade 0', 'Cidade 1', 'Cidade 2', 'Cidade 6', 'Cidade 3', 'Cidade 4', 'Cidade 5'], ['Cidade 4', 'Cidade 2', 'Cidade 1', 'Cidade 3', 'Cidade 6', 'Cidade 0', 'Cidade 5'], ['Cidade 0', 'Cidade 5', 'Cidade 3', 'Cidade 6', 'Cidade 1', 'Cidade 4', 'Cidade 2'], ['Cidade 6', 'Cidade 5', 'Cidade 2', 'Cidade 1', 'Cidade 4', 'Cidade 0', 'Cidade 3'], ['Cidade 4', 'Cidade 0', 'Cidade 5', 'Cidade 3', 'Cidade 1', 'Cidade 2', 'Cidade 6'], ['Cidade 2', 'Cidade 5', 'Cidade 0', 'Cidade 1', 'Cidade 4', 'Cidade 3', 'Cidade 6'], ['Cidade 2', 'Cidade 1', 'Cidade 5', 'Cidade 4', 'Cidade 0', 'Cidade 3', 'Cidade 6'], ['Cidade 4', 'Cidade 0', 'Cidade 6', 'Cidade 5', 'Cidade 3', 'Cidade 2', 'Cidade 1'], ['Cidade 1', 'Cidade 4', 'Cidade 0', 'Cidade 2', 'Cidade 3', 'Cidade 6', 'Cidade 5'], ['Cidade 6', 'Cidade 3', 'Cidade 5', 'Cidade 1', 'Cidade 0', 'Cidade 2', 'Cidade 4'], ['Cidade 2', 'Cidade 6', 'Cidade 1', 'Cidade 3', 'Cidade 0', 'Cidade 5', 'Cidade 4'], ['Cidade 3', 'Cidade 4', 'Cidade 6', 'Cidade 2', 'Cidade 0', 'Cidade 5', 'Cidade 1'], ['Cidade 5', 'Cidade 1', 'Cidade 4', 'Cidade 6', 'Cidade 2', 'Cidade 0', 'Cidade 3'], ['Cidade 2', 'Cidade 4', 'Cidade 6', 'Cidade 1', 'Cidade 5', 'Cidade 0', 'Cidade 3'], ['Cidade 6', 'Cidade 3', 'Cidade 0', 'Cidade 2', 'Cidade 5', 'Cidade 4', 'Cidade 1'], ['Cidade 1', 'Cidade 2', 'Cidade 0', 'Cidade 5', 'Cidade 3', 'Cidade 6', 'Cidade 4'], ['Cidade 3', 'Cidade 2', 'Cidade 6', 'Cidade 5', 'Cidade 1', 'Cidade 4', 'Cidade 0'], ['Cidade 0', 'Cidade 2', 'Cidade 3', 'Cidade 6', 'Cidade 4', 'Cidade 1', 'Cidade 5'], ['Cidade 0', 'Cidade 5', 'Cidade 6', 'Cidade 4', 'Cidade 3', 'Cidade 2', 'Cidade 1'], ['Cidade 3', 'Cidade 1', 'Cidade 2', 'Cidade 4', 'Cidade 0', 'Cidade 5', 'Cidade 6'], ['Cidade 6', 'Cidade 3', 'Cidade 0', 'Cidade 2', 'Cidade 1', 'Cidade 4', 'Cidade 5'], ['Cidade 1', 'Cidade 6', 'Cidade 0', 'Cidade 5', 'Cidade 3', 'Cidade 4', 'Cidade 2'], ['Cidade 3', 'Cidade 1', 'Cidade 0', 'Cidade 5', 'Cidade 4', 'Cidade 2', 'Cidade 6'], ['Cidade 3', 'Cidade 2', 'Cidade 0', 'Cidade 1', 'Cidade 4', 'Cidade 6', 'Cidade 5'], ['Cidade 4', 'Cidade 1', 'Cidade 2', 'Cidade 6', 'Cidade 0', 'Cidade 5', 'Cidade 3'], ['Cidade 6', 'Cidade 0', 'Cidade 5', 'Cidade 1', 'Cidade 2', 'Cidade 3', 'Cidade 4'], ['Cidade 6', 'Cidade 4', 'Cidade 1', 'Cidade 2', 'Cidade 3', 'Cidade 0', 'Cidade 5'], ['Cidade 3', 'Cidade 6', 'Cidade 0', 'Cidade 2', 'Cidade 5', 'Cidade 4', 'Cidade 1'], ['Cidade 2', 'Cidade 5', 'Cidade 4', 'Cidade 0', 'Cidade 1', 'Cidade 6', 'Cidade 3'], ['Cidade 0', 'Cidade 2', 'Cidade 5', 'Cidade 3', 'Cidade 1', 'Cidade 6', 'Cidade 4'], ['Cidade 4', 'Cidade 6', 'Cidade 0', 'Cidade 5', 'Cidade 1', 'Cidade 3', 'Cidade 2'], ['Cidade 4', 'Cidade 1', 'Cidade 0', 'Cidade 6', 'Cidade 5', 'Cidade 3', 'Cidade 2'], ['Cidade 3', 'Cidade 6', 'Cidade 5', 'Cidade 0', 'Cidade 1', 'Cidade 4', 'Cidade 2'], ['Cidade 2', 'Cidade 5', 'Cidade 1', 'Cidade 3', 'Cidade 6', 'Cidade 0', 'Cidade 4'], ['Cidade 1', 'Cidade 6', 'Cidade 4', 'Cidade 5', 'Cidade 0', 'Cidade 3', 'Cidade 2'], ['Cidade 5', 'Cidade 1', 'Cidade 0', 'Cidade 4', 'Cidade 2', 'Cidade 3', 'Cidade 6'], ['Cidade 2', 'Cidade 4', 'Cidade 1', 'Cidade 5', 'Cidade 3', 'Cidade 0', 'Cidade 6'], ['Cidade 2', 'Cidade 5', 'Cidade 3', 'Cidade 4', 'Cidade 6', 'Cidade 0', 'Cidade 1'], ['Cidade 6', 'Cidade 4', 'Cidade 0', 'Cidade 5', 'Cidade 2', 'Cidade 1', 'Cidade 3'], ['Cidade 3', 'Cidade 6', 'Cidade 0', 'Cidade 5', 'Cidade 1', 'Cidade 4', 'Cidade 2'], ['Cidade 1', 'Cidade 3', 'Cidade 2', 'Cidade 5', 'Cidade 4', 'Cidade 0', 'Cidade 6'], ['Cidade 1', 'Cidade 5', 'Cidade 4', 'Cidade 3', 'Cidade 6', 'Cidade 0', 'Cidade 2'], ['Cidade 4', 'Cidade 5', 'Cidade 2', 'Cidade 0', 'Cidade 1', 'Cidade 6', 'Cidade 3'], ['Cidade 6', 'Cidade 5', 'Cidade 2', 'Cidade 0', 'Cidade 4', 'Cidade 1', 'Cidade 3'], ['Cidade 1', 'Cidade 4', 'Cidade 2', 'Cidade 6', 'Cidade 0', 'Cidade 5', 'Cidade 3'], ['Cidade 4', 'Cidade 0', 'Cidade 5', 'Cidade 1', 'Cidade 2', 'Cidade 6', 'Cidade 3'], ['Cidade 1', 'Cidade 6', 'Cidade 4', 'Cidade 2', 'Cidade 3', 'Cidade 5', 'Cidade 0'], ['Cidade 1', 'Cidade 3', 'Cidade 5', 'Cidade 4', 'Cidade 2', 'Cidade 6', 'Cidade 0'], ['Cidade 4', 'Cidade 2', 'Cidade 6', 'Cidade 0', 'Cidade 5', 'Cidade 1', 'Cidade 3'], ['Cidade 5', 'Cidade 1', 'Cidade 3', 'Cidade 0', 'Cidade 2', 'Cidade 4', 'Cidade 6'], ['Cidade 2', 'Cidade 5', 'Cidade 6', 'Cidade 3', 'Cidade 4', 'Cidade 1', 'Cidade 0'], ['Cidade 0', 'Cidade 3', 'Cidade 6', 'Cidade 5', 'Cidade 4', 'Cidade 2', 'Cidade 1'], ['Cidade 1', 'Cidade 5', 'Cidade 0', 'Cidade 2', 'Cidade 4', 'Cidade 6', 'Cidade 3'], ['Cidade 3', 'Cidade 1', 'Cidade 2', 'Cidade 4', 'Cidade 6', 'Cidade 5', 'Cidade 0'], ['Cidade 0', 'Cidade 2', 'Cidade 1', 'Cidade 3', 'Cidade 6', 'Cidade 4', 'Cidade 5'], ['Cidade 3', 'Cidade 1', 'Cidade 4', 'Cidade 2', 'Cidade 6', 'Cidade 5', 'Cidade 0'], ['Cidade 3', 'Cidade 6', 'Cidade 0', 'Cidade 5', 'Cidade 1', 'Cidade 4', 'Cidade 2'], ['Cidade 3', 'Cidade 1', 'Cidade 4', 'Cidade 2', 'Cidade 5', 'Cidade 6', 'Cidade 0'], ['Cidade 3', 'Cidade 2', 'Cidade 0', 'Cidade 1', 'Cidade 4', 'Cidade 5', 'Cidade 6'], ['Cidade 6', 'Cidade 3', 'Cidade 1', 'Cidade 2', 'Cidade 0', 'Cidade 5', 'Cidade 4'], ['Cidade 0', 'Cidade 6', 'Cidade 2', 'Cidade 4', 'Cidade 3', 'Cidade 5', 'Cidade 1'], ['Cidade 4', 'Cidade 6', 'Cidade 2', 'Cidade 5', 'Cidade 1', 'Cidade 3', 'Cidade 0'], ['Cidade 4', 'Cidade 0', 'Cidade 6', 'Cidade 3', 'Cidade 1', 'Cidade 2', 'Cidade 5'], ['Cidade 2', 'Cidade 0', 'Cidade 1', 'Cidade 6', 'Cidade 3', 'Cidade 5', 'Cidade 4'], ['Cidade 1', 'Cidade 4', 'Cidade 6', 'Cidade 2', 'Cidade 0', 'Cidade 5', 'Cidade 3'], ['Cidade 0', 'Cidade 6', 'Cidade 1', 'Cidade 4', 'Cidade 2', 'Cidade 5', 'Cidade 3'], ['Cidade 0', 'Cidade 6', 'Cidade 1', 'Cidade 3', 'Cidade 4', 'Cidade 2', 'Cidade 5'], ['Cidade 1', 'Cidade 6', 'Cidade 4', 'Cidade 5', 'Cidade 3', 'Cidade 0', 'Cidade 2'], ['Cidade 5', 'Cidade 0', 'Cidade 1', 'Cidade 6', 'Cidade 3', 'Cidade 4', 'Cidade 2'], ['Cidade 2', 'Cidade 6', 'Cidade 1', 'Cidade 5', 'Cidade 0', 'Cidade 4', 'Cidade 3'], ['Cidade 0', 'Cidade 2', 'Cidade 1', 'Cidade 5', 'Cidade 4', 'Cidade 6', 'Cidade 3'], ['Cidade 3', 'Cidade 0', 'Cidade 6', 'Cidade 1', 'Cidade 4', 'Cidade 5', 'Cidade 2'], ['Cidade 4', 'Cidade 5', 'Cidade 6', 'Cidade 2', 'Cidade 3', 'Cidade 1', 'Cidade 0'], ['Cidade 5', 'Cidade 0', 'Cidade 4', 'Cidade 2', 'Cidade 3', 'Cidade 1', 'Cidade 6'], ['Cidade 3', 'Cidade 0', 'Cidade 5', 'Cidade 1', 'Cidade 6', 'Cidade 4', 'Cidade 2'], ['Cidade 5', 'Cidade 4', 'Cidade 0', 'Cidade 6', 'Cidade 1', 'Cidade 3', 'Cidade 2'], ['Cidade 3', 'Cidade 5', 'Cidade 0', 'Cidade 6', 'Cidade 1', 'Cidade 2', 'Cidade 4'], ['Cidade 4', 'Cidade 6', 'Cidade 1', 'Cidade 5', 'Cidade 2', 'Cidade 0', 'Cidade 3'], ['Cidade 1', 'Cidade 2', 'Cidade 6', 'Cidade 0', 'Cidade 5', 'Cidade 4', 'Cidade 3'], ['Cidade 4', 'Cidade 5', 'Cidade 6', 'Cidade 2', 'Cidade 0', 'Cidade 1', 'Cidade 3'], ['Cidade 2', 'Cidade 0', 'Cidade 6', 'Cidade 3', 'Cidade 1', 'Cidade 4', 'Cidade 5'], ['Cidade 0', 'Cidade 3', 'Cidade 5', 'Cidade 1', 'Cidade 2', 'Cidade 6', 'Cidade 4'], ['Cidade 1', 'Cidade 4', 'Cidade 6', 'Cidade 5', 'Cidade 0', 'Cidade 2', 'Cidade 3'], ['Cidade 1', 'Cidade 6', 'Cidade 0', 'Cidade 4', 'Cidade 3', 'Cidade 2', 'Cidade 5'], ['Cidade 2', 'Cidade 0', 'Cidade 4', 'Cidade 6', 'Cidade 5', 'Cidade 1', 'Cidade 3'], ['Cidade 2', 'Cidade 5', 'Cidade 0', 'Cidade 4', 'Cidade 3', 'Cidade 1', 'Cidade 6'], ['Cidade 2', 'Cidade 3', 'Cidade 0', 'Cidade 4', 'Cidade 1', 'Cidade 5', 'Cidade 6'], ['Cidade 2', 'Cidade 3', 'Cidade 1', 'Cidade 5', 'Cidade 0', 'Cidade 4', 'Cidade 6'], ['Cidade 3', 'Cidade 5', 'Cidade 2', 'Cidade 1', 'Cidade 6', 'Cidade 0', 'Cidade 4'], ['Cidade 2', 'Cidade 0', 'Cidade 3', 'Cidade 6', 'Cidade 5', 'Cidade 1', 'Cidade 4'], ['Cidade 4', 'Cidade 1', 'Cidade 0', 'Cidade 6', 'Cidade 5', 'Cidade 2', 'Cidade 3'], ['Cidade 5', 'Cidade 1', 'Cidade 6', 'Cidade 2', 'Cidade 4', 'Cidade 0', 'Cidade 3'], ['Cidade 0', 'Cidade 1', 'Cidade 3', 'Cidade 5', 'Cidade 6', 'Cidade 2', 'Cidade 4'], ['Cidade 5', 'Cidade 0', 'Cidade 1', 'Cidade 3', 'Cidade 4', 'Cidade 2', 'Cidade 6']]\n"
     ]
    }
   ],
   "source": [
    "#Criando a população\n",
    "POPULACAO = populacao_caixeiro(TAMANHO_POPULACAO, CIDADES)\n",
    "print(POPULACAO)"
   ]
  },
  {
   "cell_type": "code",
   "execution_count": 186,
   "metadata": {},
   "outputs": [],
   "source": [
    "# Define a função objetivo, que será a função_objetivo_pop_caixeiro com o argumento cidades fixado\n",
    "funcao_objetivo = partial(funcao_objetivo_pop_caixeiro, cidades=CIDADES)"
   ]
  },
  {
   "cell_type": "code",
   "execution_count": 187,
   "metadata": {},
   "outputs": [],
   "source": [
    "hall_da_fama = []\n",
    "\n",
    "#Seleção\n",
    "fitness = funcao_objetivo(POPULACAO)\n",
    "selecionados = selecao_torneio_min(POPULACAO, fitness, TAMANHO_TORNEIO)\n",
    "\n",
    "#Cruzamento\n",
    "proxima_geracao = []\n",
    "for pai, mae in zip(selecionados[::2], selecionados[1::2]):\n",
    "    individuo1, individuo2 = cruzamento_ordenado(pai, mae, CHANCE_DE_CRUZAMENTO)\n",
    "    proxima_geracao.append(individuo1)\n",
    "    proxima_geracao.append(individuo2)\n",
    "\n",
    "#Mutação 1\n",
    "mutacao_troca(POPULACAO, CHANCE_DE_MUTACAO)\n",
    "    \n",
    "#Mutação 2\n",
    "mutacao_permutacao(POPULACAO, CHANCE_DE_MUTACAO)\n",
    "\n",
    "#Atualização do Hall da Fama\n",
    "fitness = funcao_objetivo(proxima_geracao)\n",
    "        \n",
    "menor_fitness = min(fitness)\n",
    "indice = fitness.index(menor_fitness)\n",
    "hall_da_fama.append(proxima_geracao[indice])   \n",
    "\n",
    "#Encerramento\n",
    "populacao = proxima_geracao"
   ]
  },
  {
   "cell_type": "code",
   "execution_count": 188,
   "metadata": {},
   "outputs": [
    {
     "name": "stdout",
     "output_type": "stream",
     "text": [
      "\n",
      "Melhor individuo obtido por algoritmos genéticos:\n",
      "['Cidade 3', 'Cidade 1', 'Cidade 6', 'Cidade 5', 'Cidade 4', 'Cidade 2', 'Cidade 0'] com distância: 835.624509325414\n"
     ]
    }
   ],
   "source": [
    "fitness = funcao_objetivo(hall_da_fama)\n",
    "menor_fitness = min(fitness)\n",
    "indice = fitness.index(menor_fitness)\n",
    "melhor_individuo_observado = hall_da_fama[indice]\n",
    "distancia = funcao_objetivo_caixeiro(melhor_individuo_observado, CIDADES)\n",
    "\n",
    "print()\n",
    "print(\"Melhor individuo obtido por algoritmos genéticos:\")\n",
    "print(melhor_individuo_observado, \"com distância:\", distancia)"
   ]
  },
  {
   "cell_type": "markdown",
   "metadata": {},
   "source": [
    "### 💡 **Analisando os resultados** \n",
    "\n",
    "Através desse código, aplicamos diferentes estratégias de mutação para o problema do caixeiro viajante.Como não podemos passar pela mesma cidade mais de uma vez no problema do caixeiro viajante, precisamos garantir que a mutação não irá gerar indivíduos inválidos para o problema. Nesse sentido, utilizamos as mutações de troca e permutação. Na mutação de troca, um gene do indivíduo é trocado por outro gene sorteado dentro do range de indivíduos possíveis; caso esse gene já exista no indivíduo, o sorteio é realizado novamente até encontrarmos um indivíduo válido. Já na permutação, os genes do indivíduo são embaralhados, mantendo os mesmos genes, mas alterando a ordem. O código convergiu para a solução do problema, o que demonstra que o algoritmo funciona de forma eficiente.\n",
    "\n",
    "----\n",
    "### 📚 Referências:\n",
    "\n",
    "OPENAI. ChatGPT (versão GPT-4) [programa de computador]. Disponível em: <https://chatgpt.com/share/682cde5d-7b40-8005-94ca-adf39839902d>. Acesso em: 20 maio 2025."
   ]
  }
 ],
 "metadata": {
  "kernelspec": {
   "display_name": "Python 3",
   "language": "python",
   "name": "python3"
  },
  "language_info": {
   "codemirror_mode": {
    "name": "ipython",
    "version": 3
   },
   "file_extension": ".py",
   "mimetype": "text/x-python",
   "name": "python",
   "nbconvert_exporter": "python",
   "pygments_lexer": "ipython3",
   "version": "3.11.6"
  }
 },
 "nbformat": 4,
 "nbformat_minor": 2
}
