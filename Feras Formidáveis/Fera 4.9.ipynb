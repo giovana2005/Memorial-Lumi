{
 "cells": [
  {
   "cell_type": "markdown",
   "metadata": {},
   "source": [
    "# **<span style=\"font-family: 'Palatino Linotype', serif;\"> 📜✨🔐 A senha de tamanho variável </span>**\n",
    "----\n",
    "*<span style=\"font-family: 'Angilla Tattoo'\"> \"Forjada no fulgor das runas líquidas, a Senha de Tamanho Variável respondia apenas à vontade arcana da Maga Patolina.\"🪄📡📘 </span>*\n",
    "\n",
    "\n",
    "\n",
    "<div align=\"center\">\n",
    "    <img src = \"Maga senha.png\" alt = \"Maga senha\" width = 250>\n",
    "</div>\n",
    "\n",
    "----\n",
    " **Objetivo:** Nesse notebook, iremos resolver o problema da senha variável, sem fornecer o tamanho da senha para que a população seja formada. Para isso, iremos adapatar nossa função objetivo, que irá levar em conta tanto a distância entre os caracteres da senha possível com a senha real, quanto a distância entre o tamanho (quantidade de caracteres), entre senha possível e senha real.\n",
    " \n",
    " ----"
   ]
  },
  {
   "cell_type": "code",
   "execution_count": 222,
   "metadata": {},
   "outputs": [],
   "source": [
    "# Importar biblioteca\n",
    "\n",
    "import random\n",
    "from string import ascii_lowercase, ascii_uppercase, digits"
   ]
  },
  {
   "cell_type": "markdown",
   "metadata": {},
   "source": [
    "Adicinamos o caracter \"\\0\" aos caracteres possíveis, ele indica um caracter ausente. Esse caracter não é printando pelo Python."
   ]
  },
  {
   "cell_type": "code",
   "execution_count": 223,
   "metadata": {},
   "outputs": [
    {
     "name": "stdout",
     "output_type": "stream",
     "text": [
      "oi\u0000Cassar\n",
      "tchau!\u0000\n"
     ]
    }
   ],
   "source": [
    "senha = \"oi\\0Cassar\"\n",
    "print(senha)\n",
    "senha_2 = \"tchau!\\0\"\n",
    "print(senha_2)"
   ]
  },
  {
   "cell_type": "code",
   "execution_count": 224,
   "metadata": {},
   "outputs": [
    {
     "name": "stdout",
     "output_type": "stream",
     "text": [
      "abcdefghijklmnopqrstuvwxyzABCDEFGHIJKLMNOPQRSTUVWXYZ0123456789\u0000\n"
     ]
    }
   ],
   "source": [
    "AUSENTE = \"\\0\"\n",
    "candidato_possivel = ascii_lowercase + ascii_uppercase + digits + AUSENTE\n",
    "print(candidato_possivel)"
   ]
  },
  {
   "cell_type": "code",
   "execution_count": 225,
   "metadata": {},
   "outputs": [],
   "source": [
    "# Função criar gene\n",
    "def cria_gene_senha(candidato_possivel):\n",
    "\n",
    "    candidato = random.choice(candidato_possivel) \n",
    "    return candidato"
   ]
  },
  {
   "cell_type": "code",
   "execution_count": 226,
   "metadata": {},
   "outputs": [],
   "source": [
    "# Função cria candidato\n",
    "\n",
    "def cria_candidato_senha(tamanho_max, candidato_possivel):\n",
    "    candidato = []\n",
    "    \n",
    "    for i in range(tamanho_max):\n",
    "        gene = cria_gene_senha(candidato_possivel)\n",
    "        candidato.append(gene)\n",
    "\n",
    "    return candidato"
   ]
  },
  {
   "cell_type": "code",
   "execution_count": 227,
   "metadata": {},
   "outputs": [],
   "source": [
    "# Função criar população\n",
    "def populacao_senha(tamanho_populacao, tamanho_max, candidato_possivel):\n",
    "    \n",
    "    populacao = []\n",
    "\n",
    "    for _ in range(tamanho_populacao):\n",
    "        populacao.append(cria_candidato_senha(tamanho_max, candidato_possivel))\n",
    "\n",
    "    return populacao\n"
   ]
  },
  {
   "cell_type": "code",
   "execution_count": 228,
   "metadata": {},
   "outputs": [],
   "source": [
    "def funcao_objetivo_senha(candidato, senha_verdadeira):\n",
    "    \n",
    "    distancia_gene = 0\n",
    "    distancia_tamanho = abs(len(candidato) - len(senha_verdadeira))\n",
    "    \n",
    "    limite = min(len(candidato), len(senha_verdadeira)) # encontra o valor mínimo de carateres entre o candidato e a senha verdadeira\n",
    "    for i in range(limite):\n",
    "        num_candidato = ord(candidato[i])\n",
    "        num_verdadeira = ord(senha_verdadeira[i])\n",
    "        distancia_gene += abs(num_candidato - num_verdadeira)\n",
    "\n",
    "    fitness = distancia_gene + distancia_tamanho\n",
    "    return fitness\n",
    "\n",
    "\n",
    "def funcao_objetivo_pop_senha(populacao, senha_verdadeira):\n",
    "    \n",
    "    fitness = []\n",
    "\n",
    "    for individuo in populacao:\n",
    "        fitness.append(funcao_objetivo_senha(individuo, senha_verdadeira))\n",
    "\n",
    "    return fitness"
   ]
  },
  {
   "cell_type": "code",
   "execution_count": 229,
   "metadata": {},
   "outputs": [],
   "source": [
    "# Função de seleção\n",
    "\n",
    "def selecao_torneio_min(populacao, fitness, tamanho_torneio):\n",
    "\n",
    "    selecionados = []\n",
    "\n",
    "    for _ in range(len(populacao)):\n",
    "        sorteados = random.sample(populacao, tamanho_torneio)\n",
    "\n",
    "        fitness_sorteados = []\n",
    "        for individuo in sorteados:\n",
    "            indice_individuo = populacao.index(individuo)\n",
    "            fitness_sorteados.append(fitness[indice_individuo])\n",
    "\n",
    "        min_fitness = min(fitness_sorteados)\n",
    "        indice_min_fitness = fitness_sorteados.index(min_fitness)\n",
    "        individuo_selecionado = sorteados[indice_min_fitness]\n",
    "\n",
    "        selecionados.append(individuo_selecionado)\n",
    "\n",
    "    return selecionados"
   ]
  },
  {
   "cell_type": "code",
   "execution_count": 230,
   "metadata": {},
   "outputs": [],
   "source": [
    "# Função de cruzamento\n",
    "\n",
    "def cruzamento_ponto_simples_senha(pai, mae, chance_de_cruzamento, SENHA):\n",
    "  \n",
    "    index_pai_max = len(pai)\n",
    "    index_mae_max = len(mae)\n",
    "            \n",
    "            \n",
    "    if random.random() < chance_de_cruzamento:\n",
    "        # verificar o valor mínimo possível para os index\n",
    "        limite = min(index_mae_max, index_pai_max)\n",
    "        if limite <= 1:\n",
    "            corte = 1\n",
    "        else:\n",
    "            corte = random.randint(1, limite - 1)\n",
    "            \n",
    "        filho1 = pai[:corte] + mae[corte:limite]\n",
    "        filho1 += [AUSENTE] * (len(SENHA) - len(filho1))\n",
    "        filho2 = mae[:corte] + pai[corte:limite]\n",
    "        filho2 += [AUSENTE] * (len(SENHA) - len(filho2))\n",
    "        return filho1, filho2\n",
    "    else:\n",
    "        return pai, mae"
   ]
  },
  {
   "cell_type": "code",
   "execution_count": 231,
   "metadata": {},
   "outputs": [],
   "source": [
    "# Função mutação simples\n",
    "def mutacao_simples(populacao, chance_de_mutacao, valores_possiveis):\n",
    "   \n",
    "    for individuo in populacao:\n",
    "        if random.random() < chance_de_mutacao:\n",
    "\n",
    "            index_individuo = len(individuo) - 1\n",
    "\n",
    "            if index_individuo == 0:\n",
    "                continue\n",
    "\n",
    "            gene = random.randint(0, index_individuo) # escolhe o índice que será mutado\n",
    "            valor_gene = individuo[gene] # armazena o valor do gene    \n",
    "            valores_sorteio = set(valores_possiveis) - {valor_gene} # cria a lista dos valores que podem ser sorteados (qualquer valor possível excluindo o valor do próprio gene)\n",
    "            individuo[gene] = random.choice(list(valores_sorteio)) "
   ]
  },
  {
   "cell_type": "code",
   "execution_count": 232,
   "metadata": {},
   "outputs": [
    {
     "name": "stdout",
     "output_type": "stream",
     "text": [
      "['R', 'o', 'b', 'e', 'r', 't', 'i', 'n', 'h', 'a', '2', '7', '0', '5', '\\x00', '\\x00', '\\x00', '\\x00', '\\x00', '\\x00', '\\x00', '\\x00', '\\x00', '\\x00', '\\x00', '\\x00', '\\x00', '\\x00', '\\x00', '\\x00']\n"
     ]
    }
   ],
   "source": [
    "senha = \"Robertinha2705\"\n",
    "\n",
    "AUSENTE = '\\0'\n",
    "SENHA = list(senha) \n",
    "SENHA = SENHA  + ([AUSENTE] * (30 - len(SENHA)))\n",
    "\n",
    "CARACTERES_POSSIVEIS = ascii_lowercase + ascii_uppercase + digits + AUSENTE\n",
    "\n",
    "TAMANHO_POPULACAO = 2_000\n",
    "CHANCE_DE_CRUZAMENTO = 0.5\n",
    "CHANCE_DE_MUTACAO = 0.3\n",
    "TAMANHO_TORNEIO = 3\n",
    "TAMANHO_MAXIMO_SENHA = 30\n",
    "\n",
    "print(SENHA)"
   ]
  },
  {
   "cell_type": "code",
   "execution_count": 233,
   "metadata": {},
   "outputs": [],
   "source": [
    "populacao = populacao_senha(TAMANHO_POPULACAO, len(SENHA), CARACTERES_POSSIVEIS)"
   ]
  },
  {
   "cell_type": "code",
   "execution_count": 234,
   "metadata": {},
   "outputs": [
    {
     "name": "stdout",
     "output_type": "stream",
     "text": [
      "1 oLwfuPGk4Y99zFXMFh6j216Q0O\u0000S74\n",
      "2 dhulwo2SgeJ9xS44VL6j216Q0O\u0000S74\n",
      "3 OrWgozqT0EPr3z\u0000\u0000HJ5\u00008\u0000pu81S5PP\n",
      "4 VoKNszQikj4JBsRD\u0000Zd7777o599\u00002O\n",
      "5 VoKNszej1f3919Jb\u0000BeE9\u0000ueN21\u0000\u0000y\n",
      "6 RpqbpqXsYfRL29Jb\u0000B3E\u0000jgQ0O\u0000S74\n",
      "7 JjCDxjZVBPm1C1S21\u0000AB\u00001\u0000EB21\u0000\u0000y\n",
      "8 OrNgaqXsYfm1C1S21\u0000AB\u00001\u0000E0O\u0000274\n",
      "9 WRWbpqxtjH6275\u000032kx\u0000\u00000\u00000J\u00008344\n",
      "10 XXfmyshrvt7919Jb\u0000\u0000AB\u00001\u0000E0O\u0000274\n",
      "11 OrDfjeneuiBFC1\u0000\u0000HJ5\u00008\u0000p3j\u00001\n",
      "13 OrWgoshrvt7419\u0000\u0000\u0000B3B\u00001\u0000EB218\u0000F\n",
      "14 Xtfmyshrvt774j\u0000d\u0000\u0000\u0000\u00008\u00002\u0000w\u00006\u0000\u00008\n",
      "15 OrWgoshrvt7919\u0000d\u0000\u0000\u0000\u0000\u0000\u00002\u00000Y\u000027A\n",
      "16 OrWgoshrvt7419\u0000\u0000\u0000B3B\u00000\u00000J\u00000\u0000\u00004\n",
      "17 OrWgoshrvt7919\u0000d\u0000\u0000\u0000\u0000\u00000\u00000\u0000\u00008S74\n",
      "18 OrWabxhrvt7919\u0000\u00001\u0000\u0000\u0000\u00000\u0000Q021\u0000\u00004\n",
      "19 OrWgoshrvt7919\u0000d\u0000\u0000\u0000\u0000\u00000\u00000\u0000\u00008\n",
      "21 RpqbpqXsYf2275\u0000\u0000\u0000\u0000\u0000\u0000\u00001\u00000\u0000\u00006\u0000D\n",
      "22 OrWgoshrvt7419\u0000\u0000\u0000\u0000\u0000\u0000\u0000\u000020\u0000\u00001\n",
      "24 XXfmyshqlf3919\u0000\u0000\u0000\u0000\u0000\u0000\u0000\u00002\u0000\u0000\u00008\n",
      "25 TxbUyjhqlf3919\u0000\u0000\u0000\u0000\u0000\u0000\u0000\u00002\u0000\u0000\u00008\n",
      "26 XXfmyvhqlfB919\u0000\u0000\u0000\u0000\u0000\u0000\u00000\n",
      "28 Rpqbyshqlf3K19\u0000\u0000\u0000\u0000\u0000\u0000\u0000\u00002\n",
      "29 Rpqbyshqlc3UC1\n",
      "31 OrWbtqgkYg2275\n",
      "33 Tjdgoshaga3919\n",
      "36 Rpbfrshrgf3919\n",
      "39 Rpbfrshrla3919\n",
      "41 Rpbfrshkia3919\n",
      "50 Rpbfrshrga3815\n",
      "54 Rpbfrshqga3815\n",
      "57 Rpbfrshlga3815\n",
      "58 Rpbfrsioga3815\n",
      "65 Robfrshmga3715\n",
      "66 Robfrsimga3715\n",
      "72 Robfrsinia3805\n",
      "78 Robfrsinga3705\n",
      "82 Robertinga3715\n",
      "85 Robertinga3705\n",
      "94 Robertinga2705\n",
      "102 Robertinha2705\n"
     ]
    }
   ],
   "source": [
    "menor_fitness_geral = float(\"inf\")\n",
    "geracao = 0\n",
    "\n",
    "while menor_fitness_geral != 0:\n",
    "    \n",
    "    # Seleção\n",
    "    fitness = funcao_objetivo_pop_senha(populacao, SENHA)        \n",
    "    selecionados = selecao_torneio_min(populacao, fitness, TAMANHO_TORNEIO)\n",
    "    \n",
    "    # Cruzamento\n",
    "    proxima_geracao = []\n",
    "    for pai, mae in zip(selecionados[::2], selecionados[1::2]):\n",
    "        individuo1, individuo2 = cruzamento_ponto_simples_senha(pai, mae, CHANCE_DE_CRUZAMENTO, SENHA)\n",
    "        proxima_geracao.append(individuo1)\n",
    "        proxima_geracao.append(individuo2)\n",
    "    \n",
    "    # Mutação\n",
    "    mutacao_simples(proxima_geracao, CHANCE_DE_MUTACAO, list(CARACTERES_POSSIVEIS))\n",
    "\n",
    "    # Encerramento\n",
    "    populacao = proxima_geracao\n",
    "    geracao += 1\n",
    "    \n",
    "    fitness = funcao_objetivo_pop_senha(populacao, SENHA)\n",
    "    menor_fitness_observado = min(fitness)\n",
    "    \n",
    "    \n",
    "    if menor_fitness_observado < menor_fitness_geral:\n",
    "        menor_fitness_geral = menor_fitness_observado\n",
    "        indice = fitness.index(menor_fitness_observado)\n",
    "        candidato = populacao[indice]\n",
    "        print(geracao, \"\".join(candidato).rstrip(AUSENTE)) "
   ]
  },
  {
   "cell_type": "markdown",
   "metadata": {},
   "source": [
    "-----\n",
    "\n",
    "### 📊 Conclusão:\n",
    "\n",
    "Nesse notebook, exploramos o funcionamento dos algoritmos genéticos no contexto de uma senha variável. Nesse sentido, foi possível explorar a funcionalidade da função objetivo, e como podemos adaptar seus parâmetros as necessidades de cada problema. Nesse caso, além de calcular o quão distante o caracter sorteado estava do caracter real, também consideramos o quão distante o tamanho da senha sorteada está do tamanho da senha real. Ambos os resultados são utilizados como parâmetros para avaliar o quão bom é um candidato, permitindo que encontremos a senha de um usuário mesmo sem saber qual seu tamanho original. \n",
    "\n",
    "----\n",
    "### Agradeciemntos:\n",
    "\n",
    "Esse código foi feito com inspiração no código do colega Emanuel Piveta Pozzobon.\n",
    "\n",
    "----\n",
    "### 📚 Referências:\n",
    "\n",
    "1. ASCII Table. Disponível em: <https://www.ascii-code.com/>. Acesso em 25 de mai. de 2025. \n",
    "\n",
    "4. OPENAI. ChatGPT. 2025. Disponível em: <https://chatgpt.com/share/6835c114-fbb0-8005-8150-bc0df8241484>. Acesso em: 25 mai. 2025."
   ]
  }
 ],
 "metadata": {
  "kernelspec": {
   "display_name": "Python 3",
   "language": "python",
   "name": "python3"
  },
  "language_info": {
   "codemirror_mode": {
    "name": "ipython",
    "version": 3
   },
   "file_extension": ".py",
   "mimetype": "text/x-python",
   "name": "python",
   "nbconvert_exporter": "python",
   "pygments_lexer": "ipython3",
   "version": "3.11.6"
  }
 },
 "nbformat": 4,
 "nbformat_minor": 2
}
